{
 "cells": [
  {
   "cell_type": "markdown",
   "metadata": {},
   "source": [
    "# ETL Project\n",
    "## Terrence Cummings\n",
    "Scraping race mix by Minneapolis neighborhood"
   ]
  },
  {
   "cell_type": "code",
   "execution_count": null,
   "metadata": {},
   "outputs": [],
   "source": [
    "import pandas as pd\n",
    "from bs4 import BeautifulSoup\n",
    "import json\n",
    "import requests\n",
    "import pymongo\n",
    "from splinter import Browser\n",
    "from selenium import webdriver\n",
    "import time\n",
    "import sys\n",
    "import os\n",
    "import datetime\n",
    "from selenium.webdriver.chrome.options import Options\n",
    "chrome_options = Options()\n",
    "chrome_options.add_argument(\"--headless\")"
   ]
  },
  {
   "cell_type": "code",
   "execution_count": null,
   "metadata": {},
   "outputs": [],
   "source": [
    "\n",
    "#Initialize list to hold neighborhood URL's and neighborhood names\n",
    "nbhd_links_lst = []\n",
    "nbhd_names_lst = []\n",
    "\n",
    "#URL for the MSP neighborhoods page at MN Compass. This page contains all the links to the individual neighborhood pages.\n",
    "msp_nbhds_url = 'http://www.mncompass.org/profiles/neighborhoods/minneapolis-saint-paul'\n",
    "\n",
    "#Create Chrome web driver\n",
    "driver = webdriver.Chrome(options=chrome_options)\n",
    "\n",
    "#Send the webdriver to the link\n",
    "driver.get(msp_nbhds_url)\n",
    "\n",
    "#Extract an object containing all the neighborhood links. Uses Selenium Xpath.\n",
    "nbhd_links = driver.find_elements_by_xpath('//*[@id=\"list\"]/div/ul[2]/li[*]/a')\n",
    "\n",
    "#Go through each Selenium item and extract the link for the neighborhood.\n",
    "for nbhd in nbhd_links:\n",
    "    href = nbhd.get_attribute('href')\n",
    "    #Add the link to the list of neighborhood links\n",
    "    nbhd_links_lst.append(href)\n",
    "    #Extract the name of the neighborhood from the end of the URL and add to the list of neighborhood names.\n",
    "    nbhd_names_lst.append(href[60:])\n",
    "\n",
    "#Close the webdriver    \n",
    "driver.close()\n",
    "nbhd_links_lst"
   ]
  },
  {
   "cell_type": "code",
   "execution_count": null,
   "metadata": {},
   "outputs": [],
   "source": [
    "#Open the webdriver\n",
    "driver = webdriver.Chrome(options=chrome_options)\n",
    "\n",
    "#Initialize lists to hold the count and percentage for each race. The list is in the same order as the neighborhoods above.\n",
    "white_cnt_lst = []\n",
    "white_pct_lst = []\n",
    "black_cnt_lst = []\n",
    "black_pct_lst = []\n",
    "native_cnt_lst = []\n",
    "native_pct_lst = []\n",
    "asian_cnt_lst = []\n",
    "asian_pct_lst = []\n",
    "other_cnt_lst = []\n",
    "other_pct_lst = []\n",
    "twoormore_cnt_lst = []\n",
    "twoormore_pct_lst = []\n",
    "hispanic_cnt_lst = []\n",
    "hispanic_pct_lst = []\n",
    "ofcolor_cnt_lst = []\n",
    "ofcolor_pct_lst = []\n",
    "\n",
    "#For each neighborhood\n",
    "for nbhd_link in nbhd_links_lst:\n",
    "    #Go to the link for the neighborhood\n",
    "    driver.get(nbhd_link)\n",
    "    #A short timer to give the browser time to respond\n",
    "    time.sleep(1)\n",
    "    #Use Selenium Xpath to extract the table list for the race, access the count and percent elements of the list and add to lists\n",
    "    nbhd_white = driver.find_elements_by_xpath('//*[@id=\"totalWhite\"]')\n",
    "    white_cnt_lst.append(nbhd_white[0].text)\n",
    "    white_pct_lst.append(nbhd_white[2].text)\n",
    "    nbhd_black = driver.find_elements_by_xpath('//*[@id=\"totalBlack\"]')\n",
    "    black_cnt_lst.append(nbhd_black[0].text)\n",
    "    black_pct_lst.append(nbhd_black[2].text)\n",
    "    nbhd_native = driver.find_elements_by_xpath('//*[@id=\"totalNative\"]')\n",
    "    native_cnt_lst.append(nbhd_native[0].text)\n",
    "    native_pct_lst.append(nbhd_native[2].text)\n",
    "    nbhd_asian = driver.find_elements_by_xpath('//*[@id=\"totalAsian\"]')\n",
    "    asian_cnt_lst.append(nbhd_asian[0].text)\n",
    "    asian_pct_lst.append(nbhd_asian[2].text)\n",
    "    nbhd_other = driver.find_elements_by_xpath('//*[@id=\"totalOther\"]')\n",
    "    other_cnt_lst.append(nbhd_other[0].text)\n",
    "    other_pct_lst.append(nbhd_other[2].text)\n",
    "    nbhd_twoormore = driver.find_elements_by_xpath('//*[@id=\"twoOrMoreRaces\"]')\n",
    "    twoormore_cnt_lst.append(nbhd_twoormore[0].text)\n",
    "    twoormore_pct_lst.append(nbhd_twoormore[2].text)\n",
    "    nbhd_hispanic = driver.find_elements_by_xpath('//*[@id=\"totalHispanic\"]')\n",
    "    hispanic_cnt_lst.append(nbhd_hispanic[0].text)\n",
    "    hispanic_pct_lst.append(nbhd_hispanic[2].text)\n",
    "    nbhd_ofcolor = driver.find_elements_by_xpath('//*[@id=\"totalOfColor\"]')\n",
    "    ofcolor_cnt_lst.append(nbhd_ofcolor[0].text)\n",
    "    ofcolor_pct_lst.append(nbhd_ofcolor[2].text)\n",
    "\n",
    "#Close the browser\n",
    "driver.close()\n"
   ]
  },
  {
   "cell_type": "code",
   "execution_count": null,
   "metadata": {},
   "outputs": [],
   "source": [
    "\n",
    "#Zip the lists together and make a final dataframe where each row is a neighborhood.\n",
    "race_df = pd.DataFrame(list(zip(nbhd_names_lst, white_cnt_lst, white_pct_lst, black_cnt_lst, black_pct_lst, native_cnt_lst, native_pct_lst, asian_cnt_lst, asian_pct_lst, other_cnt_lst, other_pct_lst, twoormore_cnt_lst, twoormore_pct_lst, hispanic_cnt_lst, hispanic_pct_lst, ofcolor_cnt_lst, ofcolor_pct_lst, nbhd_links_lst)), columns =['neighborhood', 'white_cnt', 'white_pct', 'black_cnt', 'black_pct', 'native_cnt', 'native_pct', 'asian_cnt', 'asian_pct', 'other_cnt', 'other_pct', 'two_or_more_cnt', 'two_or_more_pct', 'hispanic_cnt', 'hispanic_pct', 'of_color_cnt', 'of_color_pct', 'URL']) \n"
   ]
  },
  {
   "cell_type": "code",
   "execution_count": null,
   "metadata": {},
   "outputs": [],
   "source": [
    "#Check result\n",
    "nbhd_race_df"
   ]
  },
  {
   "cell_type": "code",
   "execution_count": 13,
   "metadata": {},
   "outputs": [
    {
     "output_type": "execute_result",
     "data": {
      "text/plain": "['http://www.mncompass.org/profiles/communities/minneapolis/calhoun-isles',\n 'http://www.mncompass.org/profiles/communities/minneapolis/camden',\n 'http://www.mncompass.org/profiles/communities/minneapolis/central',\n 'http://www.mncompass.org/profiles/communities/minneapolis/longfellow',\n 'http://www.mncompass.org/profiles/communities/minneapolis/near-north',\n 'http://www.mncompass.org/profiles/communities/minneapolis/nokomis',\n 'http://www.mncompass.org/profiles/communities/minneapolis/northeast',\n 'http://www.mncompass.org/profiles/communities/minneapolis/phillips',\n 'http://www.mncompass.org/profiles/communities/minneapolis/powderhorn',\n 'http://www.mncompass.org/profiles/communities/minneapolis/southwest',\n 'http://www.mncompass.org/profiles/communities/minneapolis/university']"
     },
     "metadata": {},
     "execution_count": 13
    }
   ],
   "source": [
    "#Initialize list to hold community URL's and community names\n",
    "cmnty_links_lst = []\n",
    "cmnty_names_lst = []\n",
    "\n",
    "#URL for the MSP community page at MN Compass. This page contains all the links to the individual community pages.\n",
    "msp_cmnty_url = 'http://www.mncompass.org/profiles/neighborhoods/minneapolis-saint-paul'\n",
    "\n",
    "#Create Chrome web driver\n",
    "driver = webdriver.Chrome(options=chrome_options)\n",
    "\n",
    "#Send the webdriver to the link\n",
    "driver.get(msp_cmnty_url)\n",
    "\n",
    "#Extract an object containing all the commumity links. Uses Selenium Xpath.\n",
    "cmnty_links = driver.find_elements_by_xpath('//*[@id=\"list\"]/div/ul[3]/li[*]/a')\n",
    "\n",
    "#Go through each Selenium item and extract the link for the community.\n",
    "for cmnty in cmnty_links:\n",
    "    href = cmnty.get_attribute('href')\n",
    "    #Add the link to the list of community links\n",
    "    cmnty_links_lst.append(href)\n",
    "    #Extract the name of the community from the end of the URL and add to the list of community names.\n",
    "    cmnty_names_lst.append(href[58:])\n",
    "\n",
    "#Close the webdriver    \n",
    "driver.close()\n",
    "cmnty_links_lst"
   ]
  },
  {
   "cell_type": "code",
   "execution_count": 14,
   "metadata": {},
   "outputs": [],
   "source": [
    "#Open the webdriver\n",
    "driver = webdriver.Chrome(options=chrome_options)\n",
    "\n",
    "#Initialize lists to hold the count and percentage for each race. The list is in the same order as the neighborhoods above.\n",
    "white_cnt_lst = []\n",
    "white_pct_lst = []\n",
    "black_cnt_lst = []\n",
    "black_pct_lst = []\n",
    "native_cnt_lst = []\n",
    "native_pct_lst = []\n",
    "asian_cnt_lst = []\n",
    "asian_pct_lst = []\n",
    "other_cnt_lst = []\n",
    "other_pct_lst = []\n",
    "twoormore_cnt_lst = []\n",
    "twoormore_pct_lst = []\n",
    "hispanic_cnt_lst = []\n",
    "hispanic_pct_lst = []\n",
    "ofcolor_cnt_lst = []\n",
    "ofcolor_pct_lst = []\n",
    "\n",
    "#For each community\n",
    "for cmnty_link in cmnty_links_lst:\n",
    "    #Go to the link for the neighborhood\n",
    "    driver.get(cmnty_link)\n",
    "    #A short timer to give the browser time to respond\n",
    "    time.sleep(1)\n",
    "    #Use Selenium Xpath to extract the table list for the race, access the count and percent elements of the list and add to lists\n",
    "    white = driver.find_elements_by_xpath('//*[@id=\"totalWhite\"]')\n",
    "    white_cnt_lst.append(white[0].text)\n",
    "    white_pct_lst.append(white[2].text)\n",
    "    black = driver.find_elements_by_xpath('//*[@id=\"totalBlack\"]')\n",
    "    black_cnt_lst.append(black[0].text)\n",
    "    black_pct_lst.append(black[2].text)\n",
    "    native = driver.find_elements_by_xpath('//*[@id=\"totalNative\"]')\n",
    "    native_cnt_lst.append(native[0].text)\n",
    "    native_pct_lst.append(native[2].text)\n",
    "    asian = driver.find_elements_by_xpath('//*[@id=\"totalAsian\"]')\n",
    "    asian_cnt_lst.append(asian[0].text)\n",
    "    asian_pct_lst.append(asian[2].text)\n",
    "    other = driver.find_elements_by_xpath('//*[@id=\"totalOther\"]')\n",
    "    other_cnt_lst.append(other[0].text)\n",
    "    other_pct_lst.append(other[2].text)\n",
    "    twoormore = driver.find_elements_by_xpath('//*[@id=\"twoOrMoreRaces\"]')\n",
    "    twoormore_cnt_lst.append(twoormore[0].text)\n",
    "    twoormore_pct_lst.append(twoormore[2].text)\n",
    "    hispanic = driver.find_elements_by_xpath('//*[@id=\"totalHispanic\"]')\n",
    "    hispanic_cnt_lst.append(hispanic[0].text)\n",
    "    hispanic_pct_lst.append(hispanic[2].text)\n",
    "    ofcolor = driver.find_elements_by_xpath('//*[@id=\"totalOfColor\"]')\n",
    "    ofcolor_cnt_lst.append(ofcolor[0].text)\n",
    "    ofcolor_pct_lst.append(ofcolor[2].text)\n",
    "\n",
    "#Close the browser\n",
    "driver.close()\n"
   ]
  },
  {
   "cell_type": "code",
   "execution_count": 15,
   "metadata": {},
   "outputs": [],
   "source": [
    "#Zip the lists together and make a final dataframe where each row is a commumity.\n",
    "cmnty_race_df = pd.DataFrame(list(zip(cmnty_names_lst, white_cnt_lst, white_pct_lst, black_cnt_lst, black_pct_lst, native_cnt_lst, native_pct_lst, asian_cnt_lst, asian_pct_lst, other_cnt_lst, other_pct_lst, twoormore_cnt_lst, twoormore_pct_lst, hispanic_cnt_lst, hispanic_pct_lst, ofcolor_cnt_lst, ofcolor_pct_lst, cmnty_links_lst)), columns =['community', 'white_cnt', 'white_pct', 'black_cnt', 'black_pct', 'native_cnt', 'native_pct', 'asian_cnt', 'asian_pct', 'other_cnt', 'other_pct', 'two_or_more_cnt', 'two_or_more_pct', 'hispanic_cnt', 'hispanic_pct', 'of_color_cnt', 'of_color_pct', 'URL']) "
   ]
  },
  {
   "cell_type": "code",
   "execution_count": 16,
   "metadata": {},
   "outputs": [
    {
     "output_type": "execute_result",
     "data": {
      "text/plain": "        community white_cnt white_pct black_cnt black_pct  native_cnt  \\\n0   calhoun-isles    27,911     86.1%     1,591      4.9%  suppressed   \n1          camden    13,565     44.1%    10,677     34.7%         343   \n2         central    23,384     66.2%     7,133     20.2%         405   \n3      longfellow    20,399     70.3%     5,521     19.0%         290   \n4      near-north     8,264     23.0%    17,163     47.9%         629   \n5         nokomis    30,885     79.6%     3,507      9.0%         629   \n6       northeast    28,051     74.9%     3,921     10.5%         674   \n7        phillips     6,310     28.6%     9,606     43.5%       1,255   \n8      powderhorn    33,738     59.0%    11,305     19.8%         787   \n9       southwest    42,747     86.0%     2,289      4.6%  suppressed   \n10     university    29,871     63.5%     7,760     16.5%         474   \n\n   native_pct asian_cnt asian_pct other_cnt other_pct two_or_more_cnt  \\\n0                 1,080      3.3%       416      1.3%           1,309   \n1        1.1%     3,500     11.4%       691      2.2%           1,953   \n2        1.1%     2,410      6.8%       410      1.2%           1,564   \n3        1.0%       815      2.8%       901      3.1%           1,072   \n4        1.8%     5,493     15.3%     1,864      5.2%           2,448   \n5        1.6%       776      2.0%     1,214      3.1%           1,779   \n6        1.8%     1,035      2.8%     1,999      5.3%           1,793   \n7        5.7%       757      3.4%     3,400     15.4%             750   \n8        1.4%     1,387      2.4%     7,056     12.3%           2,876   \n9                 1,650      3.3%       959      1.9%           1,842   \n10       1.0%     6,578     14.0%       484      1.0%           1,870   \n\n   two_or_more_pct hispanic_cnt hispanic_pct of_color_cnt of_color_pct  \\\n0             4.0%        1,166         3.6%        4,512        13.9%   \n1             6.4%        2,360         7.7%       17,164        55.9%   \n2             4.4%        1,645         4.7%       11,928        33.8%   \n3             3.7%        2,083         7.2%        8,613        29.7%   \n4             6.8%        3,784        10.5%       27,604        77.0%   \n5             4.6%        2,160         5.6%        7,905        20.4%   \n6             4.8%        3,989        10.6%        9,422        25.1%   \n7             3.4%        5,709        25.9%       15,768        71.4%   \n8             5.0%       13,036        22.8%       23,438        41.0%   \n9             3.7%        2,021         4.1%        6,986        14.0%   \n10            4.0%        1,849         3.9%       17,166        36.5%   \n\n                                                  URL  \n0   http://www.mncompass.org/profiles/communities/...  \n1   http://www.mncompass.org/profiles/communities/...  \n2   http://www.mncompass.org/profiles/communities/...  \n3   http://www.mncompass.org/profiles/communities/...  \n4   http://www.mncompass.org/profiles/communities/...  \n5   http://www.mncompass.org/profiles/communities/...  \n6   http://www.mncompass.org/profiles/communities/...  \n7   http://www.mncompass.org/profiles/communities/...  \n8   http://www.mncompass.org/profiles/communities/...  \n9   http://www.mncompass.org/profiles/communities/...  \n10  http://www.mncompass.org/profiles/communities/...  ",
      "text/html": "<div>\n<style scoped>\n    .dataframe tbody tr th:only-of-type {\n        vertical-align: middle;\n    }\n\n    .dataframe tbody tr th {\n        vertical-align: top;\n    }\n\n    .dataframe thead th {\n        text-align: right;\n    }\n</style>\n<table border=\"1\" class=\"dataframe\">\n  <thead>\n    <tr style=\"text-align: right;\">\n      <th></th>\n      <th>community</th>\n      <th>white_cnt</th>\n      <th>white_pct</th>\n      <th>black_cnt</th>\n      <th>black_pct</th>\n      <th>native_cnt</th>\n      <th>native_pct</th>\n      <th>asian_cnt</th>\n      <th>asian_pct</th>\n      <th>other_cnt</th>\n      <th>other_pct</th>\n      <th>two_or_more_cnt</th>\n      <th>two_or_more_pct</th>\n      <th>hispanic_cnt</th>\n      <th>hispanic_pct</th>\n      <th>of_color_cnt</th>\n      <th>of_color_pct</th>\n      <th>URL</th>\n    </tr>\n  </thead>\n  <tbody>\n    <tr>\n      <th>0</th>\n      <td>calhoun-isles</td>\n      <td>27,911</td>\n      <td>86.1%</td>\n      <td>1,591</td>\n      <td>4.9%</td>\n      <td>suppressed</td>\n      <td></td>\n      <td>1,080</td>\n      <td>3.3%</td>\n      <td>416</td>\n      <td>1.3%</td>\n      <td>1,309</td>\n      <td>4.0%</td>\n      <td>1,166</td>\n      <td>3.6%</td>\n      <td>4,512</td>\n      <td>13.9%</td>\n      <td>http://www.mncompass.org/profiles/communities/...</td>\n    </tr>\n    <tr>\n      <th>1</th>\n      <td>camden</td>\n      <td>13,565</td>\n      <td>44.1%</td>\n      <td>10,677</td>\n      <td>34.7%</td>\n      <td>343</td>\n      <td>1.1%</td>\n      <td>3,500</td>\n      <td>11.4%</td>\n      <td>691</td>\n      <td>2.2%</td>\n      <td>1,953</td>\n      <td>6.4%</td>\n      <td>2,360</td>\n      <td>7.7%</td>\n      <td>17,164</td>\n      <td>55.9%</td>\n      <td>http://www.mncompass.org/profiles/communities/...</td>\n    </tr>\n    <tr>\n      <th>2</th>\n      <td>central</td>\n      <td>23,384</td>\n      <td>66.2%</td>\n      <td>7,133</td>\n      <td>20.2%</td>\n      <td>405</td>\n      <td>1.1%</td>\n      <td>2,410</td>\n      <td>6.8%</td>\n      <td>410</td>\n      <td>1.2%</td>\n      <td>1,564</td>\n      <td>4.4%</td>\n      <td>1,645</td>\n      <td>4.7%</td>\n      <td>11,928</td>\n      <td>33.8%</td>\n      <td>http://www.mncompass.org/profiles/communities/...</td>\n    </tr>\n    <tr>\n      <th>3</th>\n      <td>longfellow</td>\n      <td>20,399</td>\n      <td>70.3%</td>\n      <td>5,521</td>\n      <td>19.0%</td>\n      <td>290</td>\n      <td>1.0%</td>\n      <td>815</td>\n      <td>2.8%</td>\n      <td>901</td>\n      <td>3.1%</td>\n      <td>1,072</td>\n      <td>3.7%</td>\n      <td>2,083</td>\n      <td>7.2%</td>\n      <td>8,613</td>\n      <td>29.7%</td>\n      <td>http://www.mncompass.org/profiles/communities/...</td>\n    </tr>\n    <tr>\n      <th>4</th>\n      <td>near-north</td>\n      <td>8,264</td>\n      <td>23.0%</td>\n      <td>17,163</td>\n      <td>47.9%</td>\n      <td>629</td>\n      <td>1.8%</td>\n      <td>5,493</td>\n      <td>15.3%</td>\n      <td>1,864</td>\n      <td>5.2%</td>\n      <td>2,448</td>\n      <td>6.8%</td>\n      <td>3,784</td>\n      <td>10.5%</td>\n      <td>27,604</td>\n      <td>77.0%</td>\n      <td>http://www.mncompass.org/profiles/communities/...</td>\n    </tr>\n    <tr>\n      <th>5</th>\n      <td>nokomis</td>\n      <td>30,885</td>\n      <td>79.6%</td>\n      <td>3,507</td>\n      <td>9.0%</td>\n      <td>629</td>\n      <td>1.6%</td>\n      <td>776</td>\n      <td>2.0%</td>\n      <td>1,214</td>\n      <td>3.1%</td>\n      <td>1,779</td>\n      <td>4.6%</td>\n      <td>2,160</td>\n      <td>5.6%</td>\n      <td>7,905</td>\n      <td>20.4%</td>\n      <td>http://www.mncompass.org/profiles/communities/...</td>\n    </tr>\n    <tr>\n      <th>6</th>\n      <td>northeast</td>\n      <td>28,051</td>\n      <td>74.9%</td>\n      <td>3,921</td>\n      <td>10.5%</td>\n      <td>674</td>\n      <td>1.8%</td>\n      <td>1,035</td>\n      <td>2.8%</td>\n      <td>1,999</td>\n      <td>5.3%</td>\n      <td>1,793</td>\n      <td>4.8%</td>\n      <td>3,989</td>\n      <td>10.6%</td>\n      <td>9,422</td>\n      <td>25.1%</td>\n      <td>http://www.mncompass.org/profiles/communities/...</td>\n    </tr>\n    <tr>\n      <th>7</th>\n      <td>phillips</td>\n      <td>6,310</td>\n      <td>28.6%</td>\n      <td>9,606</td>\n      <td>43.5%</td>\n      <td>1,255</td>\n      <td>5.7%</td>\n      <td>757</td>\n      <td>3.4%</td>\n      <td>3,400</td>\n      <td>15.4%</td>\n      <td>750</td>\n      <td>3.4%</td>\n      <td>5,709</td>\n      <td>25.9%</td>\n      <td>15,768</td>\n      <td>71.4%</td>\n      <td>http://www.mncompass.org/profiles/communities/...</td>\n    </tr>\n    <tr>\n      <th>8</th>\n      <td>powderhorn</td>\n      <td>33,738</td>\n      <td>59.0%</td>\n      <td>11,305</td>\n      <td>19.8%</td>\n      <td>787</td>\n      <td>1.4%</td>\n      <td>1,387</td>\n      <td>2.4%</td>\n      <td>7,056</td>\n      <td>12.3%</td>\n      <td>2,876</td>\n      <td>5.0%</td>\n      <td>13,036</td>\n      <td>22.8%</td>\n      <td>23,438</td>\n      <td>41.0%</td>\n      <td>http://www.mncompass.org/profiles/communities/...</td>\n    </tr>\n    <tr>\n      <th>9</th>\n      <td>southwest</td>\n      <td>42,747</td>\n      <td>86.0%</td>\n      <td>2,289</td>\n      <td>4.6%</td>\n      <td>suppressed</td>\n      <td></td>\n      <td>1,650</td>\n      <td>3.3%</td>\n      <td>959</td>\n      <td>1.9%</td>\n      <td>1,842</td>\n      <td>3.7%</td>\n      <td>2,021</td>\n      <td>4.1%</td>\n      <td>6,986</td>\n      <td>14.0%</td>\n      <td>http://www.mncompass.org/profiles/communities/...</td>\n    </tr>\n    <tr>\n      <th>10</th>\n      <td>university</td>\n      <td>29,871</td>\n      <td>63.5%</td>\n      <td>7,760</td>\n      <td>16.5%</td>\n      <td>474</td>\n      <td>1.0%</td>\n      <td>6,578</td>\n      <td>14.0%</td>\n      <td>484</td>\n      <td>1.0%</td>\n      <td>1,870</td>\n      <td>4.0%</td>\n      <td>1,849</td>\n      <td>3.9%</td>\n      <td>17,166</td>\n      <td>36.5%</td>\n      <td>http://www.mncompass.org/profiles/communities/...</td>\n    </tr>\n  </tbody>\n</table>\n</div>"
     },
     "metadata": {},
     "execution_count": 16
    }
   ],
   "source": [
    "cmnty_race_df"
   ]
  },
  {
   "cell_type": "code",
   "execution_count": null,
   "metadata": {},
   "outputs": [],
   "source": []
  }
 ],
 "metadata": {
  "language_info": {
   "codemirror_mode": {
    "name": "ipython",
    "version": 3
   },
   "file_extension": ".py",
   "mimetype": "text/x-python",
   "name": "python",
   "nbconvert_exporter": "python",
   "pygments_lexer": "ipython3",
   "version": "3.6.10-final"
  },
  "orig_nbformat": 2,
  "kernelspec": {
   "name": "python361064bitpythondatacondaab47c43dfe824d4eb95e9e8f15b48370",
   "display_name": "Python 3.6.10 64-bit ('PythonData': conda)"
  }
 },
 "nbformat": 4,
 "nbformat_minor": 2
}