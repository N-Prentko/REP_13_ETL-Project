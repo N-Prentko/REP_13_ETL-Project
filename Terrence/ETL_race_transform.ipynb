{
 "cells": [
  {
   "cell_type": "markdown",
   "metadata": {},
   "source": [
    "# ETL Project - TRANSFORM\n",
    "## Terrence Cummings\n",
    "Data: Race mix of Minneapolis neighborhoods scraped from mncompass.org"
   ]
  },
  {
   "cell_type": "code",
   "execution_count": 6,
   "metadata": {},
   "outputs": [],
   "source": [
    "import pandas as pd\n",
    "import numpy as np\n",
    "from bs4 import BeautifulSoup\n",
    "import json\n",
    "import requests\n",
    "import pymongo\n",
    "from splinter import Browser\n",
    "from selenium import webdriver\n",
    "import time\n",
    "import sys\n",
    "import os\n",
    "import datetime\n",
    "from selenium.webdriver.chrome.options import Options\n",
    "from sqlalchemy import create_engine\n",
    "chrome_options = Options()\n",
    "chrome_options.add_argument(\"--headless\")"
   ]
  },
  {
   "cell_type": "code",
   "execution_count": 7,
   "metadata": {},
   "outputs": [],
   "source": [
    "#Read in CSV's from Extract\n",
    "cmnty_links_df=pd.read_csv('cmnty_links.csv')\n",
    "nbhd_links_df=pd.read_csv('nbhd_links.csv')\n",
    "cmnty_race_df=pd.read_csv('cmnty_race.csv')\n",
    "nbhd_race_df=pd.read_csv('nbhd_race.csv')\n",
    "cmnty_keys_df=pd.read_csv('cmnty_keys.csv')\n",
    "nbhd_keys_df=pd.read_csv('nbhd_keys.csv')"
   ]
  },
  {
   "cell_type": "code",
   "execution_count": 8,
   "metadata": {},
   "outputs": [],
   "source": [
    "#Add community key to neighborhood key table to use as a foreign key\n",
    "nbhd_keys_df = nbhd_keys_df.merge(cmnty_keys_df, how='left', left_on='COMMUNITY', right_on='COMMUNITY')\n"
   ]
  },
  {
   "cell_type": "markdown",
   "metadata": {},
   "source": [
    "## Create initial table of MSP neighborhoods (rows) and race mix (columns)"
   ]
  },
  {
   "cell_type": "code",
   "execution_count": 9,
   "metadata": {},
   "outputs": [],
   "source": [
    "#Some figures from the scraped table show the word 'suppressed'. Replace with NaN for subsequent handling.\n",
    "nbhd_race_df = nbhd_race_df.replace('suppressed', np.nan)\n"
   ]
  },
  {
   "cell_type": "code",
   "execution_count": 10,
   "metadata": {},
   "outputs": [],
   "source": [
    "#Convert population count text to numbers\n",
    "nbhd_race_df['white_cnt'] = nbhd_race_df['white_cnt'].str.replace(',', '').astype(float)\n",
    "nbhd_race_df['black_cnt'] = nbhd_race_df['black_cnt'].str.replace(',', '').astype(float)\n",
    "nbhd_race_df['native_cnt'] = nbhd_race_df['native_cnt'].str.replace(',', '').astype(float)\n",
    "nbhd_race_df['asian_cnt'] = nbhd_race_df['asian_cnt'].str.replace(',', '').astype(float)\n",
    "nbhd_race_df['other_cnt'] = nbhd_race_df['other_cnt'].str.replace(',', '').astype(float)\n",
    "nbhd_race_df['two_or_more_cnt'] = nbhd_race_df['two_or_more_cnt'].str.replace(',', '').astype(float)\n",
    "nbhd_race_df['hispanic_cnt'] = nbhd_race_df['hispanic_cnt'].str.replace(',', '').astype(float)\n",
    "nbhd_race_df['of_color_cnt'] = nbhd_race_df['of_color_cnt'].str.replace(',', '').astype(float)"
   ]
  },
  {
   "cell_type": "code",
   "execution_count": 11,
   "metadata": {},
   "outputs": [],
   "source": [
    "#Convert population percentage text to numbers\n",
    "nbhd_race_df['white_pct'] = nbhd_race_df['white_pct'].str.replace('%', '').astype(float)/100\n",
    "nbhd_race_df['black_pct'] = nbhd_race_df['black_pct'].str.replace('%', '').astype(float)/100\n",
    "nbhd_race_df['native_pct'] = nbhd_race_df['native_pct'].str.replace('%', '').astype(float)/100\n",
    "nbhd_race_df['asian_pct'] = nbhd_race_df['asian_pct'].str.replace('%', '').astype(float)/100\n",
    "nbhd_race_df['other_pct'] = nbhd_race_df['other_pct'].str.replace('%', '').astype(float)/100\n",
    "nbhd_race_df['two_or_more_pct'] = nbhd_race_df['two_or_more_pct'].str.replace('%', '').astype(float)/100\n",
    "nbhd_race_df['hispanic_pct'] = nbhd_race_df['hispanic_pct'].str.replace('%', '').astype(float)/100\n",
    "nbhd_race_df['of_color_pct'] = nbhd_race_df['of_color_pct'].str.replace('%', '').astype(float)/100"
   ]
  },
  {
   "cell_type": "code",
   "execution_count": 12,
   "metadata": {},
   "outputs": [],
   "source": [
    "#Add total population estimate for each neighborood based on the white count and percentage.\n",
    "nbhd_race_df['total_cnt']=round(nbhd_race_df['white_cnt']/nbhd_race_df['white_pct'],0)"
   ]
  },
  {
   "cell_type": "code",
   "execution_count": 13,
   "metadata": {},
   "outputs": [],
   "source": [
    "#Add the neighorhood key and the official neighborhood names to the table. Drop some unnecessary columns.\n",
    "#The 'outer' merge also adds rows for all the missing MSP neighborhoods not present in the scraped data.\n",
    "#Inclusion of all neighborhoods and official names will facilitate analysis with the Open Data MSP police record data.\n",
    "temp_nbhd_race_df = nbhd_race_df.merge(nbhd_keys_df, how='outer', left_on='neighborhood', right_on='neighborhood_url')\n",
    "final_nbhd_race_df=temp_nbhd_race_df.drop(['neighborhood', 'neighborhood_url'], axis = 1) \n",
    "final_nbhd_race_df.set_index('NBHD_KEY', inplace=True)\n"
   ]
  },
  {
   "cell_type": "code",
   "execution_count": 14,
   "metadata": {},
   "outputs": [],
   "source": [
    "#Reorder columns for presentability. At this stage have a table with all neighborhoods and races, but with a lot of NaN's that needed to be reconciled.\n",
    "final_nbhd_race_df = final_nbhd_race_df[['NEIGHBORHOOD','COMMUNITY','total_cnt','white_cnt','white_pct','black_cnt','black_pct','native_cnt','native_pct','asian_cnt','asian_pct','other_cnt','other_pct','two_or_more_cnt','two_or_more_pct','hispanic_cnt','hispanic_pct','of_color_cnt','of_color_pct','URL']]\n"
   ]
  },
  {
   "cell_type": "markdown",
   "metadata": {},
   "source": [
    "## Create table of MSP communities (rows) and race mix (columns). This will be used to backfill missing neighborhood-level data."
   ]
  },
  {
   "cell_type": "code",
   "execution_count": 15,
   "metadata": {},
   "outputs": [],
   "source": [
    "#Set the few 'suppressed' data to 0 as immaterial. \n",
    "cmnty_race_df['community'] = cmnty_race_df['community'].str.upper()\n",
    "cmnty_race_df = cmnty_race_df.replace('suppressed', '0')\n",
    "cmnty_race_df = cmnty_race_df.replace(np.nan, '0', regex=True)\n"
   ]
  },
  {
   "cell_type": "code",
   "execution_count": 16,
   "metadata": {},
   "outputs": [],
   "source": [
    "#Convert race population count text to numbers.\n",
    "cmnty_race_df['white_cnt'] = cmnty_race_df['white_cnt'].str.replace(',', '').astype(float)\n",
    "cmnty_race_df['black_cnt'] = cmnty_race_df['black_cnt'].str.replace(',', '').astype(float)\n",
    "cmnty_race_df['native_cnt'] = cmnty_race_df['native_cnt'].str.replace(',', '').astype(float)\n",
    "cmnty_race_df['asian_cnt'] = cmnty_race_df['asian_cnt'].str.replace(',', '').astype(float)\n",
    "cmnty_race_df['other_cnt'] = cmnty_race_df['other_cnt'].str.replace(',', '').astype(float)\n",
    "cmnty_race_df['two_or_more_cnt'] = cmnty_race_df['two_or_more_cnt'].str.replace(',', '').astype(float)\n",
    "cmnty_race_df['hispanic_cnt'] = cmnty_race_df['hispanic_cnt'].str.replace(',', '').astype(float)\n",
    "cmnty_race_df['of_color_cnt'] = cmnty_race_df['of_color_cnt'].str.replace(',', '').astype(float)\n"
   ]
  },
  {
   "cell_type": "code",
   "execution_count": 17,
   "metadata": {},
   "outputs": [],
   "source": [
    "#Convert race population percentages to numbers\n",
    "cmnty_race_df['white_pct'] = cmnty_race_df['white_pct'].str.replace('%', '').astype(float)/100\n",
    "cmnty_race_df['black_pct'] = cmnty_race_df['black_pct'].str.replace('%', '').astype(float)/100\n",
    "cmnty_race_df['native_pct'] = cmnty_race_df['native_pct'].str.replace('%', '').astype(float)/100\n",
    "cmnty_race_df['asian_pct'] = cmnty_race_df['asian_pct'].str.replace('%', '').astype(float)/100\n",
    "cmnty_race_df['other_pct'] = cmnty_race_df['other_pct'].str.replace('%', '').astype(float)/100\n",
    "cmnty_race_df['two_or_more_pct'] = cmnty_race_df['two_or_more_pct'].str.replace('%', '').astype(float)/100\n",
    "cmnty_race_df['hispanic_pct'] = cmnty_race_df['hispanic_pct'].str.replace('%', '').astype(float)/100\n",
    "cmnty_race_df['of_color_pct'] = cmnty_race_df['of_color_pct'].str.replace('%', '').astype(float)/100"
   ]
  },
  {
   "cell_type": "code",
   "execution_count": 18,
   "metadata": {},
   "outputs": [],
   "source": [
    "#Create a dicationary to map the scraped community names to the official community names\n",
    "cmnty_dict = {'CALHOUN-ISLES': 'CALHOUN-ISLE', 'CAMDEN':'CAMDEN', 'CENTRAL': 'CENTRAL', 'LONGFELLOW': 'LONGFELLOW', 'NEAR-NORTH': 'NEAR NORTH', 'NOKOMIS':'NOKOMIS', 'NORTHEAST':'NORTHEAST', 'PHILLIPS': 'PHILLIPS', 'POWDERHORN': 'POWDERHORN', 'SOUTHWEST':'SOUTHWEST', 'UNIVERSITY':'UNIVERSITY'}"
   ]
  },
  {
   "cell_type": "code",
   "execution_count": 19,
   "metadata": {},
   "outputs": [],
   "source": [
    "#Replaced scraped community names with official community names\n",
    "cmnty_race_df = cmnty_race_df.replace({\"community\": cmnty_dict})"
   ]
  },
  {
   "cell_type": "code",
   "execution_count": 20,
   "metadata": {},
   "outputs": [],
   "source": [
    "#Add community keys to the community race table\n",
    "final_cmnty_race_df = cmnty_race_df.merge(cmnty_keys_df, how='left', left_on='community', right_on='COMMUNITY')\n",
    "del final_cmnty_race_df['COMMUNITY']\n",
    "final_cmnty_race_df.set_index('CMNTY_KEY', inplace=True)\n",
    "final_cmnty_race_df['total_cnt']=final_cmnty_race_df['white_cnt']+final_cmnty_race_df['of_color_cnt']\n"
   ]
  },
  {
   "cell_type": "code",
   "execution_count": 21,
   "metadata": {},
   "outputs": [],
   "source": [
    "#Recalculate the race mix percentages based on the population counts\n",
    "final_cmnty_race_df['white_pct']=final_cmnty_race_df['white_cnt']/final_cmnty_race_df['total_cnt']\n",
    "final_cmnty_race_df['black_pct']=final_cmnty_race_df['black_cnt']/final_cmnty_race_df['total_cnt']\n",
    "final_cmnty_race_df['native_pct']=final_cmnty_race_df['native_cnt']/final_cmnty_race_df['total_cnt']\n",
    "final_cmnty_race_df['asian_pct']=final_cmnty_race_df['asian_cnt']/final_cmnty_race_df['total_cnt']\n",
    "final_cmnty_race_df['other_pct']=final_cmnty_race_df['other_cnt']/final_cmnty_race_df['total_cnt']\n",
    "final_cmnty_race_df['two_or_more_pct']=final_cmnty_race_df['two_or_more_cnt']/final_cmnty_race_df['total_cnt']\n",
    "final_cmnty_race_df['hispanic_pct']=final_cmnty_race_df['hispanic_cnt']/final_cmnty_race_df['total_cnt']\n",
    "final_cmnty_race_df['of_color_pct']=final_cmnty_race_df['of_color_cnt']/final_cmnty_race_df['total_cnt']\n",
    "final_cmnty_race_df = final_cmnty_race_df[['community','total_cnt','white_cnt','white_pct','black_cnt','black_pct','native_cnt','native_pct','asian_cnt','asian_pct','other_cnt','other_pct','two_or_more_cnt','two_or_more_pct','hispanic_cnt','hispanic_pct','of_color_cnt', 'of_color_pct','URL']]\n",
    "\n"
   ]
  },
  {
   "cell_type": "code",
   "execution_count": 22,
   "metadata": {},
   "outputs": [],
   "source": [
    "#Use group the neighborhood table by community. This can then be compared to the community table to understand how much data is missing from the neighborhood table and how to handle NaN's in the neighborhood table.\n",
    "nbhd_cmnty_grp_df = pd.DataFrame(final_nbhd_race_df.groupby('COMMUNITY').sum())"
   ]
  },
  {
   "cell_type": "code",
   "execution_count": 23,
   "metadata": {},
   "outputs": [],
   "source": [
    "#Calculate the total population for each community in the grouped table.\n",
    "nbhd_cmnty_grp_df['total_cnt'] = nbhd_cmnty_grp_df['white_cnt']+nbhd_cmnty_grp_df['of_color_cnt']"
   ]
  },
  {
   "cell_type": "code",
   "execution_count": 24,
   "metadata": {},
   "outputs": [],
   "source": [
    "#Calculate the community race mix percentages from the grouped table for comparison to the same percentages in the commumity scrape table\n",
    "nbhd_cmnty_grp_df['white_pct']=nbhd_cmnty_grp_df['white_cnt']/nbhd_cmnty_grp_df['total_cnt']\n",
    "nbhd_cmnty_grp_df['black_pct']=nbhd_cmnty_grp_df['black_cnt']/nbhd_cmnty_grp_df['total_cnt']\n",
    "nbhd_cmnty_grp_df['native_pct']=nbhd_cmnty_grp_df['native_cnt']/nbhd_cmnty_grp_df['total_cnt']\n",
    "nbhd_cmnty_grp_df['asian_pct']=nbhd_cmnty_grp_df['asian_cnt']/nbhd_cmnty_grp_df['total_cnt']\n",
    "nbhd_cmnty_grp_df['other_pct']=nbhd_cmnty_grp_df['other_cnt']/nbhd_cmnty_grp_df['total_cnt']\n",
    "nbhd_cmnty_grp_df['two_or_more_pct']=nbhd_cmnty_grp_df['two_or_more_cnt']/nbhd_cmnty_grp_df['total_cnt']\n",
    "nbhd_cmnty_grp_df['hispanic_pct']=nbhd_cmnty_grp_df['hispanic_cnt']/nbhd_cmnty_grp_df['total_cnt']\n",
    "nbhd_cmnty_grp_df['of_color_pct']=nbhd_cmnty_grp_df['of_color_cnt']/nbhd_cmnty_grp_df['total_cnt']\n",
    "nbhd_cmnty_grp_df = nbhd_cmnty_grp_df[['total_cnt','white_cnt','white_pct','black_cnt','black_pct','native_cnt','native_pct','asian_cnt','asian_pct','other_cnt','other_pct','two_or_more_cnt','two_or_more_pct','hispanic_cnt','hispanic_pct','of_color_cnt', 'of_color_pct']]"
   ]
  },
  {
   "cell_type": "code",
   "execution_count": 25,
   "metadata": {},
   "outputs": [],
   "source": [
    "#Join the scraped community table with the grouped community table to compare differences in race mix estimates\n",
    "temp_cmnty_join_df = final_cmnty_race_df.merge(nbhd_cmnty_grp_df, how='left', left_on='community', right_index=True)"
   ]
  },
  {
   "cell_type": "code",
   "execution_count": 26,
   "metadata": {},
   "outputs": [],
   "source": [
    "#Solve for the race mix percentages to be assigned to the NaN's in the neighborhood table in order to reproduce the community level race mix.\n",
    "temp_cmnty_join_df['white_bal_pct'] = (temp_cmnty_join_df['total_cnt_x']*temp_cmnty_join_df['white_pct_x']-temp_cmnty_join_df['total_cnt_y']*temp_cmnty_join_df['white_pct_y'])/(temp_cmnty_join_df['total_cnt_x']-temp_cmnty_join_df['total_cnt_y'])\n",
    "\n",
    "temp_cmnty_join_df['black_bal_pct'] = (temp_cmnty_join_df['total_cnt_x']*temp_cmnty_join_df['black_pct_x']-temp_cmnty_join_df['total_cnt_y']*temp_cmnty_join_df['black_pct_y'])/(temp_cmnty_join_df['total_cnt_x']-temp_cmnty_join_df['total_cnt_y'])\n",
    "\n",
    "temp_cmnty_join_df['native_bal_pct'] = (temp_cmnty_join_df['total_cnt_x']*temp_cmnty_join_df['native_pct_x']-temp_cmnty_join_df['total_cnt_y']*temp_cmnty_join_df['native_pct_y'])/(temp_cmnty_join_df['total_cnt_x']-temp_cmnty_join_df['total_cnt_y'])\n",
    "\n",
    "temp_cmnty_join_df['asian_bal_pct'] = (temp_cmnty_join_df['total_cnt_x']*temp_cmnty_join_df['asian_pct_x']-temp_cmnty_join_df['total_cnt_y']*temp_cmnty_join_df['asian_pct_y'])/(temp_cmnty_join_df['total_cnt_x']-temp_cmnty_join_df['total_cnt_y'])\n",
    "\n",
    "temp_cmnty_join_df['other_bal_pct'] = (temp_cmnty_join_df['total_cnt_x']*temp_cmnty_join_df['other_pct_x']-temp_cmnty_join_df['total_cnt_y']*temp_cmnty_join_df['other_pct_y'])/(temp_cmnty_join_df['total_cnt_x']-temp_cmnty_join_df['total_cnt_y'])\n",
    "\n",
    "temp_cmnty_join_df['two_or_more_bal_pct'] = (temp_cmnty_join_df['total_cnt_x']*temp_cmnty_join_df['two_or_more_pct_x']-temp_cmnty_join_df['total_cnt_y']*temp_cmnty_join_df['two_or_more_pct_y'])/(temp_cmnty_join_df['total_cnt_x']-temp_cmnty_join_df['total_cnt_y'])\n",
    "\n",
    "temp_cmnty_join_df['hispanic_bal_pct'] = (temp_cmnty_join_df['total_cnt_x']*temp_cmnty_join_df['hispanic_pct_x']-temp_cmnty_join_df['total_cnt_y']*temp_cmnty_join_df['hispanic_pct_y'])/(temp_cmnty_join_df['total_cnt_x']-temp_cmnty_join_df['total_cnt_y'])\n",
    "\n",
    "temp_cmnty_join_df['of_color_bal_pct'] = (temp_cmnty_join_df['total_cnt_x']*temp_cmnty_join_df['of_color_pct_x']-temp_cmnty_join_df['total_cnt_y']*temp_cmnty_join_df['of_color_pct_y'])/(temp_cmnty_join_df['total_cnt_x']-temp_cmnty_join_df['total_cnt_y'])\n",
    "\n",
    "temp_cmnty_join_df['marg_err']=(temp_cmnty_join_df['total_cnt_x']-temp_cmnty_join_df['total_cnt_y'])/temp_cmnty_join_df['total_cnt_x']"
   ]
  },
  {
   "cell_type": "code",
   "execution_count": 27,
   "metadata": {},
   "outputs": [],
   "source": [
    "#Delete the colujns no longer needed.\n",
    "temp_cmnty_join_df=temp_cmnty_join_df.drop(['total_cnt_x','white_cnt_x', 'black_cnt_x', 'native_cnt_x','asian_cnt_x','other_cnt_x','two_or_more_cnt_x','hispanic_cnt_x','of_color_cnt_x','total_cnt_y','white_cnt_y','black_cnt_y','native_cnt_y','asian_cnt_y','other_cnt_y','two_or_more_cnt_y','hispanic_cnt_y','of_color_cnt_y','URL'] , axis = 1) \n"
   ]
  },
  {
   "cell_type": "code",
   "execution_count": 28,
   "metadata": {},
   "outputs": [],
   "source": [
    "#Rename the columns to more explanatory names\n",
    "temp_cmnty_join_df.rename(columns={'white_pct_x': 'cmnty_white_pct', 'black_pct_x': 'cmnty_black_pct', 'native_pct_x': 'cmnty_native_pct', 'asian_pct_x': 'cmnty_asian_pct', 'other_pct_x': 'cmnty_other_pct', 'two_or_more_pct_x': 'cmnty_two_or_more_pct', 'hispanic_pct_x': 'cmnty_hispanic_pct', 'of_color_pct_x': 'cmnty_of_color_pct', 'white_pct_y': 'nbhd_white_pct', 'black_pct_y': 'nbhd_black_pct', 'native_pct_y': 'nbhd_native_pct', 'asian_pct_y': 'nbhd_asian_pct', 'other_pct_y': 'nbhd_other_pct', 'two_or_more_pct_y': 'nbhd_two_or_more_pct', 'hispanic_pct_y': 'nbhd_hispanic_pct', 'of_color_pct_y': 'nbhd_of_color_pct'}, inplace=True)"
   ]
  },
  {
   "cell_type": "code",
   "execution_count": 29,
   "metadata": {},
   "outputs": [],
   "source": [
    "#Assign the df a better name.\n",
    "race_mix_nan_df = temp_cmnty_join_df\n"
   ]
  },
  {
   "cell_type": "code",
   "execution_count": 30,
   "metadata": {},
   "outputs": [],
   "source": [
    "#Manual cleanup of some nonsensical results due divide by 'near zero' issues\n",
    "race_mix_nan_df.iloc[3, race_mix_nan_df.columns.get_loc('black_bal_pct')] = 0\n",
    "race_mix_nan_df.iloc[3, race_mix_nan_df.columns.get_loc('native_bal_pct')] = 0\n",
    "race_mix_nan_df.iloc[3, race_mix_nan_df.columns.get_loc('asian_bal_pct')] = 0\n",
    "race_mix_nan_df.iloc[3, race_mix_nan_df.columns.get_loc('other_bal_pct')] = 0\n",
    "race_mix_nan_df.iloc[3, race_mix_nan_df.columns.get_loc('two_or_more_bal_pct')] = 0\n",
    "race_mix_nan_df.iloc[3, race_mix_nan_df.columns.get_loc('hispanic_bal_pct')] = 0\n",
    "race_mix_nan_df.iloc[3, race_mix_nan_df.columns.get_loc('of_color_bal_pct')] = 0\n",
    "\n",
    "race_mix_nan_df.iloc[9, race_mix_nan_df.columns.get_loc('white_bal_pct')] = 0\n",
    "race_mix_nan_df.iloc[9, race_mix_nan_df.columns.get_loc('black_bal_pct')] = 0\n",
    "race_mix_nan_df.iloc[9, race_mix_nan_df.columns.get_loc('native_bal_pct')] = 0\n",
    "race_mix_nan_df.iloc[9, race_mix_nan_df.columns.get_loc('asian_bal_pct')] = 0\n",
    "race_mix_nan_df.iloc[9, race_mix_nan_df.columns.get_loc('other_bal_pct')] = 0\n",
    "race_mix_nan_df.iloc[9, race_mix_nan_df.columns.get_loc('two_or_more_bal_pct')] = 0\n"
   ]
  },
  {
   "cell_type": "code",
   "execution_count": 31,
   "metadata": {},
   "outputs": [],
   "source": [
    "#Create a table of just the columns needed that will replace NaN values in the neighborhood data\n",
    "race_mix_nan_sub_pct = race_mix_nan_df[['community','white_bal_pct', 'black_bal_pct', 'native_bal_pct', 'asian_bal_pct', 'other_bal_pct', 'two_or_more_bal_pct', 'hispanic_bal_pct', 'of_color_bal_pct']]\n"
   ]
  },
  {
   "cell_type": "code",
   "execution_count": 32,
   "metadata": {},
   "outputs": [],
   "source": [
    "#Get rid of unnecessary columns\n",
    "nbhd_race_mix_df=final_nbhd_race_df.drop(['total_cnt','white_cnt', 'black_cnt', 'native_cnt','asian_cnt','other_cnt','two_or_more_cnt','hispanic_cnt','of_color_cnt','URL'] , axis = 1) "
   ]
  },
  {
   "cell_type": "code",
   "execution_count": 33,
   "metadata": {},
   "outputs": [],
   "source": [
    "#Merge the table with the 'balancing percentages' with the original neighborhood table with NaN's\n",
    "temp_sub_pct_df = nbhd_race_mix_df.merge(race_mix_nan_sub_pct, how='left', left_on='COMMUNITY', right_on='community')"
   ]
  },
  {
   "cell_type": "code",
   "execution_count": 34,
   "metadata": {},
   "outputs": [],
   "source": [
    "#Where the neighborhood table had NaN's assign that cell a value based on the balancing percentages calculated previously\n",
    "temp_sub_pct_df['white_pct']=temp_sub_pct_df['white_pct'].fillna(temp_sub_pct_df['white_bal_pct'])\n",
    "temp_sub_pct_df['black_pct']=temp_sub_pct_df['black_pct'].fillna(temp_sub_pct_df['black_bal_pct'])\n",
    "temp_sub_pct_df['native_pct']=temp_sub_pct_df['native_pct'].fillna(temp_sub_pct_df['native_bal_pct'])\n",
    "temp_sub_pct_df['asian_pct']=temp_sub_pct_df['asian_pct'].fillna(temp_sub_pct_df['asian_bal_pct'])\n",
    "temp_sub_pct_df['other_pct']=temp_sub_pct_df['other_pct'].fillna(temp_sub_pct_df['other_bal_pct'])\n",
    "temp_sub_pct_df['two_or_more_pct']=temp_sub_pct_df['two_or_more_pct'].fillna(temp_sub_pct_df['two_or_more_bal_pct'])\n",
    "temp_sub_pct_df['hispanic_pct']=temp_sub_pct_df['hispanic_pct'].fillna(temp_sub_pct_df['hispanic_bal_pct'])\n",
    "temp_sub_pct_df['of_color_pct']=temp_sub_pct_df['of_color_pct'].fillna(temp_sub_pct_df['of_color_bal_pct'])\n",
    "\n"
   ]
  },
  {
   "cell_type": "code",
   "execution_count": 35,
   "metadata": {},
   "outputs": [],
   "source": [
    "#Add the neighborhood key (Primary key)\n",
    "temp_sub_pct_df = pd.merge(temp_sub_pct_df,nbhd_keys_df[['NEIGHBORHOOD','NBHD_KEY']],on='NEIGHBORHOOD', how='left')"
   ]
  },
  {
   "cell_type": "code",
   "execution_count": 36,
   "metadata": {},
   "outputs": [],
   "source": [
    "#Add the community key (foreign key)\n",
    "temp_sub_pct_df = pd.merge(temp_sub_pct_df,cmnty_keys_df[['COMMUNITY','CMNTY_KEY']],on='COMMUNITY', how='left')"
   ]
  },
  {
   "cell_type": "markdown",
   "metadata": {},
   "source": [
    "## CREATE FINAL TABLE FOR LOADING INTO POSTGRESQL\n",
    "\n",
    "1. msp_nbhd_race_mix_sql: The percentage of the population of each race in each of the 87 Minneapolis neighborhoods. Indicated by a unique Neighborhood Key.\n",
    "\n",
    "2. msp_cmnty_keys_sql: A unique Community Key and the community name for each of the 11 Minneapolis communities\n",
    "\n",
    "3. msp_nbhd_keys_sql: A unique Neighborhood Key, the neighborhood name, and the Community Key for the community that contains the neighborhood for each of the 87 Minneapolis neighborhoods.\n"
   ]
  },
  {
   "cell_type": "code",
   "execution_count": 37,
   "metadata": {},
   "outputs": [],
   "source": [
    "#Final neighborhood race mix table.\n",
    "msp_nbhd_race_mix_sql = temp_sub_pct_df[['NBHD_KEY', 'white_pct','black_pct','native_pct','asian_pct','other_pct','two_or_more_pct','hispanic_pct','of_color_pct']]"
   ]
  },
  {
   "cell_type": "code",
   "execution_count": 38,
   "metadata": {},
   "outputs": [],
   "source": [
    "#Set table index to the Neighborhood Key\n",
    "msp_nbhd_race_mix_sql.set_index('NBHD_KEY', inplace=True)"
   ]
  },
  {
   "cell_type": "code",
   "execution_count": 39,
   "metadata": {},
   "outputs": [
    {
     "output_type": "execute_result",
     "data": {
      "text/plain": "          white_pct  black_pct  native_pct  asian_pct  other_pct  \\\nNBHD_KEY                                                           \nN71        0.845000   0.000000    0.000000   0.000000   0.000000   \nN46        0.788000   0.075000    0.022493   0.061600   0.092546   \nN63        0.734000   0.116000    0.244486   0.021000   0.377446   \nN02        0.916000   0.025483    0.000000   0.036218   0.045110   \nN80        0.320000   0.511000    0.124708   0.115000   0.119707   \n...             ...        ...         ...        ...        ...   \nN55        0.734049   0.149074    0.022493   0.061600   0.092546   \nN56        0.734049   0.149074    0.022493   0.061600   0.092546   \nN33        0.344636   0.397919    0.076247   0.092573   0.092573   \nN86        0.755585   0.052351    0.124708   0.132377   0.119707   \nN08        0.843526   0.025483    0.000000   0.036218   0.045110   \n\n          two_or_more_pct  hispanic_pct  of_color_pct  \nNBHD_KEY                                               \nN71              0.036000      0.896364      0.155000  \nN46              0.059000      0.088000      0.212000  \nN63              0.078000      0.147000      0.266000  \nN02              0.064086      0.055736      0.156474  \nN80              0.039000      0.027000      0.680000  \n...                   ...           ...           ...  \nN55              0.044031      0.115922      0.265951  \nN56              0.044031      0.115922      0.265951  \nN33              0.080732      0.123789      0.655364  \nN86              0.043681      0.036345      0.244415  \nN08              0.064086      0.055736      0.156474  \n\n[87 rows x 8 columns]",
      "text/html": "<div>\n<style scoped>\n    .dataframe tbody tr th:only-of-type {\n        vertical-align: middle;\n    }\n\n    .dataframe tbody tr th {\n        vertical-align: top;\n    }\n\n    .dataframe thead th {\n        text-align: right;\n    }\n</style>\n<table border=\"1\" class=\"dataframe\">\n  <thead>\n    <tr style=\"text-align: right;\">\n      <th></th>\n      <th>white_pct</th>\n      <th>black_pct</th>\n      <th>native_pct</th>\n      <th>asian_pct</th>\n      <th>other_pct</th>\n      <th>two_or_more_pct</th>\n      <th>hispanic_pct</th>\n      <th>of_color_pct</th>\n    </tr>\n    <tr>\n      <th>NBHD_KEY</th>\n      <th></th>\n      <th></th>\n      <th></th>\n      <th></th>\n      <th></th>\n      <th></th>\n      <th></th>\n      <th></th>\n    </tr>\n  </thead>\n  <tbody>\n    <tr>\n      <th>N71</th>\n      <td>0.845000</td>\n      <td>0.000000</td>\n      <td>0.000000</td>\n      <td>0.000000</td>\n      <td>0.000000</td>\n      <td>0.036000</td>\n      <td>0.896364</td>\n      <td>0.155000</td>\n    </tr>\n    <tr>\n      <th>N46</th>\n      <td>0.788000</td>\n      <td>0.075000</td>\n      <td>0.022493</td>\n      <td>0.061600</td>\n      <td>0.092546</td>\n      <td>0.059000</td>\n      <td>0.088000</td>\n      <td>0.212000</td>\n    </tr>\n    <tr>\n      <th>N63</th>\n      <td>0.734000</td>\n      <td>0.116000</td>\n      <td>0.244486</td>\n      <td>0.021000</td>\n      <td>0.377446</td>\n      <td>0.078000</td>\n      <td>0.147000</td>\n      <td>0.266000</td>\n    </tr>\n    <tr>\n      <th>N02</th>\n      <td>0.916000</td>\n      <td>0.025483</td>\n      <td>0.000000</td>\n      <td>0.036218</td>\n      <td>0.045110</td>\n      <td>0.064086</td>\n      <td>0.055736</td>\n      <td>0.156474</td>\n    </tr>\n    <tr>\n      <th>N80</th>\n      <td>0.320000</td>\n      <td>0.511000</td>\n      <td>0.124708</td>\n      <td>0.115000</td>\n      <td>0.119707</td>\n      <td>0.039000</td>\n      <td>0.027000</td>\n      <td>0.680000</td>\n    </tr>\n    <tr>\n      <th>...</th>\n      <td>...</td>\n      <td>...</td>\n      <td>...</td>\n      <td>...</td>\n      <td>...</td>\n      <td>...</td>\n      <td>...</td>\n      <td>...</td>\n    </tr>\n    <tr>\n      <th>N55</th>\n      <td>0.734049</td>\n      <td>0.149074</td>\n      <td>0.022493</td>\n      <td>0.061600</td>\n      <td>0.092546</td>\n      <td>0.044031</td>\n      <td>0.115922</td>\n      <td>0.265951</td>\n    </tr>\n    <tr>\n      <th>N56</th>\n      <td>0.734049</td>\n      <td>0.149074</td>\n      <td>0.022493</td>\n      <td>0.061600</td>\n      <td>0.092546</td>\n      <td>0.044031</td>\n      <td>0.115922</td>\n      <td>0.265951</td>\n    </tr>\n    <tr>\n      <th>N33</th>\n      <td>0.344636</td>\n      <td>0.397919</td>\n      <td>0.076247</td>\n      <td>0.092573</td>\n      <td>0.092573</td>\n      <td>0.080732</td>\n      <td>0.123789</td>\n      <td>0.655364</td>\n    </tr>\n    <tr>\n      <th>N86</th>\n      <td>0.755585</td>\n      <td>0.052351</td>\n      <td>0.124708</td>\n      <td>0.132377</td>\n      <td>0.119707</td>\n      <td>0.043681</td>\n      <td>0.036345</td>\n      <td>0.244415</td>\n    </tr>\n    <tr>\n      <th>N08</th>\n      <td>0.843526</td>\n      <td>0.025483</td>\n      <td>0.000000</td>\n      <td>0.036218</td>\n      <td>0.045110</td>\n      <td>0.064086</td>\n      <td>0.055736</td>\n      <td>0.156474</td>\n    </tr>\n  </tbody>\n</table>\n<p>87 rows × 8 columns</p>\n</div>"
     },
     "metadata": {},
     "execution_count": 39
    }
   ],
   "source": [
    "msp_nbhd_race_mix_sql"
   ]
  },
  {
   "cell_type": "code",
   "execution_count": 40,
   "metadata": {},
   "outputs": [
    {
     "output_type": "execute_result",
     "data": {
      "text/plain": "              COMMUNITY\nCMNTY_KEY              \nC00        CALHOUN-ISLE\nC01              CAMDEN\nC02             CENTRAL\nC03          LONGFELLOW\nC04          NEAR NORTH\nC05             NOKOMIS\nC06           NORTHEAST\nC07            PHILLIPS\nC08          POWDERHORN\nC09           SOUTHWEST\nC10          UNIVERSITY",
      "text/html": "<div>\n<style scoped>\n    .dataframe tbody tr th:only-of-type {\n        vertical-align: middle;\n    }\n\n    .dataframe tbody tr th {\n        vertical-align: top;\n    }\n\n    .dataframe thead th {\n        text-align: right;\n    }\n</style>\n<table border=\"1\" class=\"dataframe\">\n  <thead>\n    <tr style=\"text-align: right;\">\n      <th></th>\n      <th>COMMUNITY</th>\n    </tr>\n    <tr>\n      <th>CMNTY_KEY</th>\n      <th></th>\n    </tr>\n  </thead>\n  <tbody>\n    <tr>\n      <th>C00</th>\n      <td>CALHOUN-ISLE</td>\n    </tr>\n    <tr>\n      <th>C01</th>\n      <td>CAMDEN</td>\n    </tr>\n    <tr>\n      <th>C02</th>\n      <td>CENTRAL</td>\n    </tr>\n    <tr>\n      <th>C03</th>\n      <td>LONGFELLOW</td>\n    </tr>\n    <tr>\n      <th>C04</th>\n      <td>NEAR NORTH</td>\n    </tr>\n    <tr>\n      <th>C05</th>\n      <td>NOKOMIS</td>\n    </tr>\n    <tr>\n      <th>C06</th>\n      <td>NORTHEAST</td>\n    </tr>\n    <tr>\n      <th>C07</th>\n      <td>PHILLIPS</td>\n    </tr>\n    <tr>\n      <th>C08</th>\n      <td>POWDERHORN</td>\n    </tr>\n    <tr>\n      <th>C09</th>\n      <td>SOUTHWEST</td>\n    </tr>\n    <tr>\n      <th>C10</th>\n      <td>UNIVERSITY</td>\n    </tr>\n  </tbody>\n</table>\n</div>"
     },
     "metadata": {},
     "execution_count": 40
    }
   ],
   "source": [
    "#The final Community Key table. \n",
    "cmnty_keys_df.set_index('CMNTY_KEY', inplace=True)\n",
    "msp_cmnty_keys_sql = cmnty_keys_df\n",
    "msp_cmnty_keys_sql"
   ]
  },
  {
   "cell_type": "code",
   "execution_count": 41,
   "metadata": {},
   "outputs": [],
   "source": [
    "#The final Neighborhood Key table\n",
    "msp_nbhd_keys_sql=nbhd_keys_df.drop(['COMMUNITY', 'neighborhood_url'], axis = 1) \n",
    "msp_nbhd_keys_sql.set_index('NBHD_KEY', inplace=True)"
   ]
  },
  {
   "cell_type": "code",
   "execution_count": 42,
   "metadata": {},
   "outputs": [
    {
     "output_type": "execute_result",
     "data": {
      "text/plain": "          NEIGHBORHOOD CMNTY_KEY\nNBHD_KEY                        \nN71           ARMATAGE       C09\nN46       AUDUBON PARK       C06\nN63           BANCROFT       C08\nN47           BELTRAMI       C06\nN48          BOTTINEAU       C06\n...                ...       ...\nN08       WEST CALHOUN       C00\nN70           WHITTIER       C08\nN34        WILLARD-HAY       C04\nN79             WINDOM       C09\nN58        WINDOM PARK       C06\n\n[87 rows x 2 columns]",
      "text/html": "<div>\n<style scoped>\n    .dataframe tbody tr th:only-of-type {\n        vertical-align: middle;\n    }\n\n    .dataframe tbody tr th {\n        vertical-align: top;\n    }\n\n    .dataframe thead th {\n        text-align: right;\n    }\n</style>\n<table border=\"1\" class=\"dataframe\">\n  <thead>\n    <tr style=\"text-align: right;\">\n      <th></th>\n      <th>NEIGHBORHOOD</th>\n      <th>CMNTY_KEY</th>\n    </tr>\n    <tr>\n      <th>NBHD_KEY</th>\n      <th></th>\n      <th></th>\n    </tr>\n  </thead>\n  <tbody>\n    <tr>\n      <th>N71</th>\n      <td>ARMATAGE</td>\n      <td>C09</td>\n    </tr>\n    <tr>\n      <th>N46</th>\n      <td>AUDUBON PARK</td>\n      <td>C06</td>\n    </tr>\n    <tr>\n      <th>N63</th>\n      <td>BANCROFT</td>\n      <td>C08</td>\n    </tr>\n    <tr>\n      <th>N47</th>\n      <td>BELTRAMI</td>\n      <td>C06</td>\n    </tr>\n    <tr>\n      <th>N48</th>\n      <td>BOTTINEAU</td>\n      <td>C06</td>\n    </tr>\n    <tr>\n      <th>...</th>\n      <td>...</td>\n      <td>...</td>\n    </tr>\n    <tr>\n      <th>N08</th>\n      <td>WEST CALHOUN</td>\n      <td>C00</td>\n    </tr>\n    <tr>\n      <th>N70</th>\n      <td>WHITTIER</td>\n      <td>C08</td>\n    </tr>\n    <tr>\n      <th>N34</th>\n      <td>WILLARD-HAY</td>\n      <td>C04</td>\n    </tr>\n    <tr>\n      <th>N79</th>\n      <td>WINDOM</td>\n      <td>C09</td>\n    </tr>\n    <tr>\n      <th>N58</th>\n      <td>WINDOM PARK</td>\n      <td>C06</td>\n    </tr>\n  </tbody>\n</table>\n<p>87 rows × 2 columns</p>\n</div>"
     },
     "metadata": {},
     "execution_count": 42
    }
   ],
   "source": [
    "msp_nbhd_keys_sql"
   ]
  },
  {
   "cell_type": "code",
   "execution_count": 43,
   "metadata": {},
   "outputs": [],
   "source": [
    "#Write the final 3 table to csv's\n",
    "msp_nbhd_race_mix_sql.to_csv('msp_nbhd_race_mix_sql.csv')\n",
    "msp_cmnty_keys_sql.to_csv('msp_cmnty_keys_sql.csv')\n",
    "msp_nbhd_keys_sql.to_csv('msp_nbhd_keys_sql.csv')\n"
   ]
  },
  {
   "cell_type": "code",
   "execution_count": 51,
   "metadata": {},
   "outputs": [
    {
     "output_type": "execute_result",
     "data": {
      "text/plain": "          NEIGHBORHOOD CMNTY_KEY\nNBHD_KEY                        \nN71           ARMATAGE       C09\nN46       AUDUBON PARK       C06\nN63           BANCROFT       C08\nN47           BELTRAMI       C06\nN48          BOTTINEAU       C06\n...                ...       ...\nN08       WEST CALHOUN       C00\nN70           WHITTIER       C08\nN34        WILLARD-HAY       C04\nN79             WINDOM       C09\nN58        WINDOM PARK       C06\n\n[87 rows x 2 columns]",
      "text/html": "<div>\n<style scoped>\n    .dataframe tbody tr th:only-of-type {\n        vertical-align: middle;\n    }\n\n    .dataframe tbody tr th {\n        vertical-align: top;\n    }\n\n    .dataframe thead th {\n        text-align: right;\n    }\n</style>\n<table border=\"1\" class=\"dataframe\">\n  <thead>\n    <tr style=\"text-align: right;\">\n      <th></th>\n      <th>NEIGHBORHOOD</th>\n      <th>CMNTY_KEY</th>\n    </tr>\n    <tr>\n      <th>NBHD_KEY</th>\n      <th></th>\n      <th></th>\n    </tr>\n  </thead>\n  <tbody>\n    <tr>\n      <th>N71</th>\n      <td>ARMATAGE</td>\n      <td>C09</td>\n    </tr>\n    <tr>\n      <th>N46</th>\n      <td>AUDUBON PARK</td>\n      <td>C06</td>\n    </tr>\n    <tr>\n      <th>N63</th>\n      <td>BANCROFT</td>\n      <td>C08</td>\n    </tr>\n    <tr>\n      <th>N47</th>\n      <td>BELTRAMI</td>\n      <td>C06</td>\n    </tr>\n    <tr>\n      <th>N48</th>\n      <td>BOTTINEAU</td>\n      <td>C06</td>\n    </tr>\n    <tr>\n      <th>...</th>\n      <td>...</td>\n      <td>...</td>\n    </tr>\n    <tr>\n      <th>N08</th>\n      <td>WEST CALHOUN</td>\n      <td>C00</td>\n    </tr>\n    <tr>\n      <th>N70</th>\n      <td>WHITTIER</td>\n      <td>C08</td>\n    </tr>\n    <tr>\n      <th>N34</th>\n      <td>WILLARD-HAY</td>\n      <td>C04</td>\n    </tr>\n    <tr>\n      <th>N79</th>\n      <td>WINDOM</td>\n      <td>C09</td>\n    </tr>\n    <tr>\n      <th>N58</th>\n      <td>WINDOM PARK</td>\n      <td>C06</td>\n    </tr>\n  </tbody>\n</table>\n<p>87 rows × 2 columns</p>\n</div>"
     },
     "metadata": {},
     "execution_count": 51
    }
   ],
   "source": [
    "msp_nbhd_keys_sql"
   ]
  },
  {
   "cell_type": "code",
   "execution_count": 44,
   "metadata": {},
   "outputs": [],
   "source": [
    "host = \"localhost\"\n",
    "user = \"postgres\"\n",
    "port = \"5432\"\n",
    "passwd = \"hawkeyes\"\n",
    "db = \"REP_13_ETL_Project\"\n",
    "\n",
    "engine = create_engine(f'postgresql://{user}:{passwd}@{host}:{port}/{db}')\n",
    "connection = engine.connect()"
   ]
  },
  {
   "cell_type": "code",
   "execution_count": 54,
   "metadata": {},
   "outputs": [
    {
     "output_type": "error",
     "ename": "InternalError",
     "evalue": "(psycopg2.errors.DependentObjectsStillExist) cannot drop table msp_cmnty_keys because other objects depend on it\nDETAIL:  constraint fk_msp_nbhd_keys_CMNTY_KEY on table msp_nbhd_keys depends on table msp_cmnty_keys\nHINT:  Use DROP ... CASCADE to drop the dependent objects too.\n\n[SQL: \nDROP TABLE msp_cmnty_keys]\n(Background on this error at: http://sqlalche.me/e/2j85)",
     "traceback": [
      "\u001b[0;31m---------------------------------------------------------------------------\u001b[0m",
      "\u001b[0;31mDependentObjectsStillExist\u001b[0m                Traceback (most recent call last)",
      "\u001b[0;32m/opt/anaconda3/envs/PythonData/lib/python3.6/site-packages/sqlalchemy/engine/base.py\u001b[0m in \u001b[0;36m_execute_context\u001b[0;34m(self, dialect, constructor, statement, parameters, *args)\u001b[0m\n\u001b[1;32m   1247\u001b[0m                     self.dialect.do_execute(\n\u001b[0;32m-> 1248\u001b[0;31m                         \u001b[0mcursor\u001b[0m\u001b[0;34m,\u001b[0m \u001b[0mstatement\u001b[0m\u001b[0;34m,\u001b[0m \u001b[0mparameters\u001b[0m\u001b[0;34m,\u001b[0m \u001b[0mcontext\u001b[0m\u001b[0;34m\u001b[0m\u001b[0;34m\u001b[0m\u001b[0m\n\u001b[0m\u001b[1;32m   1249\u001b[0m                     )\n",
      "\u001b[0;32m/opt/anaconda3/envs/PythonData/lib/python3.6/site-packages/sqlalchemy/engine/default.py\u001b[0m in \u001b[0;36mdo_execute\u001b[0;34m(self, cursor, statement, parameters, context)\u001b[0m\n\u001b[1;32m    589\u001b[0m     \u001b[0;32mdef\u001b[0m \u001b[0mdo_execute\u001b[0m\u001b[0;34m(\u001b[0m\u001b[0mself\u001b[0m\u001b[0;34m,\u001b[0m \u001b[0mcursor\u001b[0m\u001b[0;34m,\u001b[0m \u001b[0mstatement\u001b[0m\u001b[0;34m,\u001b[0m \u001b[0mparameters\u001b[0m\u001b[0;34m,\u001b[0m \u001b[0mcontext\u001b[0m\u001b[0;34m=\u001b[0m\u001b[0;32mNone\u001b[0m\u001b[0;34m)\u001b[0m\u001b[0;34m:\u001b[0m\u001b[0;34m\u001b[0m\u001b[0;34m\u001b[0m\u001b[0m\n\u001b[0;32m--> 590\u001b[0;31m         \u001b[0mcursor\u001b[0m\u001b[0;34m.\u001b[0m\u001b[0mexecute\u001b[0m\u001b[0;34m(\u001b[0m\u001b[0mstatement\u001b[0m\u001b[0;34m,\u001b[0m \u001b[0mparameters\u001b[0m\u001b[0;34m)\u001b[0m\u001b[0;34m\u001b[0m\u001b[0;34m\u001b[0m\u001b[0m\n\u001b[0m\u001b[1;32m    591\u001b[0m \u001b[0;34m\u001b[0m\u001b[0m\n",
      "\u001b[0;31mDependentObjectsStillExist\u001b[0m: cannot drop table msp_cmnty_keys because other objects depend on it\nDETAIL:  constraint fk_msp_nbhd_keys_CMNTY_KEY on table msp_nbhd_keys depends on table msp_cmnty_keys\nHINT:  Use DROP ... CASCADE to drop the dependent objects too.\n",
      "\nThe above exception was the direct cause of the following exception:\n",
      "\u001b[0;31mInternalError\u001b[0m                             Traceback (most recent call last)",
      "\u001b[0;32m<ipython-input-54-913e2813edeb>\u001b[0m in \u001b[0;36m<module>\u001b[0;34m\u001b[0m\n\u001b[1;32m      1\u001b[0m \u001b[0mmsp_nbhd_race_mix_sql\u001b[0m\u001b[0;34m.\u001b[0m\u001b[0mto_sql\u001b[0m\u001b[0;34m(\u001b[0m\u001b[0;34m'msp_nbhd_race_mix'\u001b[0m\u001b[0;34m,\u001b[0m \u001b[0mconnection\u001b[0m\u001b[0;34m,\u001b[0m \u001b[0mif_exists\u001b[0m\u001b[0;34m=\u001b[0m\u001b[0;34m'replace'\u001b[0m\u001b[0;34m)\u001b[0m\u001b[0;34m\u001b[0m\u001b[0;34m\u001b[0m\u001b[0m\n\u001b[1;32m      2\u001b[0m \u001b[0;34m\u001b[0m\u001b[0m\n\u001b[0;32m----> 3\u001b[0;31m \u001b[0mmsp_cmnty_keys_sql\u001b[0m\u001b[0;34m.\u001b[0m\u001b[0mto_sql\u001b[0m\u001b[0;34m(\u001b[0m\u001b[0;34m'msp_cmnty_keys'\u001b[0m\u001b[0;34m,\u001b[0m \u001b[0mconnection\u001b[0m\u001b[0;34m,\u001b[0m \u001b[0mif_exists\u001b[0m\u001b[0;34m=\u001b[0m\u001b[0;34m'replace'\u001b[0m\u001b[0;34m)\u001b[0m\u001b[0;34m\u001b[0m\u001b[0;34m\u001b[0m\u001b[0m\n\u001b[0m\u001b[1;32m      4\u001b[0m \u001b[0mmsp_nbhd_keys_sql\u001b[0m\u001b[0;34m.\u001b[0m\u001b[0mto_sql\u001b[0m\u001b[0;34m(\u001b[0m\u001b[0;34m'msp_nbhd_keys'\u001b[0m\u001b[0;34m,\u001b[0m \u001b[0mconnection\u001b[0m\u001b[0;34m,\u001b[0m \u001b[0mif_exists\u001b[0m\u001b[0;34m=\u001b[0m\u001b[0;34m'replace'\u001b[0m\u001b[0;34m)\u001b[0m\u001b[0;34m\u001b[0m\u001b[0;34m\u001b[0m\u001b[0m\n",
      "\u001b[0;32m/opt/anaconda3/envs/PythonData/lib/python3.6/site-packages/pandas/core/generic.py\u001b[0m in \u001b[0;36mto_sql\u001b[0;34m(self, name, con, schema, if_exists, index, index_label, chunksize, dtype, method)\u001b[0m\n\u001b[1;32m   2661\u001b[0m             \u001b[0mchunksize\u001b[0m\u001b[0;34m=\u001b[0m\u001b[0mchunksize\u001b[0m\u001b[0;34m,\u001b[0m\u001b[0;34m\u001b[0m\u001b[0;34m\u001b[0m\u001b[0m\n\u001b[1;32m   2662\u001b[0m             \u001b[0mdtype\u001b[0m\u001b[0;34m=\u001b[0m\u001b[0mdtype\u001b[0m\u001b[0;34m,\u001b[0m\u001b[0;34m\u001b[0m\u001b[0;34m\u001b[0m\u001b[0m\n\u001b[0;32m-> 2663\u001b[0;31m             \u001b[0mmethod\u001b[0m\u001b[0;34m=\u001b[0m\u001b[0mmethod\u001b[0m\u001b[0;34m,\u001b[0m\u001b[0;34m\u001b[0m\u001b[0;34m\u001b[0m\u001b[0m\n\u001b[0m\u001b[1;32m   2664\u001b[0m         )\n\u001b[1;32m   2665\u001b[0m \u001b[0;34m\u001b[0m\u001b[0m\n",
      "\u001b[0;32m/opt/anaconda3/envs/PythonData/lib/python3.6/site-packages/pandas/io/sql.py\u001b[0m in \u001b[0;36mto_sql\u001b[0;34m(frame, name, con, schema, if_exists, index, index_label, chunksize, dtype, method)\u001b[0m\n\u001b[1;32m    519\u001b[0m         \u001b[0mchunksize\u001b[0m\u001b[0;34m=\u001b[0m\u001b[0mchunksize\u001b[0m\u001b[0;34m,\u001b[0m\u001b[0;34m\u001b[0m\u001b[0;34m\u001b[0m\u001b[0m\n\u001b[1;32m    520\u001b[0m         \u001b[0mdtype\u001b[0m\u001b[0;34m=\u001b[0m\u001b[0mdtype\u001b[0m\u001b[0;34m,\u001b[0m\u001b[0;34m\u001b[0m\u001b[0;34m\u001b[0m\u001b[0m\n\u001b[0;32m--> 521\u001b[0;31m         \u001b[0mmethod\u001b[0m\u001b[0;34m=\u001b[0m\u001b[0mmethod\u001b[0m\u001b[0;34m,\u001b[0m\u001b[0;34m\u001b[0m\u001b[0;34m\u001b[0m\u001b[0m\n\u001b[0m\u001b[1;32m    522\u001b[0m     )\n\u001b[1;32m    523\u001b[0m \u001b[0;34m\u001b[0m\u001b[0m\n",
      "\u001b[0;32m/opt/anaconda3/envs/PythonData/lib/python3.6/site-packages/pandas/io/sql.py\u001b[0m in \u001b[0;36mto_sql\u001b[0;34m(self, frame, name, if_exists, index, index_label, schema, chunksize, dtype, method)\u001b[0m\n\u001b[1;32m   1314\u001b[0m             \u001b[0mdtype\u001b[0m\u001b[0;34m=\u001b[0m\u001b[0mdtype\u001b[0m\u001b[0;34m,\u001b[0m\u001b[0;34m\u001b[0m\u001b[0;34m\u001b[0m\u001b[0m\n\u001b[1;32m   1315\u001b[0m         )\n\u001b[0;32m-> 1316\u001b[0;31m         \u001b[0mtable\u001b[0m\u001b[0;34m.\u001b[0m\u001b[0mcreate\u001b[0m\u001b[0;34m(\u001b[0m\u001b[0;34m)\u001b[0m\u001b[0;34m\u001b[0m\u001b[0;34m\u001b[0m\u001b[0m\n\u001b[0m\u001b[1;32m   1317\u001b[0m         \u001b[0mtable\u001b[0m\u001b[0;34m.\u001b[0m\u001b[0minsert\u001b[0m\u001b[0;34m(\u001b[0m\u001b[0mchunksize\u001b[0m\u001b[0;34m,\u001b[0m \u001b[0mmethod\u001b[0m\u001b[0;34m=\u001b[0m\u001b[0mmethod\u001b[0m\u001b[0;34m)\u001b[0m\u001b[0;34m\u001b[0m\u001b[0;34m\u001b[0m\u001b[0m\n\u001b[1;32m   1318\u001b[0m         \u001b[0;32mif\u001b[0m \u001b[0;32mnot\u001b[0m \u001b[0mname\u001b[0m\u001b[0;34m.\u001b[0m\u001b[0misdigit\u001b[0m\u001b[0;34m(\u001b[0m\u001b[0;34m)\u001b[0m \u001b[0;32mand\u001b[0m \u001b[0;32mnot\u001b[0m \u001b[0mname\u001b[0m\u001b[0;34m.\u001b[0m\u001b[0mislower\u001b[0m\u001b[0;34m(\u001b[0m\u001b[0;34m)\u001b[0m\u001b[0;34m:\u001b[0m\u001b[0;34m\u001b[0m\u001b[0;34m\u001b[0m\u001b[0m\n",
      "\u001b[0;32m/opt/anaconda3/envs/PythonData/lib/python3.6/site-packages/pandas/io/sql.py\u001b[0m in \u001b[0;36mcreate\u001b[0;34m(self)\u001b[0m\n\u001b[1;32m    646\u001b[0m                 \u001b[0;32mraise\u001b[0m \u001b[0mValueError\u001b[0m\u001b[0;34m(\u001b[0m\u001b[0;34mf\"Table '{self.name}' already exists.\"\u001b[0m\u001b[0;34m)\u001b[0m\u001b[0;34m\u001b[0m\u001b[0;34m\u001b[0m\u001b[0m\n\u001b[1;32m    647\u001b[0m             \u001b[0;32melif\u001b[0m \u001b[0mself\u001b[0m\u001b[0;34m.\u001b[0m\u001b[0mif_exists\u001b[0m \u001b[0;34m==\u001b[0m \u001b[0;34m\"replace\"\u001b[0m\u001b[0;34m:\u001b[0m\u001b[0;34m\u001b[0m\u001b[0;34m\u001b[0m\u001b[0m\n\u001b[0;32m--> 648\u001b[0;31m                 \u001b[0mself\u001b[0m\u001b[0;34m.\u001b[0m\u001b[0mpd_sql\u001b[0m\u001b[0;34m.\u001b[0m\u001b[0mdrop_table\u001b[0m\u001b[0;34m(\u001b[0m\u001b[0mself\u001b[0m\u001b[0;34m.\u001b[0m\u001b[0mname\u001b[0m\u001b[0;34m,\u001b[0m \u001b[0mself\u001b[0m\u001b[0;34m.\u001b[0m\u001b[0mschema\u001b[0m\u001b[0;34m)\u001b[0m\u001b[0;34m\u001b[0m\u001b[0;34m\u001b[0m\u001b[0m\n\u001b[0m\u001b[1;32m    649\u001b[0m                 \u001b[0mself\u001b[0m\u001b[0;34m.\u001b[0m\u001b[0m_execute_create\u001b[0m\u001b[0;34m(\u001b[0m\u001b[0;34m)\u001b[0m\u001b[0;34m\u001b[0m\u001b[0;34m\u001b[0m\u001b[0m\n\u001b[1;32m    650\u001b[0m             \u001b[0;32melif\u001b[0m \u001b[0mself\u001b[0m\u001b[0;34m.\u001b[0m\u001b[0mif_exists\u001b[0m \u001b[0;34m==\u001b[0m \u001b[0;34m\"append\"\u001b[0m\u001b[0;34m:\u001b[0m\u001b[0;34m\u001b[0m\u001b[0;34m\u001b[0m\u001b[0m\n",
      "\u001b[0;32m/opt/anaconda3/envs/PythonData/lib/python3.6/site-packages/pandas/io/sql.py\u001b[0m in \u001b[0;36mdrop_table\u001b[0;34m(self, table_name, schema)\u001b[0m\n\u001b[1;32m   1362\u001b[0m         \u001b[0;32mif\u001b[0m \u001b[0mself\u001b[0m\u001b[0;34m.\u001b[0m\u001b[0mhas_table\u001b[0m\u001b[0;34m(\u001b[0m\u001b[0mtable_name\u001b[0m\u001b[0;34m,\u001b[0m \u001b[0mschema\u001b[0m\u001b[0;34m)\u001b[0m\u001b[0;34m:\u001b[0m\u001b[0;34m\u001b[0m\u001b[0;34m\u001b[0m\u001b[0m\n\u001b[1;32m   1363\u001b[0m             \u001b[0mself\u001b[0m\u001b[0;34m.\u001b[0m\u001b[0mmeta\u001b[0m\u001b[0;34m.\u001b[0m\u001b[0mreflect\u001b[0m\u001b[0;34m(\u001b[0m\u001b[0monly\u001b[0m\u001b[0;34m=\u001b[0m\u001b[0;34m[\u001b[0m\u001b[0mtable_name\u001b[0m\u001b[0;34m]\u001b[0m\u001b[0;34m,\u001b[0m \u001b[0mschema\u001b[0m\u001b[0;34m=\u001b[0m\u001b[0mschema\u001b[0m\u001b[0;34m)\u001b[0m\u001b[0;34m\u001b[0m\u001b[0;34m\u001b[0m\u001b[0m\n\u001b[0;32m-> 1364\u001b[0;31m             \u001b[0mself\u001b[0m\u001b[0;34m.\u001b[0m\u001b[0mget_table\u001b[0m\u001b[0;34m(\u001b[0m\u001b[0mtable_name\u001b[0m\u001b[0;34m,\u001b[0m \u001b[0mschema\u001b[0m\u001b[0;34m)\u001b[0m\u001b[0;34m.\u001b[0m\u001b[0mdrop\u001b[0m\u001b[0;34m(\u001b[0m\u001b[0;34m)\u001b[0m\u001b[0;34m\u001b[0m\u001b[0;34m\u001b[0m\u001b[0m\n\u001b[0m\u001b[1;32m   1365\u001b[0m             \u001b[0mself\u001b[0m\u001b[0;34m.\u001b[0m\u001b[0mmeta\u001b[0m\u001b[0;34m.\u001b[0m\u001b[0mclear\u001b[0m\u001b[0;34m(\u001b[0m\u001b[0;34m)\u001b[0m\u001b[0;34m\u001b[0m\u001b[0;34m\u001b[0m\u001b[0m\n\u001b[1;32m   1366\u001b[0m \u001b[0;34m\u001b[0m\u001b[0m\n",
      "\u001b[0;32m/opt/anaconda3/envs/PythonData/lib/python3.6/site-packages/sqlalchemy/sql/schema.py\u001b[0m in \u001b[0;36mdrop\u001b[0;34m(self, bind, checkfirst)\u001b[0m\n\u001b[1;32m    883\u001b[0m         \u001b[0;32mif\u001b[0m \u001b[0mbind\u001b[0m \u001b[0;32mis\u001b[0m \u001b[0;32mNone\u001b[0m\u001b[0;34m:\u001b[0m\u001b[0;34m\u001b[0m\u001b[0;34m\u001b[0m\u001b[0m\n\u001b[1;32m    884\u001b[0m             \u001b[0mbind\u001b[0m \u001b[0;34m=\u001b[0m \u001b[0m_bind_or_error\u001b[0m\u001b[0;34m(\u001b[0m\u001b[0mself\u001b[0m\u001b[0;34m)\u001b[0m\u001b[0;34m\u001b[0m\u001b[0;34m\u001b[0m\u001b[0m\n\u001b[0;32m--> 885\u001b[0;31m         \u001b[0mbind\u001b[0m\u001b[0;34m.\u001b[0m\u001b[0m_run_visitor\u001b[0m\u001b[0;34m(\u001b[0m\u001b[0mddl\u001b[0m\u001b[0;34m.\u001b[0m\u001b[0mSchemaDropper\u001b[0m\u001b[0;34m,\u001b[0m \u001b[0mself\u001b[0m\u001b[0;34m,\u001b[0m \u001b[0mcheckfirst\u001b[0m\u001b[0;34m=\u001b[0m\u001b[0mcheckfirst\u001b[0m\u001b[0;34m)\u001b[0m\u001b[0;34m\u001b[0m\u001b[0;34m\u001b[0m\u001b[0m\n\u001b[0m\u001b[1;32m    886\u001b[0m \u001b[0;34m\u001b[0m\u001b[0m\n\u001b[1;32m    887\u001b[0m     def tometadata(\n",
      "\u001b[0;32m/opt/anaconda3/envs/PythonData/lib/python3.6/site-packages/sqlalchemy/engine/base.py\u001b[0m in \u001b[0;36m_run_visitor\u001b[0;34m(self, visitorcallable, element, **kwargs)\u001b[0m\n\u001b[1;32m   1625\u001b[0m \u001b[0;34m\u001b[0m\u001b[0m\n\u001b[1;32m   1626\u001b[0m     \u001b[0;32mdef\u001b[0m \u001b[0m_run_visitor\u001b[0m\u001b[0;34m(\u001b[0m\u001b[0mself\u001b[0m\u001b[0;34m,\u001b[0m \u001b[0mvisitorcallable\u001b[0m\u001b[0;34m,\u001b[0m \u001b[0melement\u001b[0m\u001b[0;34m,\u001b[0m \u001b[0;34m**\u001b[0m\u001b[0mkwargs\u001b[0m\u001b[0;34m)\u001b[0m\u001b[0;34m:\u001b[0m\u001b[0;34m\u001b[0m\u001b[0;34m\u001b[0m\u001b[0m\n\u001b[0;32m-> 1627\u001b[0;31m         \u001b[0mvisitorcallable\u001b[0m\u001b[0;34m(\u001b[0m\u001b[0mself\u001b[0m\u001b[0;34m.\u001b[0m\u001b[0mdialect\u001b[0m\u001b[0;34m,\u001b[0m \u001b[0mself\u001b[0m\u001b[0;34m,\u001b[0m \u001b[0;34m**\u001b[0m\u001b[0mkwargs\u001b[0m\u001b[0;34m)\u001b[0m\u001b[0;34m.\u001b[0m\u001b[0mtraverse_single\u001b[0m\u001b[0;34m(\u001b[0m\u001b[0melement\u001b[0m\u001b[0;34m)\u001b[0m\u001b[0;34m\u001b[0m\u001b[0;34m\u001b[0m\u001b[0m\n\u001b[0m\u001b[1;32m   1628\u001b[0m \u001b[0;34m\u001b[0m\u001b[0m\n\u001b[1;32m   1629\u001b[0m \u001b[0;34m\u001b[0m\u001b[0m\n",
      "\u001b[0;32m/opt/anaconda3/envs/PythonData/lib/python3.6/site-packages/sqlalchemy/sql/visitors.py\u001b[0m in \u001b[0;36mtraverse_single\u001b[0;34m(self, obj, **kw)\u001b[0m\n\u001b[1;32m    142\u001b[0m             \u001b[0mmeth\u001b[0m \u001b[0;34m=\u001b[0m \u001b[0mgetattr\u001b[0m\u001b[0;34m(\u001b[0m\u001b[0mv\u001b[0m\u001b[0;34m,\u001b[0m \u001b[0;34m\"visit_%s\"\u001b[0m \u001b[0;34m%\u001b[0m \u001b[0mobj\u001b[0m\u001b[0;34m.\u001b[0m\u001b[0m__visit_name__\u001b[0m\u001b[0;34m,\u001b[0m \u001b[0;32mNone\u001b[0m\u001b[0;34m)\u001b[0m\u001b[0;34m\u001b[0m\u001b[0;34m\u001b[0m\u001b[0m\n\u001b[1;32m    143\u001b[0m             \u001b[0;32mif\u001b[0m \u001b[0mmeth\u001b[0m\u001b[0;34m:\u001b[0m\u001b[0;34m\u001b[0m\u001b[0;34m\u001b[0m\u001b[0m\n\u001b[0;32m--> 144\u001b[0;31m                 \u001b[0;32mreturn\u001b[0m \u001b[0mmeth\u001b[0m\u001b[0;34m(\u001b[0m\u001b[0mobj\u001b[0m\u001b[0;34m,\u001b[0m \u001b[0;34m**\u001b[0m\u001b[0mkw\u001b[0m\u001b[0;34m)\u001b[0m\u001b[0;34m\u001b[0m\u001b[0;34m\u001b[0m\u001b[0m\n\u001b[0m\u001b[1;32m    145\u001b[0m \u001b[0;34m\u001b[0m\u001b[0m\n\u001b[1;32m    146\u001b[0m     \u001b[0;32mdef\u001b[0m \u001b[0miterate\u001b[0m\u001b[0;34m(\u001b[0m\u001b[0mself\u001b[0m\u001b[0;34m,\u001b[0m \u001b[0mobj\u001b[0m\u001b[0;34m)\u001b[0m\u001b[0;34m:\u001b[0m\u001b[0;34m\u001b[0m\u001b[0;34m\u001b[0m\u001b[0m\n",
      "\u001b[0;32m/opt/anaconda3/envs/PythonData/lib/python3.6/site-packages/sqlalchemy/sql/ddl.py\u001b[0m in \u001b[0;36mvisit_table\u001b[0;34m(self, table, drop_ok, _is_metadata_operation)\u001b[0m\n\u001b[1;32m   1001\u001b[0m         )\n\u001b[1;32m   1002\u001b[0m \u001b[0;34m\u001b[0m\u001b[0m\n\u001b[0;32m-> 1003\u001b[0;31m         \u001b[0mself\u001b[0m\u001b[0;34m.\u001b[0m\u001b[0mconnection\u001b[0m\u001b[0;34m.\u001b[0m\u001b[0mexecute\u001b[0m\u001b[0;34m(\u001b[0m\u001b[0mDropTable\u001b[0m\u001b[0;34m(\u001b[0m\u001b[0mtable\u001b[0m\u001b[0;34m)\u001b[0m\u001b[0;34m)\u001b[0m\u001b[0;34m\u001b[0m\u001b[0;34m\u001b[0m\u001b[0m\n\u001b[0m\u001b[1;32m   1004\u001b[0m \u001b[0;34m\u001b[0m\u001b[0m\n\u001b[1;32m   1005\u001b[0m         \u001b[0;31m# traverse client side defaults which may refer to server-side\u001b[0m\u001b[0;34m\u001b[0m\u001b[0;34m\u001b[0m\u001b[0;34m\u001b[0m\u001b[0m\n",
      "\u001b[0;32m/opt/anaconda3/envs/PythonData/lib/python3.6/site-packages/sqlalchemy/engine/base.py\u001b[0m in \u001b[0;36mexecute\u001b[0;34m(self, object_, *multiparams, **params)\u001b[0m\n\u001b[1;32m    982\u001b[0m             )\n\u001b[1;32m    983\u001b[0m         \u001b[0;32melse\u001b[0m\u001b[0;34m:\u001b[0m\u001b[0;34m\u001b[0m\u001b[0;34m\u001b[0m\u001b[0m\n\u001b[0;32m--> 984\u001b[0;31m             \u001b[0;32mreturn\u001b[0m \u001b[0mmeth\u001b[0m\u001b[0;34m(\u001b[0m\u001b[0mself\u001b[0m\u001b[0;34m,\u001b[0m \u001b[0mmultiparams\u001b[0m\u001b[0;34m,\u001b[0m \u001b[0mparams\u001b[0m\u001b[0;34m)\u001b[0m\u001b[0;34m\u001b[0m\u001b[0;34m\u001b[0m\u001b[0m\n\u001b[0m\u001b[1;32m    985\u001b[0m \u001b[0;34m\u001b[0m\u001b[0m\n\u001b[1;32m    986\u001b[0m     \u001b[0;32mdef\u001b[0m \u001b[0m_execute_function\u001b[0m\u001b[0;34m(\u001b[0m\u001b[0mself\u001b[0m\u001b[0;34m,\u001b[0m \u001b[0mfunc\u001b[0m\u001b[0;34m,\u001b[0m \u001b[0mmultiparams\u001b[0m\u001b[0;34m,\u001b[0m \u001b[0mparams\u001b[0m\u001b[0;34m)\u001b[0m\u001b[0;34m:\u001b[0m\u001b[0;34m\u001b[0m\u001b[0;34m\u001b[0m\u001b[0m\n",
      "\u001b[0;32m/opt/anaconda3/envs/PythonData/lib/python3.6/site-packages/sqlalchemy/sql/ddl.py\u001b[0m in \u001b[0;36m_execute_on_connection\u001b[0;34m(self, connection, multiparams, params)\u001b[0m\n\u001b[1;32m     70\u001b[0m \u001b[0;34m\u001b[0m\u001b[0m\n\u001b[1;32m     71\u001b[0m     \u001b[0;32mdef\u001b[0m \u001b[0m_execute_on_connection\u001b[0m\u001b[0;34m(\u001b[0m\u001b[0mself\u001b[0m\u001b[0;34m,\u001b[0m \u001b[0mconnection\u001b[0m\u001b[0;34m,\u001b[0m \u001b[0mmultiparams\u001b[0m\u001b[0;34m,\u001b[0m \u001b[0mparams\u001b[0m\u001b[0;34m)\u001b[0m\u001b[0;34m:\u001b[0m\u001b[0;34m\u001b[0m\u001b[0;34m\u001b[0m\u001b[0m\n\u001b[0;32m---> 72\u001b[0;31m         \u001b[0;32mreturn\u001b[0m \u001b[0mconnection\u001b[0m\u001b[0;34m.\u001b[0m\u001b[0m_execute_ddl\u001b[0m\u001b[0;34m(\u001b[0m\u001b[0mself\u001b[0m\u001b[0;34m,\u001b[0m \u001b[0mmultiparams\u001b[0m\u001b[0;34m,\u001b[0m \u001b[0mparams\u001b[0m\u001b[0;34m)\u001b[0m\u001b[0;34m\u001b[0m\u001b[0;34m\u001b[0m\u001b[0m\n\u001b[0m\u001b[1;32m     73\u001b[0m \u001b[0;34m\u001b[0m\u001b[0m\n\u001b[1;32m     74\u001b[0m     \u001b[0;32mdef\u001b[0m \u001b[0mexecute\u001b[0m\u001b[0;34m(\u001b[0m\u001b[0mself\u001b[0m\u001b[0;34m,\u001b[0m \u001b[0mbind\u001b[0m\u001b[0;34m=\u001b[0m\u001b[0;32mNone\u001b[0m\u001b[0;34m,\u001b[0m \u001b[0mtarget\u001b[0m\u001b[0;34m=\u001b[0m\u001b[0;32mNone\u001b[0m\u001b[0;34m)\u001b[0m\u001b[0;34m:\u001b[0m\u001b[0;34m\u001b[0m\u001b[0;34m\u001b[0m\u001b[0m\n",
      "\u001b[0;32m/opt/anaconda3/envs/PythonData/lib/python3.6/site-packages/sqlalchemy/engine/base.py\u001b[0m in \u001b[0;36m_execute_ddl\u001b[0;34m(self, ddl, multiparams, params)\u001b[0m\n\u001b[1;32m   1044\u001b[0m             \u001b[0mcompiled\u001b[0m\u001b[0;34m,\u001b[0m\u001b[0;34m\u001b[0m\u001b[0;34m\u001b[0m\u001b[0m\n\u001b[1;32m   1045\u001b[0m             \u001b[0;32mNone\u001b[0m\u001b[0;34m,\u001b[0m\u001b[0;34m\u001b[0m\u001b[0;34m\u001b[0m\u001b[0m\n\u001b[0;32m-> 1046\u001b[0;31m             \u001b[0mcompiled\u001b[0m\u001b[0;34m,\u001b[0m\u001b[0;34m\u001b[0m\u001b[0;34m\u001b[0m\u001b[0m\n\u001b[0m\u001b[1;32m   1047\u001b[0m         )\n\u001b[1;32m   1048\u001b[0m         \u001b[0;32mif\u001b[0m \u001b[0mself\u001b[0m\u001b[0;34m.\u001b[0m\u001b[0m_has_events\u001b[0m \u001b[0;32mor\u001b[0m \u001b[0mself\u001b[0m\u001b[0;34m.\u001b[0m\u001b[0mengine\u001b[0m\u001b[0;34m.\u001b[0m\u001b[0m_has_events\u001b[0m\u001b[0;34m:\u001b[0m\u001b[0;34m\u001b[0m\u001b[0;34m\u001b[0m\u001b[0m\n",
      "\u001b[0;32m/opt/anaconda3/envs/PythonData/lib/python3.6/site-packages/sqlalchemy/engine/base.py\u001b[0m in \u001b[0;36m_execute_context\u001b[0;34m(self, dialect, constructor, statement, parameters, *args)\u001b[0m\n\u001b[1;32m   1286\u001b[0m         \u001b[0;32mexcept\u001b[0m \u001b[0mBaseException\u001b[0m \u001b[0;32mas\u001b[0m \u001b[0me\u001b[0m\u001b[0;34m:\u001b[0m\u001b[0;34m\u001b[0m\u001b[0;34m\u001b[0m\u001b[0m\n\u001b[1;32m   1287\u001b[0m             self._handle_dbapi_exception(\n\u001b[0;32m-> 1288\u001b[0;31m                 \u001b[0me\u001b[0m\u001b[0;34m,\u001b[0m \u001b[0mstatement\u001b[0m\u001b[0;34m,\u001b[0m \u001b[0mparameters\u001b[0m\u001b[0;34m,\u001b[0m \u001b[0mcursor\u001b[0m\u001b[0;34m,\u001b[0m \u001b[0mcontext\u001b[0m\u001b[0;34m\u001b[0m\u001b[0;34m\u001b[0m\u001b[0m\n\u001b[0m\u001b[1;32m   1289\u001b[0m             )\n\u001b[1;32m   1290\u001b[0m \u001b[0;34m\u001b[0m\u001b[0m\n",
      "\u001b[0;32m/opt/anaconda3/envs/PythonData/lib/python3.6/site-packages/sqlalchemy/engine/base.py\u001b[0m in \u001b[0;36m_handle_dbapi_exception\u001b[0;34m(self, e, statement, parameters, cursor, context)\u001b[0m\n\u001b[1;32m   1480\u001b[0m             \u001b[0;32melif\u001b[0m \u001b[0mshould_wrap\u001b[0m\u001b[0;34m:\u001b[0m\u001b[0;34m\u001b[0m\u001b[0;34m\u001b[0m\u001b[0m\n\u001b[1;32m   1481\u001b[0m                 util.raise_(\n\u001b[0;32m-> 1482\u001b[0;31m                     \u001b[0msqlalchemy_exception\u001b[0m\u001b[0;34m,\u001b[0m \u001b[0mwith_traceback\u001b[0m\u001b[0;34m=\u001b[0m\u001b[0mexc_info\u001b[0m\u001b[0;34m[\u001b[0m\u001b[0;36m2\u001b[0m\u001b[0;34m]\u001b[0m\u001b[0;34m,\u001b[0m \u001b[0mfrom_\u001b[0m\u001b[0;34m=\u001b[0m\u001b[0me\u001b[0m\u001b[0;34m\u001b[0m\u001b[0;34m\u001b[0m\u001b[0m\n\u001b[0m\u001b[1;32m   1483\u001b[0m                 )\n\u001b[1;32m   1484\u001b[0m             \u001b[0;32melse\u001b[0m\u001b[0;34m:\u001b[0m\u001b[0;34m\u001b[0m\u001b[0;34m\u001b[0m\u001b[0m\n",
      "\u001b[0;32m/opt/anaconda3/envs/PythonData/lib/python3.6/site-packages/sqlalchemy/util/compat.py\u001b[0m in \u001b[0;36mraise_\u001b[0;34m(***failed resolving arguments***)\u001b[0m\n\u001b[1;32m    176\u001b[0m \u001b[0;34m\u001b[0m\u001b[0m\n\u001b[1;32m    177\u001b[0m         \u001b[0;32mtry\u001b[0m\u001b[0;34m:\u001b[0m\u001b[0;34m\u001b[0m\u001b[0;34m\u001b[0m\u001b[0m\n\u001b[0;32m--> 178\u001b[0;31m             \u001b[0;32mraise\u001b[0m \u001b[0mexception\u001b[0m\u001b[0;34m\u001b[0m\u001b[0;34m\u001b[0m\u001b[0m\n\u001b[0m\u001b[1;32m    179\u001b[0m         \u001b[0;32mfinally\u001b[0m\u001b[0;34m:\u001b[0m\u001b[0;34m\u001b[0m\u001b[0;34m\u001b[0m\u001b[0m\n\u001b[1;32m    180\u001b[0m             \u001b[0;31m# credit to\u001b[0m\u001b[0;34m\u001b[0m\u001b[0;34m\u001b[0m\u001b[0;34m\u001b[0m\u001b[0m\n",
      "\u001b[0;32m/opt/anaconda3/envs/PythonData/lib/python3.6/site-packages/sqlalchemy/engine/base.py\u001b[0m in \u001b[0;36m_execute_context\u001b[0;34m(self, dialect, constructor, statement, parameters, *args)\u001b[0m\n\u001b[1;32m   1246\u001b[0m                 \u001b[0;32mif\u001b[0m \u001b[0;32mnot\u001b[0m \u001b[0mevt_handled\u001b[0m\u001b[0;34m:\u001b[0m\u001b[0;34m\u001b[0m\u001b[0;34m\u001b[0m\u001b[0m\n\u001b[1;32m   1247\u001b[0m                     self.dialect.do_execute(\n\u001b[0;32m-> 1248\u001b[0;31m                         \u001b[0mcursor\u001b[0m\u001b[0;34m,\u001b[0m \u001b[0mstatement\u001b[0m\u001b[0;34m,\u001b[0m \u001b[0mparameters\u001b[0m\u001b[0;34m,\u001b[0m \u001b[0mcontext\u001b[0m\u001b[0;34m\u001b[0m\u001b[0;34m\u001b[0m\u001b[0m\n\u001b[0m\u001b[1;32m   1249\u001b[0m                     )\n\u001b[1;32m   1250\u001b[0m \u001b[0;34m\u001b[0m\u001b[0m\n",
      "\u001b[0;32m/opt/anaconda3/envs/PythonData/lib/python3.6/site-packages/sqlalchemy/engine/default.py\u001b[0m in \u001b[0;36mdo_execute\u001b[0;34m(self, cursor, statement, parameters, context)\u001b[0m\n\u001b[1;32m    588\u001b[0m \u001b[0;34m\u001b[0m\u001b[0m\n\u001b[1;32m    589\u001b[0m     \u001b[0;32mdef\u001b[0m \u001b[0mdo_execute\u001b[0m\u001b[0;34m(\u001b[0m\u001b[0mself\u001b[0m\u001b[0;34m,\u001b[0m \u001b[0mcursor\u001b[0m\u001b[0;34m,\u001b[0m \u001b[0mstatement\u001b[0m\u001b[0;34m,\u001b[0m \u001b[0mparameters\u001b[0m\u001b[0;34m,\u001b[0m \u001b[0mcontext\u001b[0m\u001b[0;34m=\u001b[0m\u001b[0;32mNone\u001b[0m\u001b[0;34m)\u001b[0m\u001b[0;34m:\u001b[0m\u001b[0;34m\u001b[0m\u001b[0;34m\u001b[0m\u001b[0m\n\u001b[0;32m--> 590\u001b[0;31m         \u001b[0mcursor\u001b[0m\u001b[0;34m.\u001b[0m\u001b[0mexecute\u001b[0m\u001b[0;34m(\u001b[0m\u001b[0mstatement\u001b[0m\u001b[0;34m,\u001b[0m \u001b[0mparameters\u001b[0m\u001b[0;34m)\u001b[0m\u001b[0;34m\u001b[0m\u001b[0;34m\u001b[0m\u001b[0m\n\u001b[0m\u001b[1;32m    591\u001b[0m \u001b[0;34m\u001b[0m\u001b[0m\n\u001b[1;32m    592\u001b[0m     \u001b[0;32mdef\u001b[0m \u001b[0mdo_execute_no_params\u001b[0m\u001b[0;34m(\u001b[0m\u001b[0mself\u001b[0m\u001b[0;34m,\u001b[0m \u001b[0mcursor\u001b[0m\u001b[0;34m,\u001b[0m \u001b[0mstatement\u001b[0m\u001b[0;34m,\u001b[0m \u001b[0mcontext\u001b[0m\u001b[0;34m=\u001b[0m\u001b[0;32mNone\u001b[0m\u001b[0;34m)\u001b[0m\u001b[0;34m:\u001b[0m\u001b[0;34m\u001b[0m\u001b[0;34m\u001b[0m\u001b[0m\n",
      "\u001b[0;31mInternalError\u001b[0m: (psycopg2.errors.DependentObjectsStillExist) cannot drop table msp_cmnty_keys because other objects depend on it\nDETAIL:  constraint fk_msp_nbhd_keys_CMNTY_KEY on table msp_nbhd_keys depends on table msp_cmnty_keys\nHINT:  Use DROP ... CASCADE to drop the dependent objects too.\n\n[SQL: \nDROP TABLE msp_cmnty_keys]\n(Background on this error at: http://sqlalche.me/e/2j85)"
     ]
    }
   ],
   "source": [
    "\n",
    "msp_nbhd_race_mix_sql.to_sql('msp_nbhd_race_mix', connection, if_exists='replace')\n",
    "\n",
    "msp_cmnty_keys_sql.to_sql('msp_cmnty_keys', connection, if_exists='replace')\n",
    "msp_nbhd_keys_sql.to_sql('msp_nbhd_keys', connection, if_exists='replace')\n"
   ]
  },
  {
   "cell_type": "code",
   "execution_count": null,
   "metadata": {},
   "outputs": [],
   "source": []
  }
 ],
 "metadata": {
  "language_info": {
   "codemirror_mode": {
    "name": "ipython",
    "version": 3
   },
   "file_extension": ".py",
   "mimetype": "text/x-python",
   "name": "python",
   "nbconvert_exporter": "python",
   "pygments_lexer": "ipython3",
   "version": "3.6.10-final"
  },
  "orig_nbformat": 2,
  "kernelspec": {
   "name": "python361064bitpythondatacondaab47c43dfe824d4eb95e9e8f15b48370",
   "display_name": "Python 3.6.10 64-bit ('PythonData': conda)"
  }
 },
 "nbformat": 4,
 "nbformat_minor": 2
}