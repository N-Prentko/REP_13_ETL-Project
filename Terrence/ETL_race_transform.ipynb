{
 "cells": [
  {
   "cell_type": "markdown",
   "metadata": {},
   "source": [
    "# ETL Project\n",
    "## Terrence Cummings\n",
    "Scraping race mix by Minneapolis neighborhood"
   ]
  },
  {
   "cell_type": "code",
   "execution_count": 376,
   "metadata": {},
   "outputs": [],
   "source": [
    "import pandas as pd\n",
    "import numpy as np\n",
    "from bs4 import BeautifulSoup\n",
    "import json\n",
    "import requests\n",
    "import pymongo\n",
    "from splinter import Browser\n",
    "from selenium import webdriver\n",
    "import time\n",
    "import sys\n",
    "import os\n",
    "import datetime\n",
    "from selenium.webdriver.chrome.options import Options\n",
    "chrome_options = Options()\n",
    "chrome_options.add_argument(\"--headless\")"
   ]
  },
  {
   "cell_type": "code",
   "execution_count": 377,
   "metadata": {},
   "outputs": [],
   "source": [
    "#Read in CSV's from Extract\n",
    "cmnty_links_df=pd.read_csv('cmnty_links.csv')\n",
    "nbhd_links_df=pd.read_csv('nbhd_links.csv')\n",
    "cmnty_race_df=pd.read_csv('cmnty_race.csv')\n",
    "nbhd_race_df=pd.read_csv('nbhd_race.csv')\n",
    "cmnty_keys_df=pd.read_csv('cmnty_keys.csv')\n",
    "nbhd_keys_df=pd.read_csv('nbhd_keys.csv')"
   ]
  },
  {
   "cell_type": "code",
   "execution_count": 378,
   "metadata": {},
   "outputs": [],
   "source": [
    "nbhd_race_df = nbhd_race_df.replace('suppressed', np.nan)\n"
   ]
  },
  {
   "cell_type": "code",
   "execution_count": 379,
   "metadata": {},
   "outputs": [],
   "source": [
    "nbhd_race_df['white_cnt'] = nbhd_race_df['white_cnt'].str.replace(',', '').astype(float)\n",
    "nbhd_race_df['black_cnt'] = nbhd_race_df['black_cnt'].str.replace(',', '').astype(float)\n",
    "nbhd_race_df['native_cnt'] = nbhd_race_df['native_cnt'].str.replace(',', '').astype(float)\n",
    "nbhd_race_df['asian_cnt'] = nbhd_race_df['asian_cnt'].str.replace(',', '').astype(float)\n",
    "nbhd_race_df['other_cnt'] = nbhd_race_df['other_cnt'].str.replace(',', '').astype(float)\n",
    "nbhd_race_df['two_or_more_cnt'] = nbhd_race_df['two_or_more_cnt'].str.replace(',', '').astype(float)\n",
    "nbhd_race_df['hispanic_cnt'] = nbhd_race_df['hispanic_cnt'].str.replace(',', '').astype(float)\n",
    "nbhd_race_df['of_color_cnt'] = nbhd_race_df['of_color_cnt'].str.replace(',', '').astype(float)"
   ]
  },
  {
   "cell_type": "code",
   "execution_count": 380,
   "metadata": {},
   "outputs": [],
   "source": [
    "nbhd_race_df['white_pct'] = nbhd_race_df['white_pct'].str.replace('%', '').astype(float)/100\n",
    "nbhd_race_df['black_pct'] = nbhd_race_df['black_pct'].str.replace('%', '').astype(float)/100\n",
    "nbhd_race_df['native_pct'] = nbhd_race_df['native_pct'].str.replace('%', '').astype(float)/100\n",
    "nbhd_race_df['asian_pct'] = nbhd_race_df['asian_pct'].str.replace('%', '').astype(float)/100\n",
    "nbhd_race_df['other_pct'] = nbhd_race_df['other_pct'].str.replace('%', '').astype(float)/100\n",
    "nbhd_race_df['two_or_more_pct'] = nbhd_race_df['two_or_more_pct'].str.replace('%', '').astype(float)/100\n",
    "nbhd_race_df['hispanic_pct'] = nbhd_race_df['hispanic_pct'].str.replace('%', '').astype(float)/100\n",
    "nbhd_race_df['of_color_pct'] = nbhd_race_df['of_color_pct'].str.replace('%', '').astype(float)/100"
   ]
  },
  {
   "cell_type": "code",
   "execution_count": 381,
   "metadata": {},
   "outputs": [],
   "source": [
    "nbhd_race_df['total_cnt']=round(nbhd_race_df['white_cnt']/nbhd_race_df['white_pct'],0)"
   ]
  },
  {
   "cell_type": "code",
   "execution_count": 382,
   "metadata": {},
   "outputs": [],
   "source": [
    "temp_nbhd_race_df = nbhd_race_df.merge(nbhd_keys_df, how='outer', left_on='neighborhood', right_on='neighborhood_url')\n",
    "final_nbhd_race_df=temp_nbhd_race_df.drop(['neighborhood', 'neighborhood_url'], axis = 1) \n",
    "final_nbhd_race_df.set_index('NBHD_KEY', inplace=True)\n"
   ]
  },
  {
   "cell_type": "code",
   "execution_count": 383,
   "metadata": {},
   "outputs": [],
   "source": [
    "final_nbhd_race_df = final_nbhd_race_df[['NEIGHBORHOOD','COMMUNITY','total_cnt','white_cnt','white_pct','black_cnt','black_pct','native_cnt','native_pct','asian_cnt','asian_pct','other_cnt','other_pct','two_or_more_cnt','two_or_more_pct','hispanic_cnt','hispanic_pct','of_color_cnt','of_color_pct','URL']]\n"
   ]
  },
  {
   "cell_type": "code",
   "execution_count": 384,
   "metadata": {},
   "outputs": [
    {
     "output_type": "execute_result",
     "data": {
      "text/plain": "                   NEIGHBORHOOD     COMMUNITY  total_cnt  white_cnt  \\\nNBHD_KEY                                                              \nN71                    ARMATAGE     SOUTHWEST     5108.0     4316.0   \nN46                AUDUBON PARK     NORTHEAST     5119.0     4034.0   \nN63                    BANCROFT    POWDERHORN     3544.0     2601.0   \nN02            CEDAR-ISLES-DEAN  CALHOUN-ISLE     3195.0     2927.0   \nN80       CEDAR RSIDE/WEST BANK    UNIVERSITY    10059.0     3219.0   \n...                         ...           ...        ...        ...   \nN55             ST ANTHONY EAST     NORTHEAST        NaN        NaN   \nN56             ST ANTHONY WEST     NORTHEAST        NaN        NaN   \nN33             SUMNER-GLENWOOD    NEAR NORTH        NaN        NaN   \nN86                  UNIVERSITY    UNIVERSITY        NaN        NaN   \nN08                WEST CALHOUN  CALHOUN-ISLE        NaN        NaN   \n\n          white_pct  black_cnt  black_pct  native_cnt  native_pct  asian_cnt  \\\nNBHD_KEY                                                                       \nN71           0.845        NaN        NaN         NaN         NaN        NaN   \nN46           0.788      386.0      0.075         NaN         NaN        NaN   \nN63           0.734      413.0      0.116         NaN         NaN       74.0   \nN02           0.916        NaN        NaN         NaN         NaN        NaN   \nN80           0.320     5146.0      0.511         NaN         NaN     1156.0   \n...             ...        ...        ...         ...         ...        ...   \nN55             NaN        NaN        NaN         NaN         NaN        NaN   \nN56             NaN        NaN        NaN         NaN         NaN        NaN   \nN33             NaN        NaN        NaN         NaN         NaN        NaN   \nN86             NaN        NaN        NaN         NaN         NaN        NaN   \nN08             NaN        NaN        NaN         NaN         NaN        NaN   \n\n          asian_pct  other_cnt  other_pct  two_or_more_cnt  two_or_more_pct  \\\nNBHD_KEY                                                                      \nN71             NaN        NaN        NaN            185.0            0.036   \nN46             NaN        NaN        NaN            303.0            0.059   \nN63           0.021        NaN        NaN            278.0            0.078   \nN02             NaN        NaN        NaN              NaN              NaN   \nN80           0.115        NaN        NaN            396.0            0.039   \n...             ...        ...        ...              ...              ...   \nN55             NaN        NaN        NaN              NaN              NaN   \nN56             NaN        NaN        NaN              NaN              NaN   \nN33             NaN        NaN        NaN              NaN              NaN   \nN86             NaN        NaN        NaN              NaN              NaN   \nN08             NaN        NaN        NaN              NaN              NaN   \n\n          hispanic_cnt  hispanic_pct  of_color_cnt  of_color_pct  \\\nNBHD_KEY                                                           \nN71                NaN           NaN         792.0         0.155   \nN46              449.0         0.088        1083.0         0.212   \nN63              521.0         0.147         943.0         0.266   \nN02                NaN           NaN           NaN           NaN   \nN80              270.0         0.027        6846.0         0.680   \n...                ...           ...           ...           ...   \nN55                NaN           NaN           NaN           NaN   \nN56                NaN           NaN           NaN           NaN   \nN33                NaN           NaN           NaN           NaN   \nN86                NaN           NaN           NaN           NaN   \nN08                NaN           NaN           NaN           NaN   \n\n                                                        URL  \nNBHD_KEY                                                     \nN71       http://www.mncompass.org/profiles/neighborhood...  \nN46       http://www.mncompass.org/profiles/neighborhood...  \nN63       http://www.mncompass.org/profiles/neighborhood...  \nN02       http://www.mncompass.org/profiles/neighborhood...  \nN80       http://www.mncompass.org/profiles/neighborhood...  \n...                                                     ...  \nN55                                                     NaN  \nN56                                                     NaN  \nN33                                                     NaN  \nN86                                                     NaN  \nN08                                                     NaN  \n\n[87 rows x 20 columns]",
      "text/html": "<div>\n<style scoped>\n    .dataframe tbody tr th:only-of-type {\n        vertical-align: middle;\n    }\n\n    .dataframe tbody tr th {\n        vertical-align: top;\n    }\n\n    .dataframe thead th {\n        text-align: right;\n    }\n</style>\n<table border=\"1\" class=\"dataframe\">\n  <thead>\n    <tr style=\"text-align: right;\">\n      <th></th>\n      <th>NEIGHBORHOOD</th>\n      <th>COMMUNITY</th>\n      <th>total_cnt</th>\n      <th>white_cnt</th>\n      <th>white_pct</th>\n      <th>black_cnt</th>\n      <th>black_pct</th>\n      <th>native_cnt</th>\n      <th>native_pct</th>\n      <th>asian_cnt</th>\n      <th>asian_pct</th>\n      <th>other_cnt</th>\n      <th>other_pct</th>\n      <th>two_or_more_cnt</th>\n      <th>two_or_more_pct</th>\n      <th>hispanic_cnt</th>\n      <th>hispanic_pct</th>\n      <th>of_color_cnt</th>\n      <th>of_color_pct</th>\n      <th>URL</th>\n    </tr>\n    <tr>\n      <th>NBHD_KEY</th>\n      <th></th>\n      <th></th>\n      <th></th>\n      <th></th>\n      <th></th>\n      <th></th>\n      <th></th>\n      <th></th>\n      <th></th>\n      <th></th>\n      <th></th>\n      <th></th>\n      <th></th>\n      <th></th>\n      <th></th>\n      <th></th>\n      <th></th>\n      <th></th>\n      <th></th>\n      <th></th>\n    </tr>\n  </thead>\n  <tbody>\n    <tr>\n      <th>N71</th>\n      <td>ARMATAGE</td>\n      <td>SOUTHWEST</td>\n      <td>5108.0</td>\n      <td>4316.0</td>\n      <td>0.845</td>\n      <td>NaN</td>\n      <td>NaN</td>\n      <td>NaN</td>\n      <td>NaN</td>\n      <td>NaN</td>\n      <td>NaN</td>\n      <td>NaN</td>\n      <td>NaN</td>\n      <td>185.0</td>\n      <td>0.036</td>\n      <td>NaN</td>\n      <td>NaN</td>\n      <td>792.0</td>\n      <td>0.155</td>\n      <td>http://www.mncompass.org/profiles/neighborhood...</td>\n    </tr>\n    <tr>\n      <th>N46</th>\n      <td>AUDUBON PARK</td>\n      <td>NORTHEAST</td>\n      <td>5119.0</td>\n      <td>4034.0</td>\n      <td>0.788</td>\n      <td>386.0</td>\n      <td>0.075</td>\n      <td>NaN</td>\n      <td>NaN</td>\n      <td>NaN</td>\n      <td>NaN</td>\n      <td>NaN</td>\n      <td>NaN</td>\n      <td>303.0</td>\n      <td>0.059</td>\n      <td>449.0</td>\n      <td>0.088</td>\n      <td>1083.0</td>\n      <td>0.212</td>\n      <td>http://www.mncompass.org/profiles/neighborhood...</td>\n    </tr>\n    <tr>\n      <th>N63</th>\n      <td>BANCROFT</td>\n      <td>POWDERHORN</td>\n      <td>3544.0</td>\n      <td>2601.0</td>\n      <td>0.734</td>\n      <td>413.0</td>\n      <td>0.116</td>\n      <td>NaN</td>\n      <td>NaN</td>\n      <td>74.0</td>\n      <td>0.021</td>\n      <td>NaN</td>\n      <td>NaN</td>\n      <td>278.0</td>\n      <td>0.078</td>\n      <td>521.0</td>\n      <td>0.147</td>\n      <td>943.0</td>\n      <td>0.266</td>\n      <td>http://www.mncompass.org/profiles/neighborhood...</td>\n    </tr>\n    <tr>\n      <th>N02</th>\n      <td>CEDAR-ISLES-DEAN</td>\n      <td>CALHOUN-ISLE</td>\n      <td>3195.0</td>\n      <td>2927.0</td>\n      <td>0.916</td>\n      <td>NaN</td>\n      <td>NaN</td>\n      <td>NaN</td>\n      <td>NaN</td>\n      <td>NaN</td>\n      <td>NaN</td>\n      <td>NaN</td>\n      <td>NaN</td>\n      <td>NaN</td>\n      <td>NaN</td>\n      <td>NaN</td>\n      <td>NaN</td>\n      <td>NaN</td>\n      <td>NaN</td>\n      <td>http://www.mncompass.org/profiles/neighborhood...</td>\n    </tr>\n    <tr>\n      <th>N80</th>\n      <td>CEDAR RSIDE/WEST BANK</td>\n      <td>UNIVERSITY</td>\n      <td>10059.0</td>\n      <td>3219.0</td>\n      <td>0.320</td>\n      <td>5146.0</td>\n      <td>0.511</td>\n      <td>NaN</td>\n      <td>NaN</td>\n      <td>1156.0</td>\n      <td>0.115</td>\n      <td>NaN</td>\n      <td>NaN</td>\n      <td>396.0</td>\n      <td>0.039</td>\n      <td>270.0</td>\n      <td>0.027</td>\n      <td>6846.0</td>\n      <td>0.680</td>\n      <td>http://www.mncompass.org/profiles/neighborhood...</td>\n    </tr>\n    <tr>\n      <th>...</th>\n      <td>...</td>\n      <td>...</td>\n      <td>...</td>\n      <td>...</td>\n      <td>...</td>\n      <td>...</td>\n      <td>...</td>\n      <td>...</td>\n      <td>...</td>\n      <td>...</td>\n      <td>...</td>\n      <td>...</td>\n      <td>...</td>\n      <td>...</td>\n      <td>...</td>\n      <td>...</td>\n      <td>...</td>\n      <td>...</td>\n      <td>...</td>\n      <td>...</td>\n    </tr>\n    <tr>\n      <th>N55</th>\n      <td>ST ANTHONY EAST</td>\n      <td>NORTHEAST</td>\n      <td>NaN</td>\n      <td>NaN</td>\n      <td>NaN</td>\n      <td>NaN</td>\n      <td>NaN</td>\n      <td>NaN</td>\n      <td>NaN</td>\n      <td>NaN</td>\n      <td>NaN</td>\n      <td>NaN</td>\n      <td>NaN</td>\n      <td>NaN</td>\n      <td>NaN</td>\n      <td>NaN</td>\n      <td>NaN</td>\n      <td>NaN</td>\n      <td>NaN</td>\n      <td>NaN</td>\n    </tr>\n    <tr>\n      <th>N56</th>\n      <td>ST ANTHONY WEST</td>\n      <td>NORTHEAST</td>\n      <td>NaN</td>\n      <td>NaN</td>\n      <td>NaN</td>\n      <td>NaN</td>\n      <td>NaN</td>\n      <td>NaN</td>\n      <td>NaN</td>\n      <td>NaN</td>\n      <td>NaN</td>\n      <td>NaN</td>\n      <td>NaN</td>\n      <td>NaN</td>\n      <td>NaN</td>\n      <td>NaN</td>\n      <td>NaN</td>\n      <td>NaN</td>\n      <td>NaN</td>\n      <td>NaN</td>\n    </tr>\n    <tr>\n      <th>N33</th>\n      <td>SUMNER-GLENWOOD</td>\n      <td>NEAR NORTH</td>\n      <td>NaN</td>\n      <td>NaN</td>\n      <td>NaN</td>\n      <td>NaN</td>\n      <td>NaN</td>\n      <td>NaN</td>\n      <td>NaN</td>\n      <td>NaN</td>\n      <td>NaN</td>\n      <td>NaN</td>\n      <td>NaN</td>\n      <td>NaN</td>\n      <td>NaN</td>\n      <td>NaN</td>\n      <td>NaN</td>\n      <td>NaN</td>\n      <td>NaN</td>\n      <td>NaN</td>\n    </tr>\n    <tr>\n      <th>N86</th>\n      <td>UNIVERSITY</td>\n      <td>UNIVERSITY</td>\n      <td>NaN</td>\n      <td>NaN</td>\n      <td>NaN</td>\n      <td>NaN</td>\n      <td>NaN</td>\n      <td>NaN</td>\n      <td>NaN</td>\n      <td>NaN</td>\n      <td>NaN</td>\n      <td>NaN</td>\n      <td>NaN</td>\n      <td>NaN</td>\n      <td>NaN</td>\n      <td>NaN</td>\n      <td>NaN</td>\n      <td>NaN</td>\n      <td>NaN</td>\n      <td>NaN</td>\n    </tr>\n    <tr>\n      <th>N08</th>\n      <td>WEST CALHOUN</td>\n      <td>CALHOUN-ISLE</td>\n      <td>NaN</td>\n      <td>NaN</td>\n      <td>NaN</td>\n      <td>NaN</td>\n      <td>NaN</td>\n      <td>NaN</td>\n      <td>NaN</td>\n      <td>NaN</td>\n      <td>NaN</td>\n      <td>NaN</td>\n      <td>NaN</td>\n      <td>NaN</td>\n      <td>NaN</td>\n      <td>NaN</td>\n      <td>NaN</td>\n      <td>NaN</td>\n      <td>NaN</td>\n      <td>NaN</td>\n    </tr>\n  </tbody>\n</table>\n<p>87 rows × 20 columns</p>\n</div>"
     },
     "metadata": {},
     "execution_count": 384
    }
   ],
   "source": [
    "final_nbhd_race_df"
   ]
  },
  {
   "cell_type": "code",
   "execution_count": 385,
   "metadata": {},
   "outputs": [],
   "source": [
    "cmnty_race_df['community'] = cmnty_race_df['community'].str.upper()\n",
    "cmnty_race_df = cmnty_race_df.replace('suppressed', '0')\n",
    "cmnty_race_df = cmnty_race_df.replace(np.nan, '0', regex=True)\n"
   ]
  },
  {
   "cell_type": "code",
   "execution_count": 386,
   "metadata": {},
   "outputs": [],
   "source": [
    "cmnty_race_df['white_cnt'] = cmnty_race_df['white_cnt'].str.replace(',', '').astype(float)\n",
    "cmnty_race_df['black_cnt'] = cmnty_race_df['black_cnt'].str.replace(',', '').astype(float)\n",
    "cmnty_race_df['native_cnt'] = cmnty_race_df['native_cnt'].str.replace(',', '').astype(float)\n",
    "cmnty_race_df['asian_cnt'] = cmnty_race_df['asian_cnt'].str.replace(',', '').astype(float)\n",
    "cmnty_race_df['other_cnt'] = cmnty_race_df['other_cnt'].str.replace(',', '').astype(float)\n",
    "cmnty_race_df['two_or_more_cnt'] = cmnty_race_df['two_or_more_cnt'].str.replace(',', '').astype(float)\n",
    "cmnty_race_df['hispanic_cnt'] = cmnty_race_df['hispanic_cnt'].str.replace(',', '').astype(float)\n",
    "cmnty_race_df['of_color_cnt'] = cmnty_race_df['of_color_cnt'].str.replace(',', '').astype(float)\n"
   ]
  },
  {
   "cell_type": "code",
   "execution_count": 387,
   "metadata": {},
   "outputs": [],
   "source": [
    "cmnty_race_df['white_pct'] = cmnty_race_df['white_pct'].str.replace('%', '').astype(float)/100\n",
    "cmnty_race_df['black_pct'] = cmnty_race_df['black_pct'].str.replace('%', '').astype(float)/100\n",
    "cmnty_race_df['native_pct'] = cmnty_race_df['native_pct'].str.replace('%', '').astype(float)/100\n",
    "cmnty_race_df['asian_pct'] = cmnty_race_df['asian_pct'].str.replace('%', '').astype(float)/100\n",
    "cmnty_race_df['other_pct'] = cmnty_race_df['other_pct'].str.replace('%', '').astype(float)/100\n",
    "cmnty_race_df['two_or_more_pct'] = cmnty_race_df['two_or_more_pct'].str.replace('%', '').astype(float)/100\n",
    "cmnty_race_df['hispanic_pct'] = cmnty_race_df['hispanic_pct'].str.replace('%', '').astype(float)/100\n",
    "cmnty_race_df['of_color_pct'] = cmnty_race_df['of_color_pct'].str.replace('%', '').astype(float)/100"
   ]
  },
  {
   "cell_type": "code",
   "execution_count": 388,
   "metadata": {},
   "outputs": [],
   "source": [
    "cmnty_dict = {'CALHOUN-ISLES': 'CALHOUN-ISLE', 'CAMDEN':'CAMDEN', 'CENTRAL': 'CENTRAL', 'LONGFELLOW': 'LONGFELLOW', 'NEAR-NORTH': 'NEAR NORTH', 'NOKOMIS':'NOKOMIS', 'NORTHEAST':'NORTHEAST', 'PHILLIPS': 'PHILLIPS', 'POWDERHORN': 'POWDERHORN', 'SOUTHWEST':'SOUTHWEST', 'UNIVERSITY':'UNIVERSITY'}"
   ]
  },
  {
   "cell_type": "code",
   "execution_count": 389,
   "metadata": {},
   "outputs": [],
   "source": [
    "cmnty_race_df = cmnty_race_df.replace({\"community\": cmnty_dict})"
   ]
  },
  {
   "cell_type": "code",
   "execution_count": 390,
   "metadata": {},
   "outputs": [],
   "source": [
    "final_cmnty_race_df = cmnty_race_df.merge(cmnty_keys_df, how='left', left_on='community', right_on='COMMUNITY')\n",
    "del final_cmnty_race_df['COMMUNITY']\n",
    "final_cmnty_race_df.set_index('CMNTY_KEY', inplace=True)\n",
    "final_cmnty_race_df['total_cnt']=final_cmnty_race_df['white_cnt']+final_cmnty_race_df['of_color_cnt']\n"
   ]
  },
  {
   "cell_type": "code",
   "execution_count": 391,
   "metadata": {},
   "outputs": [
    {
     "output_type": "execute_result",
     "data": {
      "text/plain": "              community  total_cnt  white_cnt  white_pct  black_cnt  \\\nCMNTY_KEY                                                             \nC00        CALHOUN-ISLE    32423.0    27911.0   0.860840     1591.0   \nC01              CAMDEN    30729.0    13565.0   0.441440    10677.0   \nC02             CENTRAL    35312.0    23384.0   0.662211     7133.0   \nC03          LONGFELLOW    29012.0    20399.0   0.703123     5521.0   \nC04          NEAR NORTH    35868.0     8264.0   0.230400    17163.0   \nC05             NOKOMIS    38790.0    30885.0   0.796210     3507.0   \nC06           NORTHEAST    37473.0    28051.0   0.748566     3921.0   \nC07            PHILLIPS    22078.0     6310.0   0.285805     9606.0   \nC08          POWDERHORN    57176.0    33738.0   0.590073    11305.0   \nC09           SOUTHWEST    49733.0    42747.0   0.859530     2289.0   \nC10          UNIVERSITY    47037.0    29871.0   0.635053     7760.0   \n\n           black_pct  native_cnt  native_pct  asian_cnt  asian_pct  other_cnt  \\\nCMNTY_KEY                                                                       \nC00         0.049070         0.0    0.000000     1080.0   0.033310      416.0   \nC01         0.347457       343.0    0.011162     3500.0   0.113899      691.0   \nC02         0.201999       405.0    0.011469     2410.0   0.068249      410.0   \nC03         0.190301       290.0    0.009996      815.0   0.028092      901.0   \nC04         0.478505       629.0    0.017537     5493.0   0.153145     1864.0   \nC05         0.090410       629.0    0.016216      776.0   0.020005     1214.0   \nC06         0.104635       674.0    0.017986     1035.0   0.027620     1999.0   \nC07         0.435094      1255.0    0.056844      757.0   0.034288     3400.0   \nC08         0.197723       787.0    0.013765     1387.0   0.024258     7056.0   \nC09         0.046026         0.0    0.000000     1650.0   0.033177      959.0   \nC10         0.164977       474.0    0.010077     6578.0   0.139847      484.0   \n\n           other_pct  two_or_more_cnt  two_or_more_pct  hispanic_cnt  \\\nCMNTY_KEY                                                              \nC00         0.012830           1309.0         0.040373        1166.0   \nC01         0.022487           1953.0         0.063556        2360.0   \nC02         0.011611           1564.0         0.044291        1645.0   \nC03         0.031056           1072.0         0.036950        2083.0   \nC04         0.051968           2448.0         0.068250        3784.0   \nC05         0.031297           1779.0         0.045862        2160.0   \nC06         0.053345           1793.0         0.047848        3989.0   \nC07         0.153999            750.0         0.033970        5709.0   \nC08         0.123408           2876.0         0.050301       13036.0   \nC09         0.019283           1842.0         0.037038        2021.0   \nC10         0.010290           1870.0         0.039756        1849.0   \n\n           hispanic_pct  of_color_cnt  of_color_pct  \\\nCMNTY_KEY                                             \nC00            0.035962        4512.0      0.139160   \nC01            0.076800       17164.0      0.558560   \nC02            0.046585       11928.0      0.337789   \nC03            0.071798        8613.0      0.296877   \nC04            0.105498       27604.0      0.769600   \nC05            0.055684        7905.0      0.203790   \nC06            0.106450        9422.0      0.251434   \nC07            0.258583       15768.0      0.714195   \nC08            0.227998       23438.0      0.409927   \nC09            0.040637        6986.0      0.140470   \nC10            0.039309       17166.0      0.364947   \n\n                                                         URL  \nCMNTY_KEY                                                     \nC00        http://www.mncompass.org/profiles/communities/...  \nC01        http://www.mncompass.org/profiles/communities/...  \nC02        http://www.mncompass.org/profiles/communities/...  \nC03        http://www.mncompass.org/profiles/communities/...  \nC04        http://www.mncompass.org/profiles/communities/...  \nC05        http://www.mncompass.org/profiles/communities/...  \nC06        http://www.mncompass.org/profiles/communities/...  \nC07        http://www.mncompass.org/profiles/communities/...  \nC08        http://www.mncompass.org/profiles/communities/...  \nC09        http://www.mncompass.org/profiles/communities/...  \nC10        http://www.mncompass.org/profiles/communities/...  ",
      "text/html": "<div>\n<style scoped>\n    .dataframe tbody tr th:only-of-type {\n        vertical-align: middle;\n    }\n\n    .dataframe tbody tr th {\n        vertical-align: top;\n    }\n\n    .dataframe thead th {\n        text-align: right;\n    }\n</style>\n<table border=\"1\" class=\"dataframe\">\n  <thead>\n    <tr style=\"text-align: right;\">\n      <th></th>\n      <th>community</th>\n      <th>total_cnt</th>\n      <th>white_cnt</th>\n      <th>white_pct</th>\n      <th>black_cnt</th>\n      <th>black_pct</th>\n      <th>native_cnt</th>\n      <th>native_pct</th>\n      <th>asian_cnt</th>\n      <th>asian_pct</th>\n      <th>other_cnt</th>\n      <th>other_pct</th>\n      <th>two_or_more_cnt</th>\n      <th>two_or_more_pct</th>\n      <th>hispanic_cnt</th>\n      <th>hispanic_pct</th>\n      <th>of_color_cnt</th>\n      <th>of_color_pct</th>\n      <th>URL</th>\n    </tr>\n    <tr>\n      <th>CMNTY_KEY</th>\n      <th></th>\n      <th></th>\n      <th></th>\n      <th></th>\n      <th></th>\n      <th></th>\n      <th></th>\n      <th></th>\n      <th></th>\n      <th></th>\n      <th></th>\n      <th></th>\n      <th></th>\n      <th></th>\n      <th></th>\n      <th></th>\n      <th></th>\n      <th></th>\n      <th></th>\n    </tr>\n  </thead>\n  <tbody>\n    <tr>\n      <th>C00</th>\n      <td>CALHOUN-ISLE</td>\n      <td>32423.0</td>\n      <td>27911.0</td>\n      <td>0.860840</td>\n      <td>1591.0</td>\n      <td>0.049070</td>\n      <td>0.0</td>\n      <td>0.000000</td>\n      <td>1080.0</td>\n      <td>0.033310</td>\n      <td>416.0</td>\n      <td>0.012830</td>\n      <td>1309.0</td>\n      <td>0.040373</td>\n      <td>1166.0</td>\n      <td>0.035962</td>\n      <td>4512.0</td>\n      <td>0.139160</td>\n      <td>http://www.mncompass.org/profiles/communities/...</td>\n    </tr>\n    <tr>\n      <th>C01</th>\n      <td>CAMDEN</td>\n      <td>30729.0</td>\n      <td>13565.0</td>\n      <td>0.441440</td>\n      <td>10677.0</td>\n      <td>0.347457</td>\n      <td>343.0</td>\n      <td>0.011162</td>\n      <td>3500.0</td>\n      <td>0.113899</td>\n      <td>691.0</td>\n      <td>0.022487</td>\n      <td>1953.0</td>\n      <td>0.063556</td>\n      <td>2360.0</td>\n      <td>0.076800</td>\n      <td>17164.0</td>\n      <td>0.558560</td>\n      <td>http://www.mncompass.org/profiles/communities/...</td>\n    </tr>\n    <tr>\n      <th>C02</th>\n      <td>CENTRAL</td>\n      <td>35312.0</td>\n      <td>23384.0</td>\n      <td>0.662211</td>\n      <td>7133.0</td>\n      <td>0.201999</td>\n      <td>405.0</td>\n      <td>0.011469</td>\n      <td>2410.0</td>\n      <td>0.068249</td>\n      <td>410.0</td>\n      <td>0.011611</td>\n      <td>1564.0</td>\n      <td>0.044291</td>\n      <td>1645.0</td>\n      <td>0.046585</td>\n      <td>11928.0</td>\n      <td>0.337789</td>\n      <td>http://www.mncompass.org/profiles/communities/...</td>\n    </tr>\n    <tr>\n      <th>C03</th>\n      <td>LONGFELLOW</td>\n      <td>29012.0</td>\n      <td>20399.0</td>\n      <td>0.703123</td>\n      <td>5521.0</td>\n      <td>0.190301</td>\n      <td>290.0</td>\n      <td>0.009996</td>\n      <td>815.0</td>\n      <td>0.028092</td>\n      <td>901.0</td>\n      <td>0.031056</td>\n      <td>1072.0</td>\n      <td>0.036950</td>\n      <td>2083.0</td>\n      <td>0.071798</td>\n      <td>8613.0</td>\n      <td>0.296877</td>\n      <td>http://www.mncompass.org/profiles/communities/...</td>\n    </tr>\n    <tr>\n      <th>C04</th>\n      <td>NEAR NORTH</td>\n      <td>35868.0</td>\n      <td>8264.0</td>\n      <td>0.230400</td>\n      <td>17163.0</td>\n      <td>0.478505</td>\n      <td>629.0</td>\n      <td>0.017537</td>\n      <td>5493.0</td>\n      <td>0.153145</td>\n      <td>1864.0</td>\n      <td>0.051968</td>\n      <td>2448.0</td>\n      <td>0.068250</td>\n      <td>3784.0</td>\n      <td>0.105498</td>\n      <td>27604.0</td>\n      <td>0.769600</td>\n      <td>http://www.mncompass.org/profiles/communities/...</td>\n    </tr>\n    <tr>\n      <th>C05</th>\n      <td>NOKOMIS</td>\n      <td>38790.0</td>\n      <td>30885.0</td>\n      <td>0.796210</td>\n      <td>3507.0</td>\n      <td>0.090410</td>\n      <td>629.0</td>\n      <td>0.016216</td>\n      <td>776.0</td>\n      <td>0.020005</td>\n      <td>1214.0</td>\n      <td>0.031297</td>\n      <td>1779.0</td>\n      <td>0.045862</td>\n      <td>2160.0</td>\n      <td>0.055684</td>\n      <td>7905.0</td>\n      <td>0.203790</td>\n      <td>http://www.mncompass.org/profiles/communities/...</td>\n    </tr>\n    <tr>\n      <th>C06</th>\n      <td>NORTHEAST</td>\n      <td>37473.0</td>\n      <td>28051.0</td>\n      <td>0.748566</td>\n      <td>3921.0</td>\n      <td>0.104635</td>\n      <td>674.0</td>\n      <td>0.017986</td>\n      <td>1035.0</td>\n      <td>0.027620</td>\n      <td>1999.0</td>\n      <td>0.053345</td>\n      <td>1793.0</td>\n      <td>0.047848</td>\n      <td>3989.0</td>\n      <td>0.106450</td>\n      <td>9422.0</td>\n      <td>0.251434</td>\n      <td>http://www.mncompass.org/profiles/communities/...</td>\n    </tr>\n    <tr>\n      <th>C07</th>\n      <td>PHILLIPS</td>\n      <td>22078.0</td>\n      <td>6310.0</td>\n      <td>0.285805</td>\n      <td>9606.0</td>\n      <td>0.435094</td>\n      <td>1255.0</td>\n      <td>0.056844</td>\n      <td>757.0</td>\n      <td>0.034288</td>\n      <td>3400.0</td>\n      <td>0.153999</td>\n      <td>750.0</td>\n      <td>0.033970</td>\n      <td>5709.0</td>\n      <td>0.258583</td>\n      <td>15768.0</td>\n      <td>0.714195</td>\n      <td>http://www.mncompass.org/profiles/communities/...</td>\n    </tr>\n    <tr>\n      <th>C08</th>\n      <td>POWDERHORN</td>\n      <td>57176.0</td>\n      <td>33738.0</td>\n      <td>0.590073</td>\n      <td>11305.0</td>\n      <td>0.197723</td>\n      <td>787.0</td>\n      <td>0.013765</td>\n      <td>1387.0</td>\n      <td>0.024258</td>\n      <td>7056.0</td>\n      <td>0.123408</td>\n      <td>2876.0</td>\n      <td>0.050301</td>\n      <td>13036.0</td>\n      <td>0.227998</td>\n      <td>23438.0</td>\n      <td>0.409927</td>\n      <td>http://www.mncompass.org/profiles/communities/...</td>\n    </tr>\n    <tr>\n      <th>C09</th>\n      <td>SOUTHWEST</td>\n      <td>49733.0</td>\n      <td>42747.0</td>\n      <td>0.859530</td>\n      <td>2289.0</td>\n      <td>0.046026</td>\n      <td>0.0</td>\n      <td>0.000000</td>\n      <td>1650.0</td>\n      <td>0.033177</td>\n      <td>959.0</td>\n      <td>0.019283</td>\n      <td>1842.0</td>\n      <td>0.037038</td>\n      <td>2021.0</td>\n      <td>0.040637</td>\n      <td>6986.0</td>\n      <td>0.140470</td>\n      <td>http://www.mncompass.org/profiles/communities/...</td>\n    </tr>\n    <tr>\n      <th>C10</th>\n      <td>UNIVERSITY</td>\n      <td>47037.0</td>\n      <td>29871.0</td>\n      <td>0.635053</td>\n      <td>7760.0</td>\n      <td>0.164977</td>\n      <td>474.0</td>\n      <td>0.010077</td>\n      <td>6578.0</td>\n      <td>0.139847</td>\n      <td>484.0</td>\n      <td>0.010290</td>\n      <td>1870.0</td>\n      <td>0.039756</td>\n      <td>1849.0</td>\n      <td>0.039309</td>\n      <td>17166.0</td>\n      <td>0.364947</td>\n      <td>http://www.mncompass.org/profiles/communities/...</td>\n    </tr>\n  </tbody>\n</table>\n</div>"
     },
     "metadata": {},
     "execution_count": 391
    }
   ],
   "source": [
    "final_cmnty_race_df['white_pct']=final_cmnty_race_df['white_cnt']/final_cmnty_race_df['total_cnt']\n",
    "final_cmnty_race_df['black_pct']=final_cmnty_race_df['black_cnt']/final_cmnty_race_df['total_cnt']\n",
    "final_cmnty_race_df['native_pct']=final_cmnty_race_df['native_cnt']/final_cmnty_race_df['total_cnt']\n",
    "final_cmnty_race_df['asian_pct']=final_cmnty_race_df['asian_cnt']/final_cmnty_race_df['total_cnt']\n",
    "final_cmnty_race_df['other_pct']=final_cmnty_race_df['other_cnt']/final_cmnty_race_df['total_cnt']\n",
    "final_cmnty_race_df['two_or_more_pct']=final_cmnty_race_df['two_or_more_cnt']/final_cmnty_race_df['total_cnt']\n",
    "final_cmnty_race_df['hispanic_pct']=final_cmnty_race_df['hispanic_cnt']/final_cmnty_race_df['total_cnt']\n",
    "final_cmnty_race_df['of_color_pct']=final_cmnty_race_df['of_color_cnt']/final_cmnty_race_df['total_cnt']\n",
    "final_cmnty_race_df = final_cmnty_race_df[['community','total_cnt','white_cnt','white_pct','black_cnt','black_pct','native_cnt','native_pct','asian_cnt','asian_pct','other_cnt','other_pct','two_or_more_cnt','two_or_more_pct','hispanic_cnt','hispanic_pct','of_color_cnt', 'of_color_pct','URL']]\n",
    "final_cmnty_race_df\n"
   ]
  },
  {
   "cell_type": "code",
   "execution_count": 392,
   "metadata": {},
   "outputs": [],
   "source": [
    "nbhd_cmnty_grp_df = pd.DataFrame(final_nbhd_race_df.groupby('COMMUNITY').sum())"
   ]
  },
  {
   "cell_type": "code",
   "execution_count": 393,
   "metadata": {},
   "outputs": [],
   "source": [
    "# nbhd_cmnty_grp_df=nbhd_cmnty_grp_df.drop(['white_pct','black_pct','native_pct','asian_pct','other_pct','two_or_more_pct','hispanic_pct','of_color_pct'], axis = 1) \n",
    "nbhd_cmnty_grp_df['total_cnt'] = nbhd_cmnty_grp_df['white_cnt']+nbhd_cmnty_grp_df['of_color_cnt']"
   ]
  },
  {
   "cell_type": "code",
   "execution_count": 394,
   "metadata": {},
   "outputs": [],
   "source": [
    "nbhd_cmnty_grp_df['white_pct']=nbhd_cmnty_grp_df['white_cnt']/nbhd_cmnty_grp_df['total_cnt']\n",
    "nbhd_cmnty_grp_df['black_pct']=nbhd_cmnty_grp_df['black_cnt']/nbhd_cmnty_grp_df['total_cnt']\n",
    "nbhd_cmnty_grp_df['native_pct']=nbhd_cmnty_grp_df['native_cnt']/nbhd_cmnty_grp_df['total_cnt']\n",
    "nbhd_cmnty_grp_df['asian_pct']=nbhd_cmnty_grp_df['asian_cnt']/nbhd_cmnty_grp_df['total_cnt']\n",
    "nbhd_cmnty_grp_df['other_pct']=nbhd_cmnty_grp_df['other_cnt']/nbhd_cmnty_grp_df['total_cnt']\n",
    "nbhd_cmnty_grp_df['two_or_more_pct']=nbhd_cmnty_grp_df['two_or_more_cnt']/nbhd_cmnty_grp_df['total_cnt']\n",
    "nbhd_cmnty_grp_df['hispanic_pct']=nbhd_cmnty_grp_df['hispanic_cnt']/nbhd_cmnty_grp_df['total_cnt']\n",
    "nbhd_cmnty_grp_df['of_color_pct']=nbhd_cmnty_grp_df['of_color_cnt']/nbhd_cmnty_grp_df['total_cnt']\n",
    "nbhd_cmnty_grp_df = nbhd_cmnty_grp_df[['total_cnt','white_cnt','white_pct','black_cnt','black_pct','native_cnt','native_pct','asian_cnt','asian_pct','other_cnt','other_pct','two_or_more_cnt','two_or_more_pct','hispanic_cnt','hispanic_pct','of_color_cnt', 'of_color_pct']]"
   ]
  },
  {
   "cell_type": "code",
   "execution_count": 395,
   "metadata": {},
   "outputs": [],
   "source": [
    "temp_cmnty_join_df = final_cmnty_race_df.merge(nbhd_cmnty_grp_df, how='left', left_on='community', right_index=True)"
   ]
  },
  {
   "cell_type": "code",
   "execution_count": 396,
   "metadata": {},
   "outputs": [],
   "source": [
    "temp_cmnty_join_df['white_bal_pct'] = (temp_cmnty_join_df['total_cnt_x']*temp_cmnty_join_df['white_pct_x']-temp_cmnty_join_df['total_cnt_y']*temp_cmnty_join_df['white_pct_y'])/(temp_cmnty_join_df['total_cnt_x']-temp_cmnty_join_df['total_cnt_y'])\n",
    "\n",
    "temp_cmnty_join_df['black_bal_pct'] = (temp_cmnty_join_df['total_cnt_x']*temp_cmnty_join_df['black_pct_x']-temp_cmnty_join_df['total_cnt_y']*temp_cmnty_join_df['black_pct_y'])/(temp_cmnty_join_df['total_cnt_x']-temp_cmnty_join_df['total_cnt_y'])\n",
    "\n",
    "temp_cmnty_join_df['native_bal_pct'] = (temp_cmnty_join_df['total_cnt_x']*temp_cmnty_join_df['native_pct_x']-temp_cmnty_join_df['total_cnt_y']*temp_cmnty_join_df['native_pct_y'])/(temp_cmnty_join_df['total_cnt_x']-temp_cmnty_join_df['total_cnt_y'])\n",
    "\n",
    "temp_cmnty_join_df['asian_bal_pct'] = (temp_cmnty_join_df['total_cnt_x']*temp_cmnty_join_df['asian_pct_x']-temp_cmnty_join_df['total_cnt_y']*temp_cmnty_join_df['asian_pct_y'])/(temp_cmnty_join_df['total_cnt_x']-temp_cmnty_join_df['total_cnt_y'])\n",
    "\n",
    "temp_cmnty_join_df['other_bal_pct'] = (temp_cmnty_join_df['total_cnt_x']*temp_cmnty_join_df['other_pct_x']-temp_cmnty_join_df['total_cnt_y']*temp_cmnty_join_df['other_pct_y'])/(temp_cmnty_join_df['total_cnt_x']-temp_cmnty_join_df['total_cnt_y'])\n",
    "\n",
    "temp_cmnty_join_df['two_or_more_bal_pct'] = (temp_cmnty_join_df['total_cnt_x']*temp_cmnty_join_df['two_or_more_pct_x']-temp_cmnty_join_df['total_cnt_y']*temp_cmnty_join_df['two_or_more_pct_y'])/(temp_cmnty_join_df['total_cnt_x']-temp_cmnty_join_df['total_cnt_y'])\n",
    "\n",
    "temp_cmnty_join_df['hispanic_bal_pct'] = (temp_cmnty_join_df['total_cnt_x']*temp_cmnty_join_df['hispanic_pct_x']-temp_cmnty_join_df['total_cnt_y']*temp_cmnty_join_df['hispanic_pct_y'])/(temp_cmnty_join_df['total_cnt_x']-temp_cmnty_join_df['total_cnt_y'])\n",
    "\n",
    "temp_cmnty_join_df['of_color_bal_pct'] = (temp_cmnty_join_df['total_cnt_x']*temp_cmnty_join_df['of_color_pct_x']-temp_cmnty_join_df['total_cnt_y']*temp_cmnty_join_df['of_color_pct_y'])/(temp_cmnty_join_df['total_cnt_x']-temp_cmnty_join_df['total_cnt_y'])\n",
    "\n",
    "temp_cmnty_join_df['marg_err']=(temp_cmnty_join_df['total_cnt_x']-temp_cmnty_join_df['total_cnt_y'])/temp_cmnty_join_df['total_cnt_x']"
   ]
  },
  {
   "cell_type": "code",
   "execution_count": 397,
   "metadata": {},
   "outputs": [],
   "source": [
    "temp_cmnty_join_df=temp_cmnty_join_df.drop(['total_cnt_x','white_cnt_x', 'black_cnt_x', 'native_cnt_x','asian_cnt_x','other_cnt_x','two_or_more_cnt_x','hispanic_cnt_x','of_color_cnt_x','total_cnt_y','white_cnt_y','black_cnt_y','native_cnt_y','asian_cnt_y','other_cnt_y','two_or_more_cnt_y','hispanic_cnt_y','of_color_cnt_y','URL'] , axis = 1) \n"
   ]
  },
  {
   "cell_type": "code",
   "execution_count": 398,
   "metadata": {},
   "outputs": [],
   "source": [
    "temp_cmnty_join_df.rename(columns={'white_pct_x': 'cmnty_white_pct', 'black_pct_x': 'cmnty_black_pct', 'native_pct_x': 'cmnty_native_pct', 'asian_pct_x': 'cmnty_asian_pct', 'other_pct_x': 'cmnty_other_pct', 'two_or_more_pct_x': 'cmnty_two_or_more_pct', 'hispanic_pct_x': 'cmnty_hispanic_pct', 'of_color_pct_x': 'cmnty_of_color_pct', 'white_pct_y': 'nbhd_white_pct', 'black_pct_y': 'nbhd_black_pct', 'native_pct_y': 'nbhd_native_pct', 'asian_pct_y': 'nbhd_asian_pct', 'other_pct_y': 'nbhd_other_pct', 'two_or_more_pct_y': 'nbhd_two_or_more_pct', 'hispanic_pct_y': 'nbhd_hispanic_pct', 'of_color_pct_y': 'nbhd_of_color_pct'}, inplace=True)"
   ]
  },
  {
   "cell_type": "code",
   "execution_count": 399,
   "metadata": {},
   "outputs": [
    {
     "output_type": "execute_result",
     "data": {
      "text/plain": "              community  cmnty_white_pct  cmnty_black_pct  cmnty_native_pct  \\\nCMNTY_KEY                                                                     \nC00        CALHOUN-ISLE         0.860840         0.049070          0.000000   \nC01              CAMDEN         0.441440         0.347457          0.011162   \nC02             CENTRAL         0.662211         0.201999          0.011469   \nC03          LONGFELLOW         0.703123         0.190301          0.009996   \nC04          NEAR NORTH         0.230400         0.478505          0.017537   \nC05             NOKOMIS         0.796210         0.090410          0.016216   \nC06           NORTHEAST         0.748566         0.104635          0.017986   \nC07            PHILLIPS         0.285805         0.435094          0.056844   \nC08          POWDERHORN         0.590073         0.197723          0.013765   \nC09           SOUTHWEST         0.859530         0.046026          0.000000   \nC10          UNIVERSITY         0.635053         0.164977          0.010077   \n\n           cmnty_asian_pct  cmnty_other_pct  cmnty_two_or_more_pct  \\\nCMNTY_KEY                                                            \nC00               0.033310         0.012830               0.040373   \nC01               0.113899         0.022487               0.063556   \nC02               0.068249         0.011611               0.044291   \nC03               0.028092         0.031056               0.036950   \nC04               0.153145         0.051968               0.068250   \nC05               0.020005         0.031297               0.045862   \nC06               0.027620         0.053345               0.047848   \nC07               0.034288         0.153999               0.033970   \nC08               0.024258         0.123408               0.050301   \nC09               0.033177         0.019283               0.037038   \nC10               0.139847         0.010290               0.039756   \n\n           cmnty_hispanic_pct  cmnty_of_color_pct  nbhd_white_pct  ...  \\\nCMNTY_KEY                                                          ...   \nC00                  0.035962            0.139160        0.867721  ...   \nC01                  0.076800            0.558560        0.457291  ...   \nC02                  0.046585            0.337789        0.666189  ...   \nC03                  0.071798            0.296877        0.703133  ...   \nC04                  0.105498            0.769600        0.209381  ...   \nC05                  0.055684            0.203790        0.785304  ...   \nC06                  0.106450            0.251434        0.756839  ...   \nC07                  0.258583            0.714195        0.299936  ...   \nC08                  0.227998            0.409927        0.601738  ...   \nC09                  0.040637            0.140470        0.869142  ...   \nC10                  0.039309            0.364947        0.626845  ...   \n\n           nbhd_of_color_pct  white_bal_pct  black_bal_pct  native_bal_pct  \\\nCMNTY_KEY                                                                    \nC00                 0.132279       0.843526       0.025483        0.000000   \nC01                 0.542709       0.405851       0.368571        0.036223   \nC02                 0.333811       0.587709       0.226816        0.086592   \nC03                 0.296867       1.000000     -36.000000     -245.000000   \nC04                 0.790619       0.344636       0.397919        0.076247   \nC05                 0.214696       0.811247       0.102287        0.038572   \nC06                 0.243161       0.734049       0.149074        0.022493   \nC07                 0.700064       0.235886       0.297680        0.178403   \nC08                 0.398262       0.394532       0.279590        0.244486   \nC09                 0.130858       0.000000       2.050909        0.000000   \nC10                 0.373155       0.755585       0.052351        0.124708   \n\n           asian_bal_pct  other_bal_pct  two_or_more_bal_pct  \\\nCMNTY_KEY                                                      \nC00             0.036218       0.045110             0.064086   \nC01             0.156828       0.072975             0.054599   \nC02             0.119553       0.229050             0.035196   \nC03          -189.000000    -374.000000            -0.000000   \nC04             0.092573       0.092573             0.080732   \nC05             0.030294       0.054271             0.052002   \nC06             0.061600       0.092546             0.044031   \nC07             0.110244       0.217614             0.022583   \nC08             0.031687       0.377446             0.054675   \nC09             1.912727       1.147273             0.801818   \nC10             0.132377       0.119707             0.043681   \n\n           hispanic_bal_pct  of_color_bal_pct  marg_err  \nCMNTY_KEY                                                \nC00                0.055736          0.156474  0.284428  \nC01                0.121027          0.594149  0.308145  \nC02                0.032961          0.412291  0.050691  \nC03             -412.000000         -0.000000 -0.000034  \nC04                0.123789          0.655364  0.155403  \nC05                0.048445          0.188753  0.420392  \nC06                0.115922          0.265951  0.363035  \nC07                0.338945          0.764114  0.220627  \nC08                0.271824          0.605468  0.056300  \nC09                0.896364          1.000000  0.011059  \nC10                0.036345          0.244415  0.063758  \n\n[11 rows x 26 columns]",
      "text/html": "<div>\n<style scoped>\n    .dataframe tbody tr th:only-of-type {\n        vertical-align: middle;\n    }\n\n    .dataframe tbody tr th {\n        vertical-align: top;\n    }\n\n    .dataframe thead th {\n        text-align: right;\n    }\n</style>\n<table border=\"1\" class=\"dataframe\">\n  <thead>\n    <tr style=\"text-align: right;\">\n      <th></th>\n      <th>community</th>\n      <th>cmnty_white_pct</th>\n      <th>cmnty_black_pct</th>\n      <th>cmnty_native_pct</th>\n      <th>cmnty_asian_pct</th>\n      <th>cmnty_other_pct</th>\n      <th>cmnty_two_or_more_pct</th>\n      <th>cmnty_hispanic_pct</th>\n      <th>cmnty_of_color_pct</th>\n      <th>nbhd_white_pct</th>\n      <th>...</th>\n      <th>nbhd_of_color_pct</th>\n      <th>white_bal_pct</th>\n      <th>black_bal_pct</th>\n      <th>native_bal_pct</th>\n      <th>asian_bal_pct</th>\n      <th>other_bal_pct</th>\n      <th>two_or_more_bal_pct</th>\n      <th>hispanic_bal_pct</th>\n      <th>of_color_bal_pct</th>\n      <th>marg_err</th>\n    </tr>\n    <tr>\n      <th>CMNTY_KEY</th>\n      <th></th>\n      <th></th>\n      <th></th>\n      <th></th>\n      <th></th>\n      <th></th>\n      <th></th>\n      <th></th>\n      <th></th>\n      <th></th>\n      <th></th>\n      <th></th>\n      <th></th>\n      <th></th>\n      <th></th>\n      <th></th>\n      <th></th>\n      <th></th>\n      <th></th>\n      <th></th>\n      <th></th>\n    </tr>\n  </thead>\n  <tbody>\n    <tr>\n      <th>C00</th>\n      <td>CALHOUN-ISLE</td>\n      <td>0.860840</td>\n      <td>0.049070</td>\n      <td>0.000000</td>\n      <td>0.033310</td>\n      <td>0.012830</td>\n      <td>0.040373</td>\n      <td>0.035962</td>\n      <td>0.139160</td>\n      <td>0.867721</td>\n      <td>...</td>\n      <td>0.132279</td>\n      <td>0.843526</td>\n      <td>0.025483</td>\n      <td>0.000000</td>\n      <td>0.036218</td>\n      <td>0.045110</td>\n      <td>0.064086</td>\n      <td>0.055736</td>\n      <td>0.156474</td>\n      <td>0.284428</td>\n    </tr>\n    <tr>\n      <th>C01</th>\n      <td>CAMDEN</td>\n      <td>0.441440</td>\n      <td>0.347457</td>\n      <td>0.011162</td>\n      <td>0.113899</td>\n      <td>0.022487</td>\n      <td>0.063556</td>\n      <td>0.076800</td>\n      <td>0.558560</td>\n      <td>0.457291</td>\n      <td>...</td>\n      <td>0.542709</td>\n      <td>0.405851</td>\n      <td>0.368571</td>\n      <td>0.036223</td>\n      <td>0.156828</td>\n      <td>0.072975</td>\n      <td>0.054599</td>\n      <td>0.121027</td>\n      <td>0.594149</td>\n      <td>0.308145</td>\n    </tr>\n    <tr>\n      <th>C02</th>\n      <td>CENTRAL</td>\n      <td>0.662211</td>\n      <td>0.201999</td>\n      <td>0.011469</td>\n      <td>0.068249</td>\n      <td>0.011611</td>\n      <td>0.044291</td>\n      <td>0.046585</td>\n      <td>0.337789</td>\n      <td>0.666189</td>\n      <td>...</td>\n      <td>0.333811</td>\n      <td>0.587709</td>\n      <td>0.226816</td>\n      <td>0.086592</td>\n      <td>0.119553</td>\n      <td>0.229050</td>\n      <td>0.035196</td>\n      <td>0.032961</td>\n      <td>0.412291</td>\n      <td>0.050691</td>\n    </tr>\n    <tr>\n      <th>C03</th>\n      <td>LONGFELLOW</td>\n      <td>0.703123</td>\n      <td>0.190301</td>\n      <td>0.009996</td>\n      <td>0.028092</td>\n      <td>0.031056</td>\n      <td>0.036950</td>\n      <td>0.071798</td>\n      <td>0.296877</td>\n      <td>0.703133</td>\n      <td>...</td>\n      <td>0.296867</td>\n      <td>1.000000</td>\n      <td>-36.000000</td>\n      <td>-245.000000</td>\n      <td>-189.000000</td>\n      <td>-374.000000</td>\n      <td>-0.000000</td>\n      <td>-412.000000</td>\n      <td>-0.000000</td>\n      <td>-0.000034</td>\n    </tr>\n    <tr>\n      <th>C04</th>\n      <td>NEAR NORTH</td>\n      <td>0.230400</td>\n      <td>0.478505</td>\n      <td>0.017537</td>\n      <td>0.153145</td>\n      <td>0.051968</td>\n      <td>0.068250</td>\n      <td>0.105498</td>\n      <td>0.769600</td>\n      <td>0.209381</td>\n      <td>...</td>\n      <td>0.790619</td>\n      <td>0.344636</td>\n      <td>0.397919</td>\n      <td>0.076247</td>\n      <td>0.092573</td>\n      <td>0.092573</td>\n      <td>0.080732</td>\n      <td>0.123789</td>\n      <td>0.655364</td>\n      <td>0.155403</td>\n    </tr>\n    <tr>\n      <th>C05</th>\n      <td>NOKOMIS</td>\n      <td>0.796210</td>\n      <td>0.090410</td>\n      <td>0.016216</td>\n      <td>0.020005</td>\n      <td>0.031297</td>\n      <td>0.045862</td>\n      <td>0.055684</td>\n      <td>0.203790</td>\n      <td>0.785304</td>\n      <td>...</td>\n      <td>0.214696</td>\n      <td>0.811247</td>\n      <td>0.102287</td>\n      <td>0.038572</td>\n      <td>0.030294</td>\n      <td>0.054271</td>\n      <td>0.052002</td>\n      <td>0.048445</td>\n      <td>0.188753</td>\n      <td>0.420392</td>\n    </tr>\n    <tr>\n      <th>C06</th>\n      <td>NORTHEAST</td>\n      <td>0.748566</td>\n      <td>0.104635</td>\n      <td>0.017986</td>\n      <td>0.027620</td>\n      <td>0.053345</td>\n      <td>0.047848</td>\n      <td>0.106450</td>\n      <td>0.251434</td>\n      <td>0.756839</td>\n      <td>...</td>\n      <td>0.243161</td>\n      <td>0.734049</td>\n      <td>0.149074</td>\n      <td>0.022493</td>\n      <td>0.061600</td>\n      <td>0.092546</td>\n      <td>0.044031</td>\n      <td>0.115922</td>\n      <td>0.265951</td>\n      <td>0.363035</td>\n    </tr>\n    <tr>\n      <th>C07</th>\n      <td>PHILLIPS</td>\n      <td>0.285805</td>\n      <td>0.435094</td>\n      <td>0.056844</td>\n      <td>0.034288</td>\n      <td>0.153999</td>\n      <td>0.033970</td>\n      <td>0.258583</td>\n      <td>0.714195</td>\n      <td>0.299936</td>\n      <td>...</td>\n      <td>0.700064</td>\n      <td>0.235886</td>\n      <td>0.297680</td>\n      <td>0.178403</td>\n      <td>0.110244</td>\n      <td>0.217614</td>\n      <td>0.022583</td>\n      <td>0.338945</td>\n      <td>0.764114</td>\n      <td>0.220627</td>\n    </tr>\n    <tr>\n      <th>C08</th>\n      <td>POWDERHORN</td>\n      <td>0.590073</td>\n      <td>0.197723</td>\n      <td>0.013765</td>\n      <td>0.024258</td>\n      <td>0.123408</td>\n      <td>0.050301</td>\n      <td>0.227998</td>\n      <td>0.409927</td>\n      <td>0.601738</td>\n      <td>...</td>\n      <td>0.398262</td>\n      <td>0.394532</td>\n      <td>0.279590</td>\n      <td>0.244486</td>\n      <td>0.031687</td>\n      <td>0.377446</td>\n      <td>0.054675</td>\n      <td>0.271824</td>\n      <td>0.605468</td>\n      <td>0.056300</td>\n    </tr>\n    <tr>\n      <th>C09</th>\n      <td>SOUTHWEST</td>\n      <td>0.859530</td>\n      <td>0.046026</td>\n      <td>0.000000</td>\n      <td>0.033177</td>\n      <td>0.019283</td>\n      <td>0.037038</td>\n      <td>0.040637</td>\n      <td>0.140470</td>\n      <td>0.869142</td>\n      <td>...</td>\n      <td>0.130858</td>\n      <td>0.000000</td>\n      <td>2.050909</td>\n      <td>0.000000</td>\n      <td>1.912727</td>\n      <td>1.147273</td>\n      <td>0.801818</td>\n      <td>0.896364</td>\n      <td>1.000000</td>\n      <td>0.011059</td>\n    </tr>\n    <tr>\n      <th>C10</th>\n      <td>UNIVERSITY</td>\n      <td>0.635053</td>\n      <td>0.164977</td>\n      <td>0.010077</td>\n      <td>0.139847</td>\n      <td>0.010290</td>\n      <td>0.039756</td>\n      <td>0.039309</td>\n      <td>0.364947</td>\n      <td>0.626845</td>\n      <td>...</td>\n      <td>0.373155</td>\n      <td>0.755585</td>\n      <td>0.052351</td>\n      <td>0.124708</td>\n      <td>0.132377</td>\n      <td>0.119707</td>\n      <td>0.043681</td>\n      <td>0.036345</td>\n      <td>0.244415</td>\n      <td>0.063758</td>\n    </tr>\n  </tbody>\n</table>\n<p>11 rows × 26 columns</p>\n</div>"
     },
     "metadata": {},
     "execution_count": 399
    }
   ],
   "source": [
    "race_mix_nan_df = temp_cmnty_join_df\n",
    "race_mix_nan_df"
   ]
  },
  {
   "cell_type": "code",
   "execution_count": null,
   "metadata": {},
   "outputs": [],
   "source": []
  }
 ],
 "metadata": {
  "language_info": {
   "codemirror_mode": {
    "name": "ipython",
    "version": 3
   },
   "file_extension": ".py",
   "mimetype": "text/x-python",
   "name": "python",
   "nbconvert_exporter": "python",
   "pygments_lexer": "ipython3",
   "version": "3.6.10-final"
  },
  "orig_nbformat": 2,
  "kernelspec": {
   "name": "python361064bitpythondatacondaab47c43dfe824d4eb95e9e8f15b48370",
   "display_name": "Python 3.6.10 64-bit ('PythonData': conda)"
  }
 },
 "nbformat": 4,
 "nbformat_minor": 2
}