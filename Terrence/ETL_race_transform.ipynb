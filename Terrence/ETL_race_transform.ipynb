{
 "cells": [
  {
   "cell_type": "markdown",
   "metadata": {},
   "source": [
    "# ETL Project\n",
    "## Terrence Cummings\n",
    "Scraping race mix by Minneapolis neighborhood"
   ]
  },
  {
   "cell_type": "code",
   "execution_count": null,
   "metadata": {},
   "outputs": [],
   "source": [
    "import pandas as pd\n",
    "import numpy as np\n",
    "from bs4 import BeautifulSoup\n",
    "import json\n",
    "import requests\n",
    "import pymongo\n",
    "from splinter import Browser\n",
    "from selenium import webdriver\n",
    "import time\n",
    "import sys\n",
    "import os\n",
    "import datetime\n",
    "from selenium.webdriver.chrome.options import Options\n",
    "chrome_options = Options()\n",
    "chrome_options.add_argument(\"--headless\")"
   ]
  },
  {
   "cell_type": "code",
   "execution_count": 156,
   "metadata": {},
   "outputs": [],
   "source": [
    "#Read in CSV's from Extract\n",
    "cmnty_links_df=pd.read_csv('cmnty_links.csv')\n",
    "nbhd_links_df=pd.read_csv('nbhd_links.csv')\n",
    "cmnty_race_df=pd.read_csv('cmnty_race.csv')\n",
    "nbhd_race_df=pd.read_csv('nbhd_race.csv')\n",
    "cmnty_keys_df=pd.read_csv('cmnty_keys.csv')\n",
    "nbhd_keys_df=pd.read_csv('nbhd_keys.csv')"
   ]
  },
  {
   "cell_type": "code",
   "execution_count": 157,
   "metadata": {},
   "outputs": [],
   "source": [
    "nbhd_race_df = nbhd_race_df.replace('suppressed', np.nan)\n"
   ]
  },
  {
   "cell_type": "code",
   "execution_count": 158,
   "metadata": {},
   "outputs": [],
   "source": [
    "nbhd_race_df['white_cnt'] = nbhd_race_df['white_cnt'].str.replace(',', '').astype(float)\n",
    "nbhd_race_df['black_cnt'] = nbhd_race_df['black_cnt'].str.replace(',', '').astype(float)\n",
    "nbhd_race_df['native_cnt'] = nbhd_race_df['native_cnt'].str.replace(',', '').astype(float)\n",
    "nbhd_race_df['asian_cnt'] = nbhd_race_df['asian_cnt'].str.replace(',', '').astype(float)\n",
    "nbhd_race_df['other_cnt'] = nbhd_race_df['other_cnt'].str.replace(',', '').astype(float)\n",
    "nbhd_race_df['two_or_more_cnt'] = nbhd_race_df['two_or_more_cnt'].str.replace(',', '').astype(float)\n",
    "nbhd_race_df['hispanic_cnt'] = nbhd_race_df['hispanic_cnt'].str.replace(',', '').astype(float)\n",
    "nbhd_race_df['of_color_cnt'] = nbhd_race_df['of_color_cnt'].str.replace(',', '').astype(float)"
   ]
  },
  {
   "cell_type": "code",
   "execution_count": 159,
   "metadata": {},
   "outputs": [],
   "source": [
    "nbhd_race_df['white_pct'] = nbhd_race_df['white_pct'].str.replace('%', '').astype(float)/100\n",
    "nbhd_race_df['black_pct'] = nbhd_race_df['black_pct'].str.replace('%', '').astype(float)/100\n",
    "nbhd_race_df['native_pct'] = nbhd_race_df['native_pct'].str.replace('%', '').astype(float)/100\n",
    "nbhd_race_df['asian_pct'] = nbhd_race_df['asian_pct'].str.replace('%', '').astype(float)/100\n",
    "nbhd_race_df['other_pct'] = nbhd_race_df['other_pct'].str.replace('%', '').astype(float)/100\n",
    "nbhd_race_df['two_or_more_pct'] = nbhd_race_df['two_or_more_pct'].str.replace('%', '').astype(float)/100\n",
    "nbhd_race_df['hispanic_pct'] = nbhd_race_df['hispanic_pct'].str.replace('%', '').astype(float)/100\n",
    "nbhd_race_df['of_color_pct'] = nbhd_race_df['of_color_pct'].str.replace('%', '').astype(float)/100"
   ]
  },
  {
   "cell_type": "code",
   "execution_count": 160,
   "metadata": {},
   "outputs": [],
   "source": [
    "nbhd_race_df['total_cnt']=round(nbhd_race_df['white_cnt']/nbhd_race_df['white_pct'],0)"
   ]
  },
  {
   "cell_type": "code",
   "execution_count": 161,
   "metadata": {},
   "outputs": [],
   "source": [
    "temp_nbhd_race_df = nbhd_race_df.merge(nbhd_keys_df, how='outer', left_on='neighborhood', right_on='neighborhood_url')\n",
    "final_nbhd_race_df=temp_nbhd_race_df.drop(['neighborhood', 'neighborhood_url'], axis = 1) \n",
    "final_nbhd_race_df.set_index('NBHD_KEY', inplace=True)\n"
   ]
  },
  {
   "cell_type": "code",
   "execution_count": 162,
   "metadata": {},
   "outputs": [],
   "source": [
    "final_nbhd_race_df = final_nbhd_race_df[['NEIGHBORHOOD','COMMUNITY','total_cnt','white_cnt','white_pct','black_cnt','black_pct','native_cnt','native_pct','asian_cnt','asian_pct','other_cnt','other_pct','two_or_more_cnt','two_or_more_pct','hispanic_cnt','hispanic_pct','of_color_cnt','of_color_pct','URL']]\n"
   ]
  },
  {
   "cell_type": "code",
   "execution_count": 163,
   "metadata": {},
   "outputs": [
    {
     "output_type": "execute_result",
     "data": {
      "text/plain": "                   NEIGHBORHOOD     COMMUNITY  total_cnt  white_cnt  \\\nNBHD_KEY                                                              \nN71                    ARMATAGE     SOUTHWEST     5108.0     4316.0   \nN46                AUDUBON PARK     NORTHEAST     5119.0     4034.0   \nN63                    BANCROFT    POWDERHORN     3544.0     2601.0   \nN02            CEDAR-ISLES-DEAN  CALHOUN-ISLE     3195.0     2927.0   \nN80       CEDAR RSIDE/WEST BANK    UNIVERSITY    10059.0     3219.0   \n...                         ...           ...        ...        ...   \nN55             ST ANTHONY EAST     NORTHEAST        NaN        NaN   \nN56             ST ANTHONY WEST     NORTHEAST        NaN        NaN   \nN33             SUMNER-GLENWOOD    NEAR NORTH        NaN        NaN   \nN86                  UNIVERSITY    UNIVERSITY        NaN        NaN   \nN08                WEST CALHOUN  CALHOUN-ISLE        NaN        NaN   \n\n          white_pct  black_cnt  black_pct  native_cnt  native_pct  asian_cnt  \\\nNBHD_KEY                                                                       \nN71           0.845        NaN        NaN         NaN         NaN        NaN   \nN46           0.788      386.0      0.075         NaN         NaN        NaN   \nN63           0.734      413.0      0.116         NaN         NaN       74.0   \nN02           0.916        NaN        NaN         NaN         NaN        NaN   \nN80           0.320     5146.0      0.511         NaN         NaN     1156.0   \n...             ...        ...        ...         ...         ...        ...   \nN55             NaN        NaN        NaN         NaN         NaN        NaN   \nN56             NaN        NaN        NaN         NaN         NaN        NaN   \nN33             NaN        NaN        NaN         NaN         NaN        NaN   \nN86             NaN        NaN        NaN         NaN         NaN        NaN   \nN08             NaN        NaN        NaN         NaN         NaN        NaN   \n\n          asian_pct  other_cnt  other_pct  two_or_more_cnt  two_or_more_pct  \\\nNBHD_KEY                                                                      \nN71             NaN        NaN        NaN            185.0            0.036   \nN46             NaN        NaN        NaN            303.0            0.059   \nN63           0.021        NaN        NaN            278.0            0.078   \nN02             NaN        NaN        NaN              NaN              NaN   \nN80           0.115        NaN        NaN            396.0            0.039   \n...             ...        ...        ...              ...              ...   \nN55             NaN        NaN        NaN              NaN              NaN   \nN56             NaN        NaN        NaN              NaN              NaN   \nN33             NaN        NaN        NaN              NaN              NaN   \nN86             NaN        NaN        NaN              NaN              NaN   \nN08             NaN        NaN        NaN              NaN              NaN   \n\n          hispanic_cnt  hispanic_pct  of_color_cnt  of_color_pct  \\\nNBHD_KEY                                                           \nN71                NaN           NaN         792.0         0.155   \nN46              449.0         0.088        1083.0         0.212   \nN63              521.0         0.147         943.0         0.266   \nN02                NaN           NaN           NaN           NaN   \nN80              270.0         0.027        6846.0         0.680   \n...                ...           ...           ...           ...   \nN55                NaN           NaN           NaN           NaN   \nN56                NaN           NaN           NaN           NaN   \nN33                NaN           NaN           NaN           NaN   \nN86                NaN           NaN           NaN           NaN   \nN08                NaN           NaN           NaN           NaN   \n\n                                                        URL  \nNBHD_KEY                                                     \nN71       http://www.mncompass.org/profiles/neighborhood...  \nN46       http://www.mncompass.org/profiles/neighborhood...  \nN63       http://www.mncompass.org/profiles/neighborhood...  \nN02       http://www.mncompass.org/profiles/neighborhood...  \nN80       http://www.mncompass.org/profiles/neighborhood...  \n...                                                     ...  \nN55                                                     NaN  \nN56                                                     NaN  \nN33                                                     NaN  \nN86                                                     NaN  \nN08                                                     NaN  \n\n[87 rows x 20 columns]",
      "text/html": "<div>\n<style scoped>\n    .dataframe tbody tr th:only-of-type {\n        vertical-align: middle;\n    }\n\n    .dataframe tbody tr th {\n        vertical-align: top;\n    }\n\n    .dataframe thead th {\n        text-align: right;\n    }\n</style>\n<table border=\"1\" class=\"dataframe\">\n  <thead>\n    <tr style=\"text-align: right;\">\n      <th></th>\n      <th>NEIGHBORHOOD</th>\n      <th>COMMUNITY</th>\n      <th>total_cnt</th>\n      <th>white_cnt</th>\n      <th>white_pct</th>\n      <th>black_cnt</th>\n      <th>black_pct</th>\n      <th>native_cnt</th>\n      <th>native_pct</th>\n      <th>asian_cnt</th>\n      <th>asian_pct</th>\n      <th>other_cnt</th>\n      <th>other_pct</th>\n      <th>two_or_more_cnt</th>\n      <th>two_or_more_pct</th>\n      <th>hispanic_cnt</th>\n      <th>hispanic_pct</th>\n      <th>of_color_cnt</th>\n      <th>of_color_pct</th>\n      <th>URL</th>\n    </tr>\n    <tr>\n      <th>NBHD_KEY</th>\n      <th></th>\n      <th></th>\n      <th></th>\n      <th></th>\n      <th></th>\n      <th></th>\n      <th></th>\n      <th></th>\n      <th></th>\n      <th></th>\n      <th></th>\n      <th></th>\n      <th></th>\n      <th></th>\n      <th></th>\n      <th></th>\n      <th></th>\n      <th></th>\n      <th></th>\n      <th></th>\n    </tr>\n  </thead>\n  <tbody>\n    <tr>\n      <th>N71</th>\n      <td>ARMATAGE</td>\n      <td>SOUTHWEST</td>\n      <td>5108.0</td>\n      <td>4316.0</td>\n      <td>0.845</td>\n      <td>NaN</td>\n      <td>NaN</td>\n      <td>NaN</td>\n      <td>NaN</td>\n      <td>NaN</td>\n      <td>NaN</td>\n      <td>NaN</td>\n      <td>NaN</td>\n      <td>185.0</td>\n      <td>0.036</td>\n      <td>NaN</td>\n      <td>NaN</td>\n      <td>792.0</td>\n      <td>0.155</td>\n      <td>http://www.mncompass.org/profiles/neighborhood...</td>\n    </tr>\n    <tr>\n      <th>N46</th>\n      <td>AUDUBON PARK</td>\n      <td>NORTHEAST</td>\n      <td>5119.0</td>\n      <td>4034.0</td>\n      <td>0.788</td>\n      <td>386.0</td>\n      <td>0.075</td>\n      <td>NaN</td>\n      <td>NaN</td>\n      <td>NaN</td>\n      <td>NaN</td>\n      <td>NaN</td>\n      <td>NaN</td>\n      <td>303.0</td>\n      <td>0.059</td>\n      <td>449.0</td>\n      <td>0.088</td>\n      <td>1083.0</td>\n      <td>0.212</td>\n      <td>http://www.mncompass.org/profiles/neighborhood...</td>\n    </tr>\n    <tr>\n      <th>N63</th>\n      <td>BANCROFT</td>\n      <td>POWDERHORN</td>\n      <td>3544.0</td>\n      <td>2601.0</td>\n      <td>0.734</td>\n      <td>413.0</td>\n      <td>0.116</td>\n      <td>NaN</td>\n      <td>NaN</td>\n      <td>74.0</td>\n      <td>0.021</td>\n      <td>NaN</td>\n      <td>NaN</td>\n      <td>278.0</td>\n      <td>0.078</td>\n      <td>521.0</td>\n      <td>0.147</td>\n      <td>943.0</td>\n      <td>0.266</td>\n      <td>http://www.mncompass.org/profiles/neighborhood...</td>\n    </tr>\n    <tr>\n      <th>N02</th>\n      <td>CEDAR-ISLES-DEAN</td>\n      <td>CALHOUN-ISLE</td>\n      <td>3195.0</td>\n      <td>2927.0</td>\n      <td>0.916</td>\n      <td>NaN</td>\n      <td>NaN</td>\n      <td>NaN</td>\n      <td>NaN</td>\n      <td>NaN</td>\n      <td>NaN</td>\n      <td>NaN</td>\n      <td>NaN</td>\n      <td>NaN</td>\n      <td>NaN</td>\n      <td>NaN</td>\n      <td>NaN</td>\n      <td>NaN</td>\n      <td>NaN</td>\n      <td>http://www.mncompass.org/profiles/neighborhood...</td>\n    </tr>\n    <tr>\n      <th>N80</th>\n      <td>CEDAR RSIDE/WEST BANK</td>\n      <td>UNIVERSITY</td>\n      <td>10059.0</td>\n      <td>3219.0</td>\n      <td>0.320</td>\n      <td>5146.0</td>\n      <td>0.511</td>\n      <td>NaN</td>\n      <td>NaN</td>\n      <td>1156.0</td>\n      <td>0.115</td>\n      <td>NaN</td>\n      <td>NaN</td>\n      <td>396.0</td>\n      <td>0.039</td>\n      <td>270.0</td>\n      <td>0.027</td>\n      <td>6846.0</td>\n      <td>0.680</td>\n      <td>http://www.mncompass.org/profiles/neighborhood...</td>\n    </tr>\n    <tr>\n      <th>...</th>\n      <td>...</td>\n      <td>...</td>\n      <td>...</td>\n      <td>...</td>\n      <td>...</td>\n      <td>...</td>\n      <td>...</td>\n      <td>...</td>\n      <td>...</td>\n      <td>...</td>\n      <td>...</td>\n      <td>...</td>\n      <td>...</td>\n      <td>...</td>\n      <td>...</td>\n      <td>...</td>\n      <td>...</td>\n      <td>...</td>\n      <td>...</td>\n      <td>...</td>\n    </tr>\n    <tr>\n      <th>N55</th>\n      <td>ST ANTHONY EAST</td>\n      <td>NORTHEAST</td>\n      <td>NaN</td>\n      <td>NaN</td>\n      <td>NaN</td>\n      <td>NaN</td>\n      <td>NaN</td>\n      <td>NaN</td>\n      <td>NaN</td>\n      <td>NaN</td>\n      <td>NaN</td>\n      <td>NaN</td>\n      <td>NaN</td>\n      <td>NaN</td>\n      <td>NaN</td>\n      <td>NaN</td>\n      <td>NaN</td>\n      <td>NaN</td>\n      <td>NaN</td>\n      <td>NaN</td>\n    </tr>\n    <tr>\n      <th>N56</th>\n      <td>ST ANTHONY WEST</td>\n      <td>NORTHEAST</td>\n      <td>NaN</td>\n      <td>NaN</td>\n      <td>NaN</td>\n      <td>NaN</td>\n      <td>NaN</td>\n      <td>NaN</td>\n      <td>NaN</td>\n      <td>NaN</td>\n      <td>NaN</td>\n      <td>NaN</td>\n      <td>NaN</td>\n      <td>NaN</td>\n      <td>NaN</td>\n      <td>NaN</td>\n      <td>NaN</td>\n      <td>NaN</td>\n      <td>NaN</td>\n      <td>NaN</td>\n    </tr>\n    <tr>\n      <th>N33</th>\n      <td>SUMNER-GLENWOOD</td>\n      <td>NEAR NORTH</td>\n      <td>NaN</td>\n      <td>NaN</td>\n      <td>NaN</td>\n      <td>NaN</td>\n      <td>NaN</td>\n      <td>NaN</td>\n      <td>NaN</td>\n      <td>NaN</td>\n      <td>NaN</td>\n      <td>NaN</td>\n      <td>NaN</td>\n      <td>NaN</td>\n      <td>NaN</td>\n      <td>NaN</td>\n      <td>NaN</td>\n      <td>NaN</td>\n      <td>NaN</td>\n      <td>NaN</td>\n    </tr>\n    <tr>\n      <th>N86</th>\n      <td>UNIVERSITY</td>\n      <td>UNIVERSITY</td>\n      <td>NaN</td>\n      <td>NaN</td>\n      <td>NaN</td>\n      <td>NaN</td>\n      <td>NaN</td>\n      <td>NaN</td>\n      <td>NaN</td>\n      <td>NaN</td>\n      <td>NaN</td>\n      <td>NaN</td>\n      <td>NaN</td>\n      <td>NaN</td>\n      <td>NaN</td>\n      <td>NaN</td>\n      <td>NaN</td>\n      <td>NaN</td>\n      <td>NaN</td>\n      <td>NaN</td>\n    </tr>\n    <tr>\n      <th>N08</th>\n      <td>WEST CALHOUN</td>\n      <td>CALHOUN-ISLE</td>\n      <td>NaN</td>\n      <td>NaN</td>\n      <td>NaN</td>\n      <td>NaN</td>\n      <td>NaN</td>\n      <td>NaN</td>\n      <td>NaN</td>\n      <td>NaN</td>\n      <td>NaN</td>\n      <td>NaN</td>\n      <td>NaN</td>\n      <td>NaN</td>\n      <td>NaN</td>\n      <td>NaN</td>\n      <td>NaN</td>\n      <td>NaN</td>\n      <td>NaN</td>\n      <td>NaN</td>\n    </tr>\n  </tbody>\n</table>\n<p>87 rows × 20 columns</p>\n</div>"
     },
     "metadata": {},
     "execution_count": 163
    }
   ],
   "source": [
    "final_nbhd_race_df"
   ]
  },
  {
   "cell_type": "code",
   "execution_count": 164,
   "metadata": {},
   "outputs": [],
   "source": [
    "cmnty_race_df['community'] = cmnty_race_df['community'].str.upper()\n",
    "cmnty_race_df = cmnty_race_df.replace('suppressed', '0')\n",
    "cmnty_race_df = cmnty_race_df.replace(np.nan, '0', regex=True)\n"
   ]
  },
  {
   "cell_type": "code",
   "execution_count": 165,
   "metadata": {},
   "outputs": [],
   "source": [
    "cmnty_race_df['white_cnt'] = cmnty_race_df['white_cnt'].str.replace(',', '').astype(float)\n",
    "cmnty_race_df['black_cnt'] = cmnty_race_df['black_cnt'].str.replace(',', '').astype(float)\n",
    "cmnty_race_df['native_cnt'] = cmnty_race_df['native_cnt'].str.replace(',', '').astype(float)\n",
    "cmnty_race_df['asian_cnt'] = cmnty_race_df['asian_cnt'].str.replace(',', '').astype(float)\n",
    "cmnty_race_df['other_cnt'] = cmnty_race_df['other_cnt'].str.replace(',', '').astype(float)\n",
    "cmnty_race_df['two_or_more_cnt'] = cmnty_race_df['two_or_more_cnt'].str.replace(',', '').astype(float)\n",
    "cmnty_race_df['hispanic_cnt'] = cmnty_race_df['hispanic_cnt'].str.replace(',', '').astype(float)\n",
    "cmnty_race_df['of_color_cnt'] = cmnty_race_df['of_color_cnt'].str.replace(',', '').astype(float)\n"
   ]
  },
  {
   "cell_type": "code",
   "execution_count": 166,
   "metadata": {},
   "outputs": [],
   "source": [
    "cmnty_race_df['white_pct'] = cmnty_race_df['white_pct'].str.replace('%', '').astype(float)/100\n",
    "cmnty_race_df['black_pct'] = cmnty_race_df['black_pct'].str.replace('%', '').astype(float)/100\n",
    "cmnty_race_df['native_pct'] = cmnty_race_df['native_pct'].str.replace('%', '').astype(float)/100\n",
    "cmnty_race_df['asian_pct'] = cmnty_race_df['asian_pct'].str.replace('%', '').astype(float)/100\n",
    "cmnty_race_df['other_pct'] = cmnty_race_df['other_pct'].str.replace('%', '').astype(float)/100\n",
    "cmnty_race_df['two_or_more_pct'] = cmnty_race_df['two_or_more_pct'].str.replace('%', '').astype(float)/100\n",
    "cmnty_race_df['hispanic_pct'] = cmnty_race_df['hispanic_pct'].str.replace('%', '').astype(float)/100\n",
    "cmnty_race_df['of_color_pct'] = cmnty_race_df['of_color_pct'].str.replace('%', '').astype(float)/100"
   ]
  },
  {
   "cell_type": "code",
   "execution_count": 167,
   "metadata": {},
   "outputs": [],
   "source": [
    "cmnty_dict = {'CALHOUN-ISLES': 'CALHOUN-ISLE', 'CAMDEN':'CAMDEN', 'CENTRAL': 'CENTRAL', 'LONGFELLOW': 'LONGFELLOW', 'NEAR-NORTH': 'NEAR NORTH', 'NOKOMIS':'NOKOMIS', 'NORTHEAST':'NORTHEAST', 'PHILLIPS': 'PHILLIPS', 'POWDERHORN': 'POWDERHORN', 'SOUTHWEST':'SOUTHWEST', 'UNIVERSITY':'UNIVERSITY'}"
   ]
  },
  {
   "cell_type": "code",
   "execution_count": 168,
   "metadata": {},
   "outputs": [],
   "source": [
    "cmnty_race_df = cmnty_race_df.replace({\"community\": cmnty_dict})"
   ]
  },
  {
   "cell_type": "code",
   "execution_count": 169,
   "metadata": {},
   "outputs": [],
   "source": [
    "final_cmnty_race_df = cmnty_race_df.merge(cmnty_keys_df, how='left', left_on='community', right_on='COMMUNITY')\n",
    "del final_cmnty_race_df['COMMUNITY']\n",
    "final_cmnty_race_df.set_index('CMNTY_KEY', inplace=True)\n",
    "final_cmnty_race_df['total_cnt']=round(final_cmnty_race_df['white_cnt']/final_cmnty_race_df['white_pct'],0)\n"
   ]
  },
  {
   "cell_type": "code",
   "execution_count": 170,
   "metadata": {},
   "outputs": [],
   "source": [
    "final_cmnty_race_df=final_cmnty_race_df.drop(['white_pct','black_pct','native_pct','asian_pct','other_pct','two_or_more_pct','hispanic_pct','of_color_pct'], axis = 1) \n",
    "\n",
    "final_cmnty_race_df = final_cmnty_race_df[['community','total_cnt','white_cnt','black_cnt','native_cnt','asian_cnt','other_cnt','two_or_more_cnt','hispanic_cnt','of_color_cnt', 'URL']]"
   ]
  },
  {
   "cell_type": "code",
   "execution_count": 171,
   "metadata": {},
   "outputs": [
    {
     "output_type": "execute_result",
     "data": {
      "text/plain": "              community  total_cnt  white_cnt  black_cnt  native_cnt  \\\nCMNTY_KEY                                                              \nC00        CALHOUN-ISLE    32417.0    27911.0     1591.0         0.0   \nC01              CAMDEN    30760.0    13565.0    10677.0       343.0   \nC02             CENTRAL    35323.0    23384.0     7133.0       405.0   \nC03          LONGFELLOW    29017.0    20399.0     5521.0       290.0   \nC04          NEAR NORTH    35930.0     8264.0    17163.0       629.0   \nC05             NOKOMIS    38800.0    30885.0     3507.0       629.0   \nC06           NORTHEAST    37451.0    28051.0     3921.0       674.0   \nC07            PHILLIPS    22063.0     6310.0     9606.0      1255.0   \nC08          POWDERHORN    57183.0    33738.0    11305.0       787.0   \nC09           SOUTHWEST    49706.0    42747.0     2289.0         0.0   \nC10          UNIVERSITY    47041.0    29871.0     7760.0       474.0   \n\n           asian_cnt  other_cnt  two_or_more_cnt  hispanic_cnt  of_color_cnt  \\\nCMNTY_KEY                                                                      \nC00           1080.0      416.0           1309.0        1166.0        4512.0   \nC01           3500.0      691.0           1953.0        2360.0       17164.0   \nC02           2410.0      410.0           1564.0        1645.0       11928.0   \nC03            815.0      901.0           1072.0        2083.0        8613.0   \nC04           5493.0     1864.0           2448.0        3784.0       27604.0   \nC05            776.0     1214.0           1779.0        2160.0        7905.0   \nC06           1035.0     1999.0           1793.0        3989.0        9422.0   \nC07            757.0     3400.0            750.0        5709.0       15768.0   \nC08           1387.0     7056.0           2876.0       13036.0       23438.0   \nC09           1650.0      959.0           1842.0        2021.0        6986.0   \nC10           6578.0      484.0           1870.0        1849.0       17166.0   \n\n                                                         URL  \nCMNTY_KEY                                                     \nC00        http://www.mncompass.org/profiles/communities/...  \nC01        http://www.mncompass.org/profiles/communities/...  \nC02        http://www.mncompass.org/profiles/communities/...  \nC03        http://www.mncompass.org/profiles/communities/...  \nC04        http://www.mncompass.org/profiles/communities/...  \nC05        http://www.mncompass.org/profiles/communities/...  \nC06        http://www.mncompass.org/profiles/communities/...  \nC07        http://www.mncompass.org/profiles/communities/...  \nC08        http://www.mncompass.org/profiles/communities/...  \nC09        http://www.mncompass.org/profiles/communities/...  \nC10        http://www.mncompass.org/profiles/communities/...  ",
      "text/html": "<div>\n<style scoped>\n    .dataframe tbody tr th:only-of-type {\n        vertical-align: middle;\n    }\n\n    .dataframe tbody tr th {\n        vertical-align: top;\n    }\n\n    .dataframe thead th {\n        text-align: right;\n    }\n</style>\n<table border=\"1\" class=\"dataframe\">\n  <thead>\n    <tr style=\"text-align: right;\">\n      <th></th>\n      <th>community</th>\n      <th>total_cnt</th>\n      <th>white_cnt</th>\n      <th>black_cnt</th>\n      <th>native_cnt</th>\n      <th>asian_cnt</th>\n      <th>other_cnt</th>\n      <th>two_or_more_cnt</th>\n      <th>hispanic_cnt</th>\n      <th>of_color_cnt</th>\n      <th>URL</th>\n    </tr>\n    <tr>\n      <th>CMNTY_KEY</th>\n      <th></th>\n      <th></th>\n      <th></th>\n      <th></th>\n      <th></th>\n      <th></th>\n      <th></th>\n      <th></th>\n      <th></th>\n      <th></th>\n      <th></th>\n    </tr>\n  </thead>\n  <tbody>\n    <tr>\n      <th>C00</th>\n      <td>CALHOUN-ISLE</td>\n      <td>32417.0</td>\n      <td>27911.0</td>\n      <td>1591.0</td>\n      <td>0.0</td>\n      <td>1080.0</td>\n      <td>416.0</td>\n      <td>1309.0</td>\n      <td>1166.0</td>\n      <td>4512.0</td>\n      <td>http://www.mncompass.org/profiles/communities/...</td>\n    </tr>\n    <tr>\n      <th>C01</th>\n      <td>CAMDEN</td>\n      <td>30760.0</td>\n      <td>13565.0</td>\n      <td>10677.0</td>\n      <td>343.0</td>\n      <td>3500.0</td>\n      <td>691.0</td>\n      <td>1953.0</td>\n      <td>2360.0</td>\n      <td>17164.0</td>\n      <td>http://www.mncompass.org/profiles/communities/...</td>\n    </tr>\n    <tr>\n      <th>C02</th>\n      <td>CENTRAL</td>\n      <td>35323.0</td>\n      <td>23384.0</td>\n      <td>7133.0</td>\n      <td>405.0</td>\n      <td>2410.0</td>\n      <td>410.0</td>\n      <td>1564.0</td>\n      <td>1645.0</td>\n      <td>11928.0</td>\n      <td>http://www.mncompass.org/profiles/communities/...</td>\n    </tr>\n    <tr>\n      <th>C03</th>\n      <td>LONGFELLOW</td>\n      <td>29017.0</td>\n      <td>20399.0</td>\n      <td>5521.0</td>\n      <td>290.0</td>\n      <td>815.0</td>\n      <td>901.0</td>\n      <td>1072.0</td>\n      <td>2083.0</td>\n      <td>8613.0</td>\n      <td>http://www.mncompass.org/profiles/communities/...</td>\n    </tr>\n    <tr>\n      <th>C04</th>\n      <td>NEAR NORTH</td>\n      <td>35930.0</td>\n      <td>8264.0</td>\n      <td>17163.0</td>\n      <td>629.0</td>\n      <td>5493.0</td>\n      <td>1864.0</td>\n      <td>2448.0</td>\n      <td>3784.0</td>\n      <td>27604.0</td>\n      <td>http://www.mncompass.org/profiles/communities/...</td>\n    </tr>\n    <tr>\n      <th>C05</th>\n      <td>NOKOMIS</td>\n      <td>38800.0</td>\n      <td>30885.0</td>\n      <td>3507.0</td>\n      <td>629.0</td>\n      <td>776.0</td>\n      <td>1214.0</td>\n      <td>1779.0</td>\n      <td>2160.0</td>\n      <td>7905.0</td>\n      <td>http://www.mncompass.org/profiles/communities/...</td>\n    </tr>\n    <tr>\n      <th>C06</th>\n      <td>NORTHEAST</td>\n      <td>37451.0</td>\n      <td>28051.0</td>\n      <td>3921.0</td>\n      <td>674.0</td>\n      <td>1035.0</td>\n      <td>1999.0</td>\n      <td>1793.0</td>\n      <td>3989.0</td>\n      <td>9422.0</td>\n      <td>http://www.mncompass.org/profiles/communities/...</td>\n    </tr>\n    <tr>\n      <th>C07</th>\n      <td>PHILLIPS</td>\n      <td>22063.0</td>\n      <td>6310.0</td>\n      <td>9606.0</td>\n      <td>1255.0</td>\n      <td>757.0</td>\n      <td>3400.0</td>\n      <td>750.0</td>\n      <td>5709.0</td>\n      <td>15768.0</td>\n      <td>http://www.mncompass.org/profiles/communities/...</td>\n    </tr>\n    <tr>\n      <th>C08</th>\n      <td>POWDERHORN</td>\n      <td>57183.0</td>\n      <td>33738.0</td>\n      <td>11305.0</td>\n      <td>787.0</td>\n      <td>1387.0</td>\n      <td>7056.0</td>\n      <td>2876.0</td>\n      <td>13036.0</td>\n      <td>23438.0</td>\n      <td>http://www.mncompass.org/profiles/communities/...</td>\n    </tr>\n    <tr>\n      <th>C09</th>\n      <td>SOUTHWEST</td>\n      <td>49706.0</td>\n      <td>42747.0</td>\n      <td>2289.0</td>\n      <td>0.0</td>\n      <td>1650.0</td>\n      <td>959.0</td>\n      <td>1842.0</td>\n      <td>2021.0</td>\n      <td>6986.0</td>\n      <td>http://www.mncompass.org/profiles/communities/...</td>\n    </tr>\n    <tr>\n      <th>C10</th>\n      <td>UNIVERSITY</td>\n      <td>47041.0</td>\n      <td>29871.0</td>\n      <td>7760.0</td>\n      <td>474.0</td>\n      <td>6578.0</td>\n      <td>484.0</td>\n      <td>1870.0</td>\n      <td>1849.0</td>\n      <td>17166.0</td>\n      <td>http://www.mncompass.org/profiles/communities/...</td>\n    </tr>\n  </tbody>\n</table>\n</div>"
     },
     "metadata": {},
     "execution_count": 171
    }
   ],
   "source": [
    "final_cmnty_race_df"
   ]
  },
  {
   "cell_type": "code",
   "execution_count": null,
   "metadata": {},
   "outputs": [],
   "source": []
  }
 ],
 "metadata": {
  "language_info": {
   "codemirror_mode": {
    "name": "ipython",
    "version": 3
   },
   "file_extension": ".py",
   "mimetype": "text/x-python",
   "name": "python",
   "nbconvert_exporter": "python",
   "pygments_lexer": "ipython3",
   "version": "3.6.10-final"
  },
  "orig_nbformat": 2,
  "kernelspec": {
   "name": "python361064bitpythondatacondaab47c43dfe824d4eb95e9e8f15b48370",
   "display_name": "Python 3.6.10 64-bit ('PythonData': conda)"
  }
 },
 "nbformat": 4,
 "nbformat_minor": 2
}