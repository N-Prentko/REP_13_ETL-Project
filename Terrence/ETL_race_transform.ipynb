{
 "cells": [
  {
   "cell_type": "markdown",
   "metadata": {},
   "source": [
    "# ETL Project - TRANSFORM\n",
    "## Terrence Cummings\n",
    "Data: Race mix of Minneapolis neighborhoods scraped from mncompass.org"
   ]
  },
  {
   "cell_type": "code",
   "execution_count": 111,
   "metadata": {},
   "outputs": [],
   "source": [
    "import pandas as pd\n",
    "import numpy as np\n",
    "from bs4 import BeautifulSoup\n",
    "import json\n",
    "import requests\n",
    "import pymongo\n",
    "from splinter import Browser\n",
    "from selenium import webdriver\n",
    "import time\n",
    "import sys\n",
    "import os\n",
    "import datetime\n",
    "from selenium.webdriver.chrome.options import Options\n",
    "chrome_options = Options()\n",
    "chrome_options.add_argument(\"--headless\")"
   ]
  },
  {
   "cell_type": "code",
   "execution_count": 112,
   "metadata": {},
   "outputs": [],
   "source": [
    "#Read in CSV's from Extract\n",
    "cmnty_links_df=pd.read_csv('cmnty_links.csv')\n",
    "nbhd_links_df=pd.read_csv('nbhd_links.csv')\n",
    "cmnty_race_df=pd.read_csv('cmnty_race.csv')\n",
    "nbhd_race_df=pd.read_csv('nbhd_race.csv')\n",
    "cmnty_keys_df=pd.read_csv('cmnty_keys.csv')\n",
    "nbhd_keys_df=pd.read_csv('nbhd_keys.csv')"
   ]
  },
  {
   "cell_type": "code",
   "execution_count": 113,
   "metadata": {},
   "outputs": [],
   "source": [
    "#Add community key to neighborhood key table to use as a foreign key\n",
    "nbhd_keys_df = nbhd_keys_df.merge(cmnty_keys_df, how='left', left_on='COMMUNITY', right_on='COMMUNITY')\n"
   ]
  },
  {
   "cell_type": "markdown",
   "metadata": {},
   "source": [
    "## Create initial table of MSP neighborhoods (rows) and race mix (columns)"
   ]
  },
  {
   "cell_type": "code",
   "execution_count": 114,
   "metadata": {},
   "outputs": [],
   "source": [
    "#Some figures from the scraped table show the word 'suppressed'. Replace with NaN for subsequent handling.\n",
    "nbhd_race_df = nbhd_race_df.replace('suppressed', np.nan)\n"
   ]
  },
  {
   "cell_type": "code",
   "execution_count": 115,
   "metadata": {},
   "outputs": [],
   "source": [
    "#Convert population count text to numbers\n",
    "nbhd_race_df['white_cnt'] = nbhd_race_df['white_cnt'].str.replace(',', '').astype(float)\n",
    "nbhd_race_df['black_cnt'] = nbhd_race_df['black_cnt'].str.replace(',', '').astype(float)\n",
    "nbhd_race_df['native_cnt'] = nbhd_race_df['native_cnt'].str.replace(',', '').astype(float)\n",
    "nbhd_race_df['asian_cnt'] = nbhd_race_df['asian_cnt'].str.replace(',', '').astype(float)\n",
    "nbhd_race_df['other_cnt'] = nbhd_race_df['other_cnt'].str.replace(',', '').astype(float)\n",
    "nbhd_race_df['two_or_more_cnt'] = nbhd_race_df['two_or_more_cnt'].str.replace(',', '').astype(float)\n",
    "nbhd_race_df['hispanic_cnt'] = nbhd_race_df['hispanic_cnt'].str.replace(',', '').astype(float)\n",
    "nbhd_race_df['of_color_cnt'] = nbhd_race_df['of_color_cnt'].str.replace(',', '').astype(float)"
   ]
  },
  {
   "cell_type": "code",
   "execution_count": 116,
   "metadata": {},
   "outputs": [],
   "source": [
    "#Convert population percentage text to numbers\n",
    "nbhd_race_df['white_pct'] = nbhd_race_df['white_pct'].str.replace('%', '').astype(float)/100\n",
    "nbhd_race_df['black_pct'] = nbhd_race_df['black_pct'].str.replace('%', '').astype(float)/100\n",
    "nbhd_race_df['native_pct'] = nbhd_race_df['native_pct'].str.replace('%', '').astype(float)/100\n",
    "nbhd_race_df['asian_pct'] = nbhd_race_df['asian_pct'].str.replace('%', '').astype(float)/100\n",
    "nbhd_race_df['other_pct'] = nbhd_race_df['other_pct'].str.replace('%', '').astype(float)/100\n",
    "nbhd_race_df['two_or_more_pct'] = nbhd_race_df['two_or_more_pct'].str.replace('%', '').astype(float)/100\n",
    "nbhd_race_df['hispanic_pct'] = nbhd_race_df['hispanic_pct'].str.replace('%', '').astype(float)/100\n",
    "nbhd_race_df['of_color_pct'] = nbhd_race_df['of_color_pct'].str.replace('%', '').astype(float)/100"
   ]
  },
  {
   "cell_type": "code",
   "execution_count": 117,
   "metadata": {},
   "outputs": [],
   "source": [
    "#Add total population estimate for each neighborood based on the white count and percentage.\n",
    "nbhd_race_df['total_cnt']=round(nbhd_race_df['white_cnt']/nbhd_race_df['white_pct'],0)"
   ]
  },
  {
   "cell_type": "code",
   "execution_count": 118,
   "metadata": {},
   "outputs": [],
   "source": [
    "#Add the neighorhood key and the official neighborhood names to the table. Drop some unnecessary columns.\n",
    "#The 'outer' merge also adds rows for all the missing MSP neighborhoods not present in the scraped data.\n",
    "#Inclusion of all neighborhoods and official names will facilitate analysis with the Open Data MSP police record data.\n",
    "temp_nbhd_race_df = nbhd_race_df.merge(nbhd_keys_df, how='outer', left_on='neighborhood', right_on='neighborhood_url')\n",
    "final_nbhd_race_df=temp_nbhd_race_df.drop(['neighborhood', 'neighborhood_url'], axis = 1) \n",
    "final_nbhd_race_df.set_index('NBHD_KEY', inplace=True)\n"
   ]
  },
  {
   "cell_type": "code",
   "execution_count": 119,
   "metadata": {},
   "outputs": [],
   "source": [
    "#Reorder columns for presentability. At this stage have a table with all neighborhoods and races, but with a lot of NaN's that needed to be reconciled.\n",
    "final_nbhd_race_df = final_nbhd_race_df[['NEIGHBORHOOD','COMMUNITY','total_cnt','white_cnt','white_pct','black_cnt','black_pct','native_cnt','native_pct','asian_cnt','asian_pct','other_cnt','other_pct','two_or_more_cnt','two_or_more_pct','hispanic_cnt','hispanic_pct','of_color_cnt','of_color_pct','URL']]\n"
   ]
  },
  {
   "cell_type": "markdown",
   "metadata": {},
   "source": [
    "## Create table of MSP communities (rows) and race mix (columns). This will be used to backfill missing neighborhood-level data."
   ]
  },
  {
   "cell_type": "code",
   "execution_count": 120,
   "metadata": {},
   "outputs": [],
   "source": [
    "#Set the few 'suppressed' data to 0 as immaterial. \n",
    "cmnty_race_df['community'] = cmnty_race_df['community'].str.upper()\n",
    "cmnty_race_df = cmnty_race_df.replace('suppressed', '0')\n",
    "cmnty_race_df = cmnty_race_df.replace(np.nan, '0', regex=True)\n"
   ]
  },
  {
   "cell_type": "code",
   "execution_count": 121,
   "metadata": {},
   "outputs": [],
   "source": [
    "#Convert race population count text to numbers.\n",
    "cmnty_race_df['white_cnt'] = cmnty_race_df['white_cnt'].str.replace(',', '').astype(float)\n",
    "cmnty_race_df['black_cnt'] = cmnty_race_df['black_cnt'].str.replace(',', '').astype(float)\n",
    "cmnty_race_df['native_cnt'] = cmnty_race_df['native_cnt'].str.replace(',', '').astype(float)\n",
    "cmnty_race_df['asian_cnt'] = cmnty_race_df['asian_cnt'].str.replace(',', '').astype(float)\n",
    "cmnty_race_df['other_cnt'] = cmnty_race_df['other_cnt'].str.replace(',', '').astype(float)\n",
    "cmnty_race_df['two_or_more_cnt'] = cmnty_race_df['two_or_more_cnt'].str.replace(',', '').astype(float)\n",
    "cmnty_race_df['hispanic_cnt'] = cmnty_race_df['hispanic_cnt'].str.replace(',', '').astype(float)\n",
    "cmnty_race_df['of_color_cnt'] = cmnty_race_df['of_color_cnt'].str.replace(',', '').astype(float)\n"
   ]
  },
  {
   "cell_type": "code",
   "execution_count": 122,
   "metadata": {},
   "outputs": [],
   "source": [
    "#Convert race population percentages to numbers\n",
    "cmnty_race_df['white_pct'] = cmnty_race_df['white_pct'].str.replace('%', '').astype(float)/100\n",
    "cmnty_race_df['black_pct'] = cmnty_race_df['black_pct'].str.replace('%', '').astype(float)/100\n",
    "cmnty_race_df['native_pct'] = cmnty_race_df['native_pct'].str.replace('%', '').astype(float)/100\n",
    "cmnty_race_df['asian_pct'] = cmnty_race_df['asian_pct'].str.replace('%', '').astype(float)/100\n",
    "cmnty_race_df['other_pct'] = cmnty_race_df['other_pct'].str.replace('%', '').astype(float)/100\n",
    "cmnty_race_df['two_or_more_pct'] = cmnty_race_df['two_or_more_pct'].str.replace('%', '').astype(float)/100\n",
    "cmnty_race_df['hispanic_pct'] = cmnty_race_df['hispanic_pct'].str.replace('%', '').astype(float)/100\n",
    "cmnty_race_df['of_color_pct'] = cmnty_race_df['of_color_pct'].str.replace('%', '').astype(float)/100"
   ]
  },
  {
   "cell_type": "code",
   "execution_count": 123,
   "metadata": {},
   "outputs": [],
   "source": [
    "#Create a dicationary to map the scraped community names to the official community names\n",
    "cmnty_dict = {'CALHOUN-ISLES': 'CALHOUN-ISLE', 'CAMDEN':'CAMDEN', 'CENTRAL': 'CENTRAL', 'LONGFELLOW': 'LONGFELLOW', 'NEAR-NORTH': 'NEAR NORTH', 'NOKOMIS':'NOKOMIS', 'NORTHEAST':'NORTHEAST', 'PHILLIPS': 'PHILLIPS', 'POWDERHORN': 'POWDERHORN', 'SOUTHWEST':'SOUTHWEST', 'UNIVERSITY':'UNIVERSITY'}"
   ]
  },
  {
   "cell_type": "code",
   "execution_count": 124,
   "metadata": {},
   "outputs": [],
   "source": [
    "#Replaced scraped community names with official community names\n",
    "cmnty_race_df = cmnty_race_df.replace({\"community\": cmnty_dict})"
   ]
  },
  {
   "cell_type": "code",
   "execution_count": 125,
   "metadata": {},
   "outputs": [],
   "source": [
    "#Add community keys to the community race table\n",
    "final_cmnty_race_df = cmnty_race_df.merge(cmnty_keys_df, how='left', left_on='community', right_on='COMMUNITY')\n",
    "del final_cmnty_race_df['COMMUNITY']\n",
    "final_cmnty_race_df.set_index('CMNTY_KEY', inplace=True)\n",
    "final_cmnty_race_df['total_cnt']=final_cmnty_race_df['white_cnt']+final_cmnty_race_df['of_color_cnt']\n"
   ]
  },
  {
   "cell_type": "code",
   "execution_count": 126,
   "metadata": {},
   "outputs": [],
   "source": [
    "#Recalculate the race mix percentages based on the population counts\n",
    "final_cmnty_race_df['white_pct']=final_cmnty_race_df['white_cnt']/final_cmnty_race_df['total_cnt']\n",
    "final_cmnty_race_df['black_pct']=final_cmnty_race_df['black_cnt']/final_cmnty_race_df['total_cnt']\n",
    "final_cmnty_race_df['native_pct']=final_cmnty_race_df['native_cnt']/final_cmnty_race_df['total_cnt']\n",
    "final_cmnty_race_df['asian_pct']=final_cmnty_race_df['asian_cnt']/final_cmnty_race_df['total_cnt']\n",
    "final_cmnty_race_df['other_pct']=final_cmnty_race_df['other_cnt']/final_cmnty_race_df['total_cnt']\n",
    "final_cmnty_race_df['two_or_more_pct']=final_cmnty_race_df['two_or_more_cnt']/final_cmnty_race_df['total_cnt']\n",
    "final_cmnty_race_df['hispanic_pct']=final_cmnty_race_df['hispanic_cnt']/final_cmnty_race_df['total_cnt']\n",
    "final_cmnty_race_df['of_color_pct']=final_cmnty_race_df['of_color_cnt']/final_cmnty_race_df['total_cnt']\n",
    "final_cmnty_race_df = final_cmnty_race_df[['community','total_cnt','white_cnt','white_pct','black_cnt','black_pct','native_cnt','native_pct','asian_cnt','asian_pct','other_cnt','other_pct','two_or_more_cnt','two_or_more_pct','hispanic_cnt','hispanic_pct','of_color_cnt', 'of_color_pct','URL']]\n",
    "\n"
   ]
  },
  {
   "cell_type": "code",
   "execution_count": 127,
   "metadata": {},
   "outputs": [],
   "source": [
    "#Use group the neighborhood table by community. This can then be compared to the community table to understand how much data is missing from the neighborhood table and how to handle NaN's in the neighborhood table.\n",
    "nbhd_cmnty_grp_df = pd.DataFrame(final_nbhd_race_df.groupby('COMMUNITY').sum())"
   ]
  },
  {
   "cell_type": "code",
   "execution_count": 128,
   "metadata": {},
   "outputs": [],
   "source": [
    "#Calculate the total population for each community in the grouped table.\n",
    "nbhd_cmnty_grp_df['total_cnt'] = nbhd_cmnty_grp_df['white_cnt']+nbhd_cmnty_grp_df['of_color_cnt']"
   ]
  },
  {
   "cell_type": "code",
   "execution_count": 129,
   "metadata": {},
   "outputs": [],
   "source": [
    "#Calculate the community race mix percentages from the grouped table for comparison to the same percentages in the commumity scrape table\n",
    "nbhd_cmnty_grp_df['white_pct']=nbhd_cmnty_grp_df['white_cnt']/nbhd_cmnty_grp_df['total_cnt']\n",
    "nbhd_cmnty_grp_df['black_pct']=nbhd_cmnty_grp_df['black_cnt']/nbhd_cmnty_grp_df['total_cnt']\n",
    "nbhd_cmnty_grp_df['native_pct']=nbhd_cmnty_grp_df['native_cnt']/nbhd_cmnty_grp_df['total_cnt']\n",
    "nbhd_cmnty_grp_df['asian_pct']=nbhd_cmnty_grp_df['asian_cnt']/nbhd_cmnty_grp_df['total_cnt']\n",
    "nbhd_cmnty_grp_df['other_pct']=nbhd_cmnty_grp_df['other_cnt']/nbhd_cmnty_grp_df['total_cnt']\n",
    "nbhd_cmnty_grp_df['two_or_more_pct']=nbhd_cmnty_grp_df['two_or_more_cnt']/nbhd_cmnty_grp_df['total_cnt']\n",
    "nbhd_cmnty_grp_df['hispanic_pct']=nbhd_cmnty_grp_df['hispanic_cnt']/nbhd_cmnty_grp_df['total_cnt']\n",
    "nbhd_cmnty_grp_df['of_color_pct']=nbhd_cmnty_grp_df['of_color_cnt']/nbhd_cmnty_grp_df['total_cnt']\n",
    "nbhd_cmnty_grp_df = nbhd_cmnty_grp_df[['total_cnt','white_cnt','white_pct','black_cnt','black_pct','native_cnt','native_pct','asian_cnt','asian_pct','other_cnt','other_pct','two_or_more_cnt','two_or_more_pct','hispanic_cnt','hispanic_pct','of_color_cnt', 'of_color_pct']]"
   ]
  },
  {
   "cell_type": "code",
   "execution_count": 130,
   "metadata": {},
   "outputs": [],
   "source": [
    "#Join the scraped community table with the grouped community table to compare differences in race mix estimates\n",
    "temp_cmnty_join_df = final_cmnty_race_df.merge(nbhd_cmnty_grp_df, how='left', left_on='community', right_index=True)"
   ]
  },
  {
   "cell_type": "code",
   "execution_count": 131,
   "metadata": {},
   "outputs": [],
   "source": [
    "#Solve for the race mix percentages to be assigned to the NaN's in the neighborhood table in order to reproduce the community level race mix.\n",
    "temp_cmnty_join_df['white_bal_pct'] = (temp_cmnty_join_df['total_cnt_x']*temp_cmnty_join_df['white_pct_x']-temp_cmnty_join_df['total_cnt_y']*temp_cmnty_join_df['white_pct_y'])/(temp_cmnty_join_df['total_cnt_x']-temp_cmnty_join_df['total_cnt_y'])\n",
    "\n",
    "temp_cmnty_join_df['black_bal_pct'] = (temp_cmnty_join_df['total_cnt_x']*temp_cmnty_join_df['black_pct_x']-temp_cmnty_join_df['total_cnt_y']*temp_cmnty_join_df['black_pct_y'])/(temp_cmnty_join_df['total_cnt_x']-temp_cmnty_join_df['total_cnt_y'])\n",
    "\n",
    "temp_cmnty_join_df['native_bal_pct'] = (temp_cmnty_join_df['total_cnt_x']*temp_cmnty_join_df['native_pct_x']-temp_cmnty_join_df['total_cnt_y']*temp_cmnty_join_df['native_pct_y'])/(temp_cmnty_join_df['total_cnt_x']-temp_cmnty_join_df['total_cnt_y'])\n",
    "\n",
    "temp_cmnty_join_df['asian_bal_pct'] = (temp_cmnty_join_df['total_cnt_x']*temp_cmnty_join_df['asian_pct_x']-temp_cmnty_join_df['total_cnt_y']*temp_cmnty_join_df['asian_pct_y'])/(temp_cmnty_join_df['total_cnt_x']-temp_cmnty_join_df['total_cnt_y'])\n",
    "\n",
    "temp_cmnty_join_df['other_bal_pct'] = (temp_cmnty_join_df['total_cnt_x']*temp_cmnty_join_df['other_pct_x']-temp_cmnty_join_df['total_cnt_y']*temp_cmnty_join_df['other_pct_y'])/(temp_cmnty_join_df['total_cnt_x']-temp_cmnty_join_df['total_cnt_y'])\n",
    "\n",
    "temp_cmnty_join_df['two_or_more_bal_pct'] = (temp_cmnty_join_df['total_cnt_x']*temp_cmnty_join_df['two_or_more_pct_x']-temp_cmnty_join_df['total_cnt_y']*temp_cmnty_join_df['two_or_more_pct_y'])/(temp_cmnty_join_df['total_cnt_x']-temp_cmnty_join_df['total_cnt_y'])\n",
    "\n",
    "temp_cmnty_join_df['hispanic_bal_pct'] = (temp_cmnty_join_df['total_cnt_x']*temp_cmnty_join_df['hispanic_pct_x']-temp_cmnty_join_df['total_cnt_y']*temp_cmnty_join_df['hispanic_pct_y'])/(temp_cmnty_join_df['total_cnt_x']-temp_cmnty_join_df['total_cnt_y'])\n",
    "\n",
    "temp_cmnty_join_df['of_color_bal_pct'] = (temp_cmnty_join_df['total_cnt_x']*temp_cmnty_join_df['of_color_pct_x']-temp_cmnty_join_df['total_cnt_y']*temp_cmnty_join_df['of_color_pct_y'])/(temp_cmnty_join_df['total_cnt_x']-temp_cmnty_join_df['total_cnt_y'])\n",
    "\n",
    "temp_cmnty_join_df['marg_err']=(temp_cmnty_join_df['total_cnt_x']-temp_cmnty_join_df['total_cnt_y'])/temp_cmnty_join_df['total_cnt_x']"
   ]
  },
  {
   "cell_type": "code",
   "execution_count": 132,
   "metadata": {},
   "outputs": [],
   "source": [
    "#Delete the colujns no longer needed.\n",
    "temp_cmnty_join_df=temp_cmnty_join_df.drop(['total_cnt_x','white_cnt_x', 'black_cnt_x', 'native_cnt_x','asian_cnt_x','other_cnt_x','two_or_more_cnt_x','hispanic_cnt_x','of_color_cnt_x','total_cnt_y','white_cnt_y','black_cnt_y','native_cnt_y','asian_cnt_y','other_cnt_y','two_or_more_cnt_y','hispanic_cnt_y','of_color_cnt_y','URL'] , axis = 1) \n"
   ]
  },
  {
   "cell_type": "code",
   "execution_count": 133,
   "metadata": {},
   "outputs": [],
   "source": [
    "#Rename the columns to more explanatory names\n",
    "temp_cmnty_join_df.rename(columns={'white_pct_x': 'cmnty_white_pct', 'black_pct_x': 'cmnty_black_pct', 'native_pct_x': 'cmnty_native_pct', 'asian_pct_x': 'cmnty_asian_pct', 'other_pct_x': 'cmnty_other_pct', 'two_or_more_pct_x': 'cmnty_two_or_more_pct', 'hispanic_pct_x': 'cmnty_hispanic_pct', 'of_color_pct_x': 'cmnty_of_color_pct', 'white_pct_y': 'nbhd_white_pct', 'black_pct_y': 'nbhd_black_pct', 'native_pct_y': 'nbhd_native_pct', 'asian_pct_y': 'nbhd_asian_pct', 'other_pct_y': 'nbhd_other_pct', 'two_or_more_pct_y': 'nbhd_two_or_more_pct', 'hispanic_pct_y': 'nbhd_hispanic_pct', 'of_color_pct_y': 'nbhd_of_color_pct'}, inplace=True)"
   ]
  },
  {
   "cell_type": "code",
   "execution_count": 134,
   "metadata": {},
   "outputs": [],
   "source": [
    "#Assign the df a better name.\n",
    "race_mix_nan_df = temp_cmnty_join_df\n"
   ]
  },
  {
   "cell_type": "code",
   "execution_count": 135,
   "metadata": {},
   "outputs": [],
   "source": [
    "#Manual cleanup of some nonsensical results due divide by 'near zero' issues\n",
    "race_mix_nan_df.iloc[3, race_mix_nan_df.columns.get_loc('black_bal_pct')] = 0\n",
    "race_mix_nan_df.iloc[3, race_mix_nan_df.columns.get_loc('native_bal_pct')] = 0\n",
    "race_mix_nan_df.iloc[3, race_mix_nan_df.columns.get_loc('asian_bal_pct')] = 0\n",
    "race_mix_nan_df.iloc[3, race_mix_nan_df.columns.get_loc('other_bal_pct')] = 0\n",
    "race_mix_nan_df.iloc[3, race_mix_nan_df.columns.get_loc('two_or_more_bal_pct')] = 0\n",
    "race_mix_nan_df.iloc[3, race_mix_nan_df.columns.get_loc('hispanic_bal_pct')] = 0\n",
    "race_mix_nan_df.iloc[3, race_mix_nan_df.columns.get_loc('of_color_bal_pct')] = 0\n",
    "\n",
    "race_mix_nan_df.iloc[9, race_mix_nan_df.columns.get_loc('white_bal_pct')] = 0\n",
    "race_mix_nan_df.iloc[9, race_mix_nan_df.columns.get_loc('black_bal_pct')] = 0\n",
    "race_mix_nan_df.iloc[9, race_mix_nan_df.columns.get_loc('native_bal_pct')] = 0\n",
    "race_mix_nan_df.iloc[9, race_mix_nan_df.columns.get_loc('asian_bal_pct')] = 0\n",
    "race_mix_nan_df.iloc[9, race_mix_nan_df.columns.get_loc('other_bal_pct')] = 0\n",
    "race_mix_nan_df.iloc[9, race_mix_nan_df.columns.get_loc('two_or_more_bal_pct')] = 0\n"
   ]
  },
  {
   "cell_type": "code",
   "execution_count": 136,
   "metadata": {},
   "outputs": [],
   "source": [
    "#Create a table of just the columns needed that will replace NaN values in the neighborhood data\n",
    "race_mix_nan_sub_pct = race_mix_nan_df[['community','white_bal_pct', 'black_bal_pct', 'native_bal_pct', 'asian_bal_pct', 'other_bal_pct', 'two_or_more_bal_pct', 'hispanic_bal_pct', 'of_color_bal_pct']]\n"
   ]
  },
  {
   "cell_type": "code",
   "execution_count": 137,
   "metadata": {},
   "outputs": [],
   "source": [
    "#Get rid of unnecessary columns\n",
    "nbhd_race_mix_df=final_nbhd_race_df.drop(['total_cnt','white_cnt', 'black_cnt', 'native_cnt','asian_cnt','other_cnt','two_or_more_cnt','hispanic_cnt','of_color_cnt','URL'] , axis = 1) "
   ]
  },
  {
   "cell_type": "code",
   "execution_count": 138,
   "metadata": {},
   "outputs": [],
   "source": [
    "#Merge the table with the 'balancing percentages' with the original neighborhood table with NaN's\n",
    "temp_sub_pct_df = nbhd_race_mix_df.merge(race_mix_nan_sub_pct, how='left', left_on='COMMUNITY', right_on='community')"
   ]
  },
  {
   "cell_type": "code",
   "execution_count": 139,
   "metadata": {},
   "outputs": [],
   "source": [
    "#Where the neighborhood table had NaN's assign that cell a value based on the balancing percentages calculated previously\n",
    "temp_sub_pct_df['white_pct']=temp_sub_pct_df['white_pct'].fillna(temp_sub_pct_df['white_bal_pct'])\n",
    "temp_sub_pct_df['black_pct']=temp_sub_pct_df['black_pct'].fillna(temp_sub_pct_df['black_bal_pct'])\n",
    "temp_sub_pct_df['native_pct']=temp_sub_pct_df['native_pct'].fillna(temp_sub_pct_df['native_bal_pct'])\n",
    "temp_sub_pct_df['asian_pct']=temp_sub_pct_df['asian_pct'].fillna(temp_sub_pct_df['asian_bal_pct'])\n",
    "temp_sub_pct_df['other_pct']=temp_sub_pct_df['other_pct'].fillna(temp_sub_pct_df['other_bal_pct'])\n",
    "temp_sub_pct_df['two_or_more_pct']=temp_sub_pct_df['two_or_more_pct'].fillna(temp_sub_pct_df['two_or_more_bal_pct'])\n",
    "temp_sub_pct_df['hispanic_pct']=temp_sub_pct_df['hispanic_pct'].fillna(temp_sub_pct_df['hispanic_bal_pct'])\n",
    "temp_sub_pct_df['of_color_pct']=temp_sub_pct_df['of_color_pct'].fillna(temp_sub_pct_df['of_color_bal_pct'])\n",
    "\n"
   ]
  },
  {
   "cell_type": "code",
   "execution_count": 140,
   "metadata": {},
   "outputs": [],
   "source": [
    "#Add the neighborhood key (Primary key)\n",
    "temp_sub_pct_df = pd.merge(temp_sub_pct_df,nbhd_keys_df[['NEIGHBORHOOD','NBHD_KEY']],on='NEIGHBORHOOD', how='left')"
   ]
  },
  {
   "cell_type": "code",
   "execution_count": 141,
   "metadata": {},
   "outputs": [],
   "source": [
    "#Add the community key (foreign key)\n",
    "temp_sub_pct_df = pd.merge(temp_sub_pct_df,cmnty_keys_df[['COMMUNITY','CMNTY_KEY']],on='COMMUNITY', how='left')"
   ]
  },
  {
   "cell_type": "markdown",
   "metadata": {},
   "source": [
    "## CREATE FINAL TABLE FOR LOADING INTO POSTGRESQL\n",
    "\n",
    "1. msp_nbhd_race_mix_sql: The percentage of the population of each race in each of the 87 Minneapolis neighborhoods. Indicated by a unique Neighborhood Key.\n",
    "\n",
    "2. msp_cmnty_keys_sql: A unique Community Key and the community name for each of the 11 Minneapolis communities\n",
    "\n",
    "3. msp_nbhd_keys_sql: A unique Neighborhood Key, the neighborhood name, and the Community Key for the community that contains the neighborhood for each of the 87 Minneapolis neighborhoods.\n"
   ]
  },
  {
   "cell_type": "code",
   "execution_count": 142,
   "metadata": {},
   "outputs": [],
   "source": [
    "#Final neighborhood race mix table.\n",
    "msp_nbhd_race_mix_sql = temp_sub_pct_df[['NBHD_KEY', 'white_pct','black_pct','native_pct','asian_pct','other_pct','two_or_more_pct','hispanic_pct','of_color_pct']]"
   ]
  },
  {
   "cell_type": "code",
   "execution_count": 143,
   "metadata": {},
   "outputs": [],
   "source": [
    "#Set table index to the Neighborhood Key\n",
    "msp_nbhd_race_mix_sql.set_index('NBHD_KEY', inplace=True)"
   ]
  },
  {
   "cell_type": "code",
   "execution_count": 144,
   "metadata": {},
   "outputs": [
    {
     "output_type": "execute_result",
     "data": {
      "text/plain": "          white_pct  black_pct  native_pct  asian_pct  other_pct  \\\nNBHD_KEY                                                           \nN71        0.845000   0.000000    0.000000   0.000000   0.000000   \nN46        0.788000   0.075000    0.022493   0.061600   0.092546   \nN63        0.734000   0.116000    0.244486   0.021000   0.377446   \nN02        0.916000   0.025483    0.000000   0.036218   0.045110   \nN80        0.320000   0.511000    0.124708   0.115000   0.119707   \n...             ...        ...         ...        ...        ...   \nN55        0.734049   0.149074    0.022493   0.061600   0.092546   \nN56        0.734049   0.149074    0.022493   0.061600   0.092546   \nN33        0.344636   0.397919    0.076247   0.092573   0.092573   \nN86        0.755585   0.052351    0.124708   0.132377   0.119707   \nN08        0.843526   0.025483    0.000000   0.036218   0.045110   \n\n          two_or_more_pct  hispanic_pct  of_color_pct  \nNBHD_KEY                                               \nN71              0.036000      0.896364      0.155000  \nN46              0.059000      0.088000      0.212000  \nN63              0.078000      0.147000      0.266000  \nN02              0.064086      0.055736      0.156474  \nN80              0.039000      0.027000      0.680000  \n...                   ...           ...           ...  \nN55              0.044031      0.115922      0.265951  \nN56              0.044031      0.115922      0.265951  \nN33              0.080732      0.123789      0.655364  \nN86              0.043681      0.036345      0.244415  \nN08              0.064086      0.055736      0.156474  \n\n[87 rows x 8 columns]",
      "text/html": "<div>\n<style scoped>\n    .dataframe tbody tr th:only-of-type {\n        vertical-align: middle;\n    }\n\n    .dataframe tbody tr th {\n        vertical-align: top;\n    }\n\n    .dataframe thead th {\n        text-align: right;\n    }\n</style>\n<table border=\"1\" class=\"dataframe\">\n  <thead>\n    <tr style=\"text-align: right;\">\n      <th></th>\n      <th>white_pct</th>\n      <th>black_pct</th>\n      <th>native_pct</th>\n      <th>asian_pct</th>\n      <th>other_pct</th>\n      <th>two_or_more_pct</th>\n      <th>hispanic_pct</th>\n      <th>of_color_pct</th>\n    </tr>\n    <tr>\n      <th>NBHD_KEY</th>\n      <th></th>\n      <th></th>\n      <th></th>\n      <th></th>\n      <th></th>\n      <th></th>\n      <th></th>\n      <th></th>\n    </tr>\n  </thead>\n  <tbody>\n    <tr>\n      <th>N71</th>\n      <td>0.845000</td>\n      <td>0.000000</td>\n      <td>0.000000</td>\n      <td>0.000000</td>\n      <td>0.000000</td>\n      <td>0.036000</td>\n      <td>0.896364</td>\n      <td>0.155000</td>\n    </tr>\n    <tr>\n      <th>N46</th>\n      <td>0.788000</td>\n      <td>0.075000</td>\n      <td>0.022493</td>\n      <td>0.061600</td>\n      <td>0.092546</td>\n      <td>0.059000</td>\n      <td>0.088000</td>\n      <td>0.212000</td>\n    </tr>\n    <tr>\n      <th>N63</th>\n      <td>0.734000</td>\n      <td>0.116000</td>\n      <td>0.244486</td>\n      <td>0.021000</td>\n      <td>0.377446</td>\n      <td>0.078000</td>\n      <td>0.147000</td>\n      <td>0.266000</td>\n    </tr>\n    <tr>\n      <th>N02</th>\n      <td>0.916000</td>\n      <td>0.025483</td>\n      <td>0.000000</td>\n      <td>0.036218</td>\n      <td>0.045110</td>\n      <td>0.064086</td>\n      <td>0.055736</td>\n      <td>0.156474</td>\n    </tr>\n    <tr>\n      <th>N80</th>\n      <td>0.320000</td>\n      <td>0.511000</td>\n      <td>0.124708</td>\n      <td>0.115000</td>\n      <td>0.119707</td>\n      <td>0.039000</td>\n      <td>0.027000</td>\n      <td>0.680000</td>\n    </tr>\n    <tr>\n      <th>...</th>\n      <td>...</td>\n      <td>...</td>\n      <td>...</td>\n      <td>...</td>\n      <td>...</td>\n      <td>...</td>\n      <td>...</td>\n      <td>...</td>\n    </tr>\n    <tr>\n      <th>N55</th>\n      <td>0.734049</td>\n      <td>0.149074</td>\n      <td>0.022493</td>\n      <td>0.061600</td>\n      <td>0.092546</td>\n      <td>0.044031</td>\n      <td>0.115922</td>\n      <td>0.265951</td>\n    </tr>\n    <tr>\n      <th>N56</th>\n      <td>0.734049</td>\n      <td>0.149074</td>\n      <td>0.022493</td>\n      <td>0.061600</td>\n      <td>0.092546</td>\n      <td>0.044031</td>\n      <td>0.115922</td>\n      <td>0.265951</td>\n    </tr>\n    <tr>\n      <th>N33</th>\n      <td>0.344636</td>\n      <td>0.397919</td>\n      <td>0.076247</td>\n      <td>0.092573</td>\n      <td>0.092573</td>\n      <td>0.080732</td>\n      <td>0.123789</td>\n      <td>0.655364</td>\n    </tr>\n    <tr>\n      <th>N86</th>\n      <td>0.755585</td>\n      <td>0.052351</td>\n      <td>0.124708</td>\n      <td>0.132377</td>\n      <td>0.119707</td>\n      <td>0.043681</td>\n      <td>0.036345</td>\n      <td>0.244415</td>\n    </tr>\n    <tr>\n      <th>N08</th>\n      <td>0.843526</td>\n      <td>0.025483</td>\n      <td>0.000000</td>\n      <td>0.036218</td>\n      <td>0.045110</td>\n      <td>0.064086</td>\n      <td>0.055736</td>\n      <td>0.156474</td>\n    </tr>\n  </tbody>\n</table>\n<p>87 rows × 8 columns</p>\n</div>"
     },
     "metadata": {},
     "execution_count": 144
    }
   ],
   "source": [
    "msp_nbhd_race_mix_sql"
   ]
  },
  {
   "cell_type": "code",
   "execution_count": 145,
   "metadata": {},
   "outputs": [
    {
     "output_type": "execute_result",
     "data": {
      "text/plain": "              COMMUNITY\nCMNTY_KEY              \nC00        CALHOUN-ISLE\nC01              CAMDEN\nC02             CENTRAL\nC03          LONGFELLOW\nC04          NEAR NORTH\nC05             NOKOMIS\nC06           NORTHEAST\nC07            PHILLIPS\nC08          POWDERHORN\nC09           SOUTHWEST\nC10          UNIVERSITY",
      "text/html": "<div>\n<style scoped>\n    .dataframe tbody tr th:only-of-type {\n        vertical-align: middle;\n    }\n\n    .dataframe tbody tr th {\n        vertical-align: top;\n    }\n\n    .dataframe thead th {\n        text-align: right;\n    }\n</style>\n<table border=\"1\" class=\"dataframe\">\n  <thead>\n    <tr style=\"text-align: right;\">\n      <th></th>\n      <th>COMMUNITY</th>\n    </tr>\n    <tr>\n      <th>CMNTY_KEY</th>\n      <th></th>\n    </tr>\n  </thead>\n  <tbody>\n    <tr>\n      <th>C00</th>\n      <td>CALHOUN-ISLE</td>\n    </tr>\n    <tr>\n      <th>C01</th>\n      <td>CAMDEN</td>\n    </tr>\n    <tr>\n      <th>C02</th>\n      <td>CENTRAL</td>\n    </tr>\n    <tr>\n      <th>C03</th>\n      <td>LONGFELLOW</td>\n    </tr>\n    <tr>\n      <th>C04</th>\n      <td>NEAR NORTH</td>\n    </tr>\n    <tr>\n      <th>C05</th>\n      <td>NOKOMIS</td>\n    </tr>\n    <tr>\n      <th>C06</th>\n      <td>NORTHEAST</td>\n    </tr>\n    <tr>\n      <th>C07</th>\n      <td>PHILLIPS</td>\n    </tr>\n    <tr>\n      <th>C08</th>\n      <td>POWDERHORN</td>\n    </tr>\n    <tr>\n      <th>C09</th>\n      <td>SOUTHWEST</td>\n    </tr>\n    <tr>\n      <th>C10</th>\n      <td>UNIVERSITY</td>\n    </tr>\n  </tbody>\n</table>\n</div>"
     },
     "metadata": {},
     "execution_count": 145
    }
   ],
   "source": [
    "#The final Community Key table. \n",
    "cmnty_keys_df.set_index('CMNTY_KEY', inplace=True)\n",
    "msp_cmnty_keys_sql = cmnty_keys_df\n",
    "msp_cmnty_keys_sql"
   ]
  },
  {
   "cell_type": "code",
   "execution_count": 146,
   "metadata": {},
   "outputs": [],
   "source": [
    "#The final Neighborhood Key table\n",
    "msp_nbhd_keys_sql=nbhd_keys_df.drop(['COMMUNITY', 'neighborhood_url'], axis = 1) \n",
    "msp_nbhd_keys_sql.set_index('NBHD_KEY', inplace=True)"
   ]
  },
  {
   "cell_type": "code",
   "execution_count": 147,
   "metadata": {},
   "outputs": [
    {
     "output_type": "execute_result",
     "data": {
      "text/plain": "          NEIGHBORHOOD CMNTY_KEY\nNBHD_KEY                        \nN71           ARMATAGE       C09\nN46       AUDUBON PARK       C06\nN63           BANCROFT       C08\nN47           BELTRAMI       C06\nN48          BOTTINEAU       C06\n...                ...       ...\nN08       WEST CALHOUN       C00\nN70           WHITTIER       C08\nN34        WILLARD-HAY       C04\nN79             WINDOM       C09\nN58        WINDOM PARK       C06\n\n[87 rows x 2 columns]",
      "text/html": "<div>\n<style scoped>\n    .dataframe tbody tr th:only-of-type {\n        vertical-align: middle;\n    }\n\n    .dataframe tbody tr th {\n        vertical-align: top;\n    }\n\n    .dataframe thead th {\n        text-align: right;\n    }\n</style>\n<table border=\"1\" class=\"dataframe\">\n  <thead>\n    <tr style=\"text-align: right;\">\n      <th></th>\n      <th>NEIGHBORHOOD</th>\n      <th>CMNTY_KEY</th>\n    </tr>\n    <tr>\n      <th>NBHD_KEY</th>\n      <th></th>\n      <th></th>\n    </tr>\n  </thead>\n  <tbody>\n    <tr>\n      <th>N71</th>\n      <td>ARMATAGE</td>\n      <td>C09</td>\n    </tr>\n    <tr>\n      <th>N46</th>\n      <td>AUDUBON PARK</td>\n      <td>C06</td>\n    </tr>\n    <tr>\n      <th>N63</th>\n      <td>BANCROFT</td>\n      <td>C08</td>\n    </tr>\n    <tr>\n      <th>N47</th>\n      <td>BELTRAMI</td>\n      <td>C06</td>\n    </tr>\n    <tr>\n      <th>N48</th>\n      <td>BOTTINEAU</td>\n      <td>C06</td>\n    </tr>\n    <tr>\n      <th>...</th>\n      <td>...</td>\n      <td>...</td>\n    </tr>\n    <tr>\n      <th>N08</th>\n      <td>WEST CALHOUN</td>\n      <td>C00</td>\n    </tr>\n    <tr>\n      <th>N70</th>\n      <td>WHITTIER</td>\n      <td>C08</td>\n    </tr>\n    <tr>\n      <th>N34</th>\n      <td>WILLARD-HAY</td>\n      <td>C04</td>\n    </tr>\n    <tr>\n      <th>N79</th>\n      <td>WINDOM</td>\n      <td>C09</td>\n    </tr>\n    <tr>\n      <th>N58</th>\n      <td>WINDOM PARK</td>\n      <td>C06</td>\n    </tr>\n  </tbody>\n</table>\n<p>87 rows × 2 columns</p>\n</div>"
     },
     "metadata": {},
     "execution_count": 147
    }
   ],
   "source": [
    "msp_nbhd_keys_sql"
   ]
  },
  {
   "cell_type": "code",
   "execution_count": 148,
   "metadata": {},
   "outputs": [],
   "source": [
    "#Write the final 3 table to csv's\n",
    "msp_nbhd_race_mix_sql.to_csv('msp_nbhd_race_mix_sql.csv')\n",
    "msp_cmnty_keys_sql.to_csv('msp_cmnty_keys_sql.csv')\n",
    "msp_nbhd_keys_sql.to_csv('msp_nbhd_keys_sql.csv')\n"
   ]
  },
  {
   "cell_type": "code",
   "execution_count": null,
   "metadata": {},
   "outputs": [],
   "source": []
  }
 ],
 "metadata": {
  "language_info": {
   "codemirror_mode": {
    "name": "ipython",
    "version": 3
   },
   "file_extension": ".py",
   "mimetype": "text/x-python",
   "name": "python",
   "nbconvert_exporter": "python",
   "pygments_lexer": "ipython3",
   "version": "3.6.10-final"
  },
  "orig_nbformat": 2,
  "kernelspec": {
   "name": "python361064bitpythondatacondaab47c43dfe824d4eb95e9e8f15b48370",
   "display_name": "Python 3.6.10 64-bit ('PythonData': conda)"
  }
 },
 "nbformat": 4,
 "nbformat_minor": 2
}