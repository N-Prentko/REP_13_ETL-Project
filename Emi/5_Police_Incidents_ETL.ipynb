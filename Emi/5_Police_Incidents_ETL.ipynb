{
 "cells": [
  {
   "cell_type": "code",
   "execution_count": 2,
   "metadata": {},
   "outputs": [],
   "source": [
    "import pandas as pd\n",
    "import datetime"
   ]
  },
  {
   "cell_type": "code",
   "execution_count": 3,
   "metadata": {},
   "outputs": [],
   "source": [
    "PI_2015 = (\"source_files/Police_Incidents_2015.csv\")\n",
    "PI_2016 = (\"source_files/Police_Incidents_2016.csv\")\n",
    "PI_2017 = (\"source_files/Police_Incidents_2017.csv\")\n",
    "PI_2018 = (\"source_files/Police_Incidents_2018.csv\")\n",
    "PI_2018_2019 = (\"source_files/Police_Incidents_Last_2Years.csv\")"
   ]
  },
  {
   "cell_type": "code",
   "execution_count": 4,
   "metadata": {
    "scrolled": false
   },
   "outputs": [],
   "source": [
    "PI_2015_df = pd.read_csv(PI_2015)\n",
    "PI_2016_df = pd.read_csv(PI_2016)\n",
    "PI_2017_df = pd.read_csv(PI_2017)\n",
    "PI_2018_df = pd.read_csv(PI_2018)\n",
    "PI_Last2Years_df = pd.read_csv(PI_2018_2019)"
   ]
  },
  {
   "cell_type": "code",
   "execution_count": 5,
   "metadata": {},
   "outputs": [
    {
     "data": {
      "text/html": [
       "<div>\n",
       "<style scoped>\n",
       "    .dataframe tbody tr th:only-of-type {\n",
       "        vertical-align: middle;\n",
       "    }\n",
       "\n",
       "    .dataframe tbody tr th {\n",
       "        vertical-align: top;\n",
       "    }\n",
       "\n",
       "    .dataframe thead th {\n",
       "        text-align: right;\n",
       "    }\n",
       "</style>\n",
       "<table border=\"1\" class=\"dataframe\">\n",
       "  <thead>\n",
       "    <tr style=\"text-align: right;\">\n",
       "      <th></th>\n",
       "      <th>FID</th>\n",
       "      <th>PublicAddress</th>\n",
       "      <th>ControlNbr</th>\n",
       "      <th>CCN</th>\n",
       "      <th>Precinct</th>\n",
       "      <th>ReportedDate</th>\n",
       "      <th>BeginDate</th>\n",
       "      <th>Time</th>\n",
       "      <th>Offense</th>\n",
       "      <th>Description</th>\n",
       "      <th>UCRCode</th>\n",
       "      <th>EnteredDate</th>\n",
       "      <th>GBSID</th>\n",
       "      <th>Lat</th>\n",
       "      <th>Long</th>\n",
       "      <th>X</th>\n",
       "      <th>Y</th>\n",
       "      <th>Neighborhood</th>\n",
       "      <th>LastChanged</th>\n",
       "      <th>LastUpdateDate</th>\n",
       "    </tr>\n",
       "  </thead>\n",
       "  <tbody>\n",
       "    <tr>\n",
       "      <th>0</th>\n",
       "      <td>1</td>\n",
       "      <td>0021XX Broadway AV W</td>\n",
       "      <td>3363209</td>\n",
       "      <td>MP 2014 457317</td>\n",
       "      <td>4.0</td>\n",
       "      <td>2015/01/01 00:04:59</td>\n",
       "      <td>2014/12/31 20:10:00</td>\n",
       "      <td>20:10:00</td>\n",
       "      <td>AUTOTH</td>\n",
       "      <td>Motor Vehicle Theft</td>\n",
       "      <td>8</td>\n",
       "      <td>2015/01/01 00:05:21</td>\n",
       "      <td>15215.0</td>\n",
       "      <td>45.003096</td>\n",
       "      <td>-93.307022</td>\n",
       "      <td>-10,386,890.1882</td>\n",
       "      <td>5,622,008.9491</td>\n",
       "      <td>JORDAN</td>\n",
       "      <td>2015/01/01 01:33:55</td>\n",
       "      <td>2017/03/03 13:40:06</td>\n",
       "    </tr>\n",
       "  </tbody>\n",
       "</table>\n",
       "</div>"
      ],
      "text/plain": [
       "   FID         PublicAddress  ControlNbr             CCN  Precinct  \\\n",
       "0    1  0021XX Broadway AV W     3363209  MP 2014 457317       4.0   \n",
       "\n",
       "          ReportedDate            BeginDate      Time Offense  \\\n",
       "0  2015/01/01 00:04:59  2014/12/31 20:10:00  20:10:00  AUTOTH   \n",
       "\n",
       "           Description  UCRCode          EnteredDate    GBSID        Lat  \\\n",
       "0  Motor Vehicle Theft        8  2015/01/01 00:05:21  15215.0  45.003096   \n",
       "\n",
       "        Long                 X               Y Neighborhood  \\\n",
       "0 -93.307022  -10,386,890.1882  5,622,008.9491       JORDAN   \n",
       "\n",
       "           LastChanged       LastUpdateDate  \n",
       "0  2015/01/01 01:33:55  2017/03/03 13:40:06  "
      ]
     },
     "execution_count": 5,
     "metadata": {},
     "output_type": "execute_result"
    }
   ],
   "source": [
    "PI_pre18 = [PI_2015_df,PI_2016_df,PI_2017_df,PI_2018_df]\n",
    "PI_pre18_merge = pd.concat(PI_pre18)\n",
    "PI_pre18_merge.head(1)"
   ]
  },
  {
   "cell_type": "code",
   "execution_count": 6,
   "metadata": {},
   "outputs": [
    {
     "data": {
      "text/html": [
       "<div>\n",
       "<style scoped>\n",
       "    .dataframe tbody tr th:only-of-type {\n",
       "        vertical-align: middle;\n",
       "    }\n",
       "\n",
       "    .dataframe tbody tr th {\n",
       "        vertical-align: top;\n",
       "    }\n",
       "\n",
       "    .dataframe thead th {\n",
       "        text-align: right;\n",
       "    }\n",
       "</style>\n",
       "<table border=\"1\" class=\"dataframe\">\n",
       "  <thead>\n",
       "    <tr style=\"text-align: right;\">\n",
       "      <th></th>\n",
       "      <th>CCN</th>\n",
       "      <th>ReportedDate</th>\n",
       "      <th>Offense</th>\n",
       "      <th>Neighborhood</th>\n",
       "    </tr>\n",
       "  </thead>\n",
       "  <tbody>\n",
       "    <tr>\n",
       "      <th>0</th>\n",
       "      <td>MP 2014 457317</td>\n",
       "      <td>2015/01/01 00:04:59</td>\n",
       "      <td>AUTOTH</td>\n",
       "      <td>JORDAN</td>\n",
       "    </tr>\n",
       "    <tr>\n",
       "      <th>1</th>\n",
       "      <td>MP 2014 457574</td>\n",
       "      <td>2015/01/01 00:16:00</td>\n",
       "      <td>AUTOTH</td>\n",
       "      <td>NEAR - NORTH</td>\n",
       "    </tr>\n",
       "    <tr>\n",
       "      <th>2</th>\n",
       "      <td>MP 2015 999999</td>\n",
       "      <td>2015/01/01 01:13:52</td>\n",
       "      <td>THEFT</td>\n",
       "      <td>DOWNTOWN WEST</td>\n",
       "    </tr>\n",
       "    <tr>\n",
       "      <th>3</th>\n",
       "      <td>MP 2014 457244</td>\n",
       "      <td>2015/01/01 01:24:00</td>\n",
       "      <td>BURGD</td>\n",
       "      <td>MCKINLEY</td>\n",
       "    </tr>\n",
       "    <tr>\n",
       "      <th>4</th>\n",
       "      <td>MP 2015 000138</td>\n",
       "      <td>2015/01/01 01:40:00</td>\n",
       "      <td>BURGD</td>\n",
       "      <td>DIAMOND LAKE</td>\n",
       "    </tr>\n",
       "  </tbody>\n",
       "</table>\n",
       "</div>"
      ],
      "text/plain": [
       "              CCN         ReportedDate Offense   Neighborhood\n",
       "0  MP 2014 457317  2015/01/01 00:04:59  AUTOTH         JORDAN\n",
       "1  MP 2014 457574  2015/01/01 00:16:00  AUTOTH   NEAR - NORTH\n",
       "2  MP 2015 999999  2015/01/01 01:13:52   THEFT  DOWNTOWN WEST\n",
       "3  MP 2014 457244  2015/01/01 01:24:00   BURGD       MCKINLEY\n",
       "4  MP 2015 000138  2015/01/01 01:40:00   BURGD   DIAMOND LAKE"
      ]
     },
     "execution_count": 6,
     "metadata": {},
     "output_type": "execute_result"
    }
   ],
   "source": [
    "PI_pre18_final = PI_pre18_merge.drop(columns={\"PublicAddress\", \"ControlNbr\",\n",
    "                                                \"Precinct\", \"BeginDate\", \"Time\",\n",
    "                                                 \"EnteredDate\", \"GBSID\", \"Lat\", \n",
    "                                                  \"Long\", \"X\", \"Y\",\n",
    "                                                 \"LastChanged\", \"LastUpdateDate\",\n",
    "                                                 \"Description\",\"UCRCode\",\"FID\"})\n",
    "PI_pre18_final.head(5)"
   ]
  },
  {
   "cell_type": "code",
   "execution_count": 7,
   "metadata": {},
   "outputs": [],
   "source": [
    "#PI_Last2Years_df"
   ]
  },
  {
   "cell_type": "code",
   "execution_count": 8,
   "metadata": {
    "scrolled": true
   },
   "outputs": [],
   "source": [
    "PI_Last2Years_final = PI_Last2Years_df.drop(columns={\"publicaddress\",\"reportedTime\", \"reportedDateTime\",\n",
    "                                                \"precinct\", \"beginDate\", \"beginTime\",\n",
    "                                                 \"enteredDate\", \"X\", \"Y\",\n",
    "                                                 \"lastchanged\", \"LastUpdateDateETL\",\"enteredDate\",\n",
    "                                                 \"centerX\",\"centerY\",\"centerLong\",\"centergbsid\",\n",
    "                                                 \"centerLat\", \"enteredDate\", \"description\",\n",
    "                                                 \"OBJECTID\", \"UCRCode\", \"lastchanged\",\"LastUpdateDateETL\"})\n",
    "\n"
   ]
  },
  {
   "cell_type": "code",
   "execution_count": 9,
   "metadata": {},
   "outputs": [],
   "source": [
    "PI_pre18_final = PI_pre18_final.rename(columns={\"CCN\":\"caseNumber\", \"ReportedDate\":\"reportedDate\",\"Offense\":\"offense\",\"Neighborhood\":\"neighborhood\"})\n"
   ]
  },
  {
   "cell_type": "code",
   "execution_count": 10,
   "metadata": {},
   "outputs": [
    {
     "data": {
      "text/html": [
       "<div>\n",
       "<style scoped>\n",
       "    .dataframe tbody tr th:only-of-type {\n",
       "        vertical-align: middle;\n",
       "    }\n",
       "\n",
       "    .dataframe tbody tr th {\n",
       "        vertical-align: top;\n",
       "    }\n",
       "\n",
       "    .dataframe thead th {\n",
       "        text-align: right;\n",
       "    }\n",
       "</style>\n",
       "<table border=\"1\" class=\"dataframe\">\n",
       "  <thead>\n",
       "    <tr style=\"text-align: right;\">\n",
       "      <th></th>\n",
       "      <th>caseNumber</th>\n",
       "      <th>reportedDate</th>\n",
       "      <th>offense</th>\n",
       "      <th>neighborhood</th>\n",
       "    </tr>\n",
       "  </thead>\n",
       "  <tbody>\n",
       "    <tr>\n",
       "      <th>0</th>\n",
       "      <td>MP 2014 457317</td>\n",
       "      <td>2015/01/01 00:04:59</td>\n",
       "      <td>AUTOTH</td>\n",
       "      <td>JORDAN</td>\n",
       "    </tr>\n",
       "    <tr>\n",
       "      <th>1</th>\n",
       "      <td>MP 2014 457574</td>\n",
       "      <td>2015/01/01 00:16:00</td>\n",
       "      <td>AUTOTH</td>\n",
       "      <td>NEAR - NORTH</td>\n",
       "    </tr>\n",
       "    <tr>\n",
       "      <th>2</th>\n",
       "      <td>MP 2015 999999</td>\n",
       "      <td>2015/01/01 01:13:52</td>\n",
       "      <td>THEFT</td>\n",
       "      <td>DOWNTOWN WEST</td>\n",
       "    </tr>\n",
       "    <tr>\n",
       "      <th>3</th>\n",
       "      <td>MP 2014 457244</td>\n",
       "      <td>2015/01/01 01:24:00</td>\n",
       "      <td>BURGD</td>\n",
       "      <td>MCKINLEY</td>\n",
       "    </tr>\n",
       "    <tr>\n",
       "      <th>4</th>\n",
       "      <td>MP 2015 000138</td>\n",
       "      <td>2015/01/01 01:40:00</td>\n",
       "      <td>BURGD</td>\n",
       "      <td>DIAMOND LAKE</td>\n",
       "    </tr>\n",
       "  </tbody>\n",
       "</table>\n",
       "</div>"
      ],
      "text/plain": [
       "       caseNumber         reportedDate offense   neighborhood\n",
       "0  MP 2014 457317  2015/01/01 00:04:59  AUTOTH         JORDAN\n",
       "1  MP 2014 457574  2015/01/01 00:16:00  AUTOTH   NEAR - NORTH\n",
       "2  MP 2015 999999  2015/01/01 01:13:52   THEFT  DOWNTOWN WEST\n",
       "3  MP 2014 457244  2015/01/01 01:24:00   BURGD       MCKINLEY\n",
       "4  MP 2015 000138  2015/01/01 01:40:00   BURGD   DIAMOND LAKE"
      ]
     },
     "execution_count": 10,
     "metadata": {},
     "output_type": "execute_result"
    }
   ],
   "source": [
    "yearjoins = [PI_pre18_final,PI_Last2Years_final]\n",
    "PI_Final = pd.concat(yearjoins)\n",
    "PI_Final.head(5)"
   ]
  },
  {
   "cell_type": "code",
   "execution_count": 11,
   "metadata": {},
   "outputs": [
    {
     "data": {
      "text/html": [
       "<div>\n",
       "<style scoped>\n",
       "    .dataframe tbody tr th:only-of-type {\n",
       "        vertical-align: middle;\n",
       "    }\n",
       "\n",
       "    .dataframe tbody tr th {\n",
       "        vertical-align: top;\n",
       "    }\n",
       "\n",
       "    .dataframe thead th {\n",
       "        text-align: right;\n",
       "    }\n",
       "</style>\n",
       "<table border=\"1\" class=\"dataframe\">\n",
       "  <thead>\n",
       "    <tr style=\"text-align: right;\">\n",
       "      <th></th>\n",
       "      <th>caseNumber</th>\n",
       "      <th>reportedDate</th>\n",
       "      <th>offense</th>\n",
       "      <th>neighborhood</th>\n",
       "    </tr>\n",
       "  </thead>\n",
       "  <tbody>\n",
       "    <tr>\n",
       "      <th>0</th>\n",
       "      <td>MP2014457317</td>\n",
       "      <td>2015/01/01 00:04:59</td>\n",
       "      <td>AUTOTH</td>\n",
       "      <td>JORDAN</td>\n",
       "    </tr>\n",
       "    <tr>\n",
       "      <th>1</th>\n",
       "      <td>MP2014457574</td>\n",
       "      <td>2015/01/01 00:16:00</td>\n",
       "      <td>AUTOTH</td>\n",
       "      <td>NEAR - NORTH</td>\n",
       "    </tr>\n",
       "    <tr>\n",
       "      <th>2</th>\n",
       "      <td>MP2015999999</td>\n",
       "      <td>2015/01/01 01:13:52</td>\n",
       "      <td>THEFT</td>\n",
       "      <td>DOWNTOWN WEST</td>\n",
       "    </tr>\n",
       "    <tr>\n",
       "      <th>3</th>\n",
       "      <td>MP2014457244</td>\n",
       "      <td>2015/01/01 01:24:00</td>\n",
       "      <td>BURGD</td>\n",
       "      <td>MCKINLEY</td>\n",
       "    </tr>\n",
       "    <tr>\n",
       "      <th>4</th>\n",
       "      <td>MP2015000138</td>\n",
       "      <td>2015/01/01 01:40:00</td>\n",
       "      <td>BURGD</td>\n",
       "      <td>DIAMOND LAKE</td>\n",
       "    </tr>\n",
       "  </tbody>\n",
       "</table>\n",
       "</div>"
      ],
      "text/plain": [
       "     caseNumber         reportedDate offense   neighborhood\n",
       "0  MP2014457317  2015/01/01 00:04:59  AUTOTH         JORDAN\n",
       "1  MP2014457574  2015/01/01 00:16:00  AUTOTH   NEAR - NORTH\n",
       "2  MP2015999999  2015/01/01 01:13:52   THEFT  DOWNTOWN WEST\n",
       "3  MP2014457244  2015/01/01 01:24:00   BURGD       MCKINLEY\n",
       "4  MP2015000138  2015/01/01 01:40:00   BURGD   DIAMOND LAKE"
      ]
     },
     "execution_count": 11,
     "metadata": {},
     "output_type": "execute_result"
    }
   ],
   "source": [
    "PI_Final['caseNumber'] = PI_Final['caseNumber'].str.replace(\" \",\"\")\n",
    "PI_Final.head(5)"
   ]
  },
  {
   "cell_type": "code",
   "execution_count": 12,
   "metadata": {},
   "outputs": [],
   "source": [
    "ID = PI_Final.index + 1"
   ]
  },
  {
   "cell_type": "code",
   "execution_count": 13,
   "metadata": {},
   "outputs": [],
   "source": [
    "PI_Final['ID']= ID"
   ]
  },
  {
   "cell_type": "code",
   "execution_count": 14,
   "metadata": {},
   "outputs": [
    {
     "data": {
      "text/html": [
       "<div>\n",
       "<style scoped>\n",
       "    .dataframe tbody tr th:only-of-type {\n",
       "        vertical-align: middle;\n",
       "    }\n",
       "\n",
       "    .dataframe tbody tr th {\n",
       "        vertical-align: top;\n",
       "    }\n",
       "\n",
       "    .dataframe thead th {\n",
       "        text-align: right;\n",
       "    }\n",
       "</style>\n",
       "<table border=\"1\" class=\"dataframe\">\n",
       "  <thead>\n",
       "    <tr style=\"text-align: right;\">\n",
       "      <th></th>\n",
       "      <th>caseNumber</th>\n",
       "      <th>reportedDate</th>\n",
       "      <th>offense</th>\n",
       "      <th>neighborhood</th>\n",
       "      <th>ID</th>\n",
       "    </tr>\n",
       "  </thead>\n",
       "  <tbody>\n",
       "    <tr>\n",
       "      <th>0</th>\n",
       "      <td>MP2014457317</td>\n",
       "      <td>2015/01/01 00:04:59</td>\n",
       "      <td>AUTOTH</td>\n",
       "      <td>JORDAN</td>\n",
       "      <td>1</td>\n",
       "    </tr>\n",
       "    <tr>\n",
       "      <th>1</th>\n",
       "      <td>MP2014457574</td>\n",
       "      <td>2015/01/01 00:16:00</td>\n",
       "      <td>AUTOTH</td>\n",
       "      <td>NEAR - NORTH</td>\n",
       "      <td>2</td>\n",
       "    </tr>\n",
       "    <tr>\n",
       "      <th>2</th>\n",
       "      <td>MP2015999999</td>\n",
       "      <td>2015/01/01 01:13:52</td>\n",
       "      <td>THEFT</td>\n",
       "      <td>DOWNTOWN WEST</td>\n",
       "      <td>3</td>\n",
       "    </tr>\n",
       "    <tr>\n",
       "      <th>3</th>\n",
       "      <td>MP2014457244</td>\n",
       "      <td>2015/01/01 01:24:00</td>\n",
       "      <td>BURGD</td>\n",
       "      <td>MCKINLEY</td>\n",
       "      <td>4</td>\n",
       "    </tr>\n",
       "    <tr>\n",
       "      <th>4</th>\n",
       "      <td>MP2015000138</td>\n",
       "      <td>2015/01/01 01:40:00</td>\n",
       "      <td>BURGD</td>\n",
       "      <td>DIAMOND LAKE</td>\n",
       "      <td>5</td>\n",
       "    </tr>\n",
       "  </tbody>\n",
       "</table>\n",
       "</div>"
      ],
      "text/plain": [
       "     caseNumber         reportedDate offense   neighborhood  ID\n",
       "0  MP2014457317  2015/01/01 00:04:59  AUTOTH         JORDAN   1\n",
       "1  MP2014457574  2015/01/01 00:16:00  AUTOTH   NEAR - NORTH   2\n",
       "2  MP2015999999  2015/01/01 01:13:52   THEFT  DOWNTOWN WEST   3\n",
       "3  MP2014457244  2015/01/01 01:24:00   BURGD       MCKINLEY   4\n",
       "4  MP2015000138  2015/01/01 01:40:00   BURGD   DIAMOND LAKE   5"
      ]
     },
     "execution_count": 14,
     "metadata": {},
     "output_type": "execute_result"
    }
   ],
   "source": [
    "PI_Final.head(5)"
   ]
  },
  {
   "cell_type": "code",
   "execution_count": 29,
   "metadata": {},
   "outputs": [],
   "source": [
    "PI_Final.to_csv(\"target_files/Police_Incidents.csv\", index=False, header=True)"
   ]
  }
 ],
 "metadata": {
  "kernelspec": {
   "display_name": "Python 3",
   "language": "python",
   "name": "python3"
  },
  "language_info": {
   "codemirror_mode": {
    "name": "ipython",
    "version": 3
   },
   "file_extension": ".py",
   "mimetype": "text/x-python",
   "name": "python",
   "nbconvert_exporter": "python",
   "pygments_lexer": "ipython3",
   "version": "3.6.10"
  }
 },
 "nbformat": 4,
 "nbformat_minor": 4
}
